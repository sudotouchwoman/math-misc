{
  "cells": [
    {
      "cell_type": "markdown",
      "metadata": {
        "id": "view-in-github",
        "colab_type": "text"
      },
      "source": [
        "<a href=\"https://colab.research.google.com/github/sudotouchwoman/math-misc/blob/main/notebooks/MLP.ipynb\" target=\"_parent\"><img src=\"https://colab.research.google.com/assets/colab-badge.svg\" alt=\"Open In Colab\"/></a>"
      ]
    },
    {
      "cell_type": "code",
      "execution_count": null,
      "metadata": {
        "colab": {
          "base_uri": "https://localhost:8080/"
        },
        "id": "8yEl9s1DbPO8",
        "outputId": "37aa3e21-aab7-4bd4-99d2-3528345e7ac8"
      },
      "outputs": [
        {
          "data": {
            "text/plain": [
              "{'divide': 'warn', 'invalid': 'warn', 'over': 'warn', 'under': 'ignore'}"
            ]
          },
          "execution_count": 1,
          "metadata": {},
          "output_type": "execute_result"
        }
      ],
      "source": [
        "import os\n",
        "\n",
        "import numpy as np\n",
        "import pandas as pd\n",
        "from sklearn.model_selection import train_test_split\n",
        "\n",
        "import matplotlib.pyplot as plt\n",
        "import seaborn as sns\n",
        "import plotly.express as px\n",
        "from tqdm import tqdm\n",
        "\n",
        "sns.set()\n",
        "np.seterr(all='raise')"
      ]
    },
    {
      "cell_type": "code",
      "execution_count": null,
      "metadata": {
        "colab": {
          "base_uri": "https://localhost:8080/"
        },
        "id": "GtKaYIR1epre",
        "outputId": "301620ec-4b17-45ee-bc9a-8aefc34b1ba5"
      },
      "outputs": [
        {
          "name": "stdout",
          "output_type": "stream",
          "text": [
            "Added Token\n"
          ]
        }
      ],
      "source": [
        "!mkdir /root/.kaggle\n",
        "add_kaggle_token()\n",
        "!chmod 600 /root/.kaggle/kaggle.json"
      ]
    },
    {
      "cell_type": "code",
      "execution_count": null,
      "metadata": {
        "colab": {
          "base_uri": "https://localhost:8080/"
        },
        "id": "a2ncZCLFeueW",
        "outputId": "6e35282b-7bf8-4e1d-bf78-17ae3faccbbd"
      },
      "outputs": [
        {
          "name": "stdout",
          "output_type": "stream",
          "text": [
            "Found existing installation: kaggle 1.5.12\n",
            "Uninstalling kaggle-1.5.12:\n",
            "  Successfully uninstalled kaggle-1.5.12\n",
            "Requirement already satisfied: pip in /usr/local/lib/python3.7/dist-packages (21.1.3)\n",
            "Collecting pip\n",
            "  Downloading pip-22.0.3-py3-none-any.whl (2.1 MB)\n",
            "\u001b[K     |████████████████████████████████| 2.1 MB 9.0 MB/s \n",
            "\u001b[?25hInstalling collected packages: pip\n",
            "  Attempting uninstall: pip\n",
            "    Found existing installation: pip 21.1.3\n",
            "    Uninstalling pip-21.1.3:\n",
            "      Successfully uninstalled pip-21.1.3\n",
            "Successfully installed pip-22.0.3\n",
            "Collecting kaggle==1.5.12\n",
            "  Downloading kaggle-1.5.12.tar.gz (58 kB)\n",
            "\u001b[2K     \u001b[90m━━━━━━━━━━━━━━━━━━━━━━━━━━━━━━━━━━━━━━━━\u001b[0m \u001b[32m59.0/59.0 KB\u001b[0m \u001b[31m5.8 MB/s\u001b[0m eta \u001b[36m0:00:00\u001b[0m\n",
            "\u001b[?25h  Preparing metadata (setup.py) ... \u001b[?25l\u001b[?25hdone\n",
            "Requirement already satisfied: six>=1.10 in /usr/local/lib/python3.7/dist-packages (from kaggle==1.5.12) (1.15.0)\n",
            "Requirement already satisfied: certifi in /usr/local/lib/python3.7/dist-packages (from kaggle==1.5.12) (2021.10.8)\n",
            "Requirement already satisfied: python-dateutil in /usr/local/lib/python3.7/dist-packages (from kaggle==1.5.12) (2.8.2)\n",
            "Requirement already satisfied: requests in /usr/local/lib/python3.7/dist-packages (from kaggle==1.5.12) (2.23.0)\n",
            "Requirement already satisfied: tqdm in /usr/local/lib/python3.7/dist-packages (from kaggle==1.5.12) (4.62.3)\n",
            "Requirement already satisfied: python-slugify in /usr/local/lib/python3.7/dist-packages (from kaggle==1.5.12) (6.0.1)\n",
            "Requirement already satisfied: urllib3 in /usr/local/lib/python3.7/dist-packages (from kaggle==1.5.12) (1.24.3)\n",
            "Requirement already satisfied: text-unidecode>=1.3 in /usr/local/lib/python3.7/dist-packages (from python-slugify->kaggle==1.5.12) (1.3)\n",
            "Requirement already satisfied: chardet<4,>=3.0.2 in /usr/local/lib/python3.7/dist-packages (from requests->kaggle==1.5.12) (3.0.4)\n",
            "Requirement already satisfied: idna<3,>=2.5 in /usr/local/lib/python3.7/dist-packages (from requests->kaggle==1.5.12) (2.10)\n",
            "Building wheels for collected packages: kaggle\n",
            "  Building wheel for kaggle (setup.py) ... \u001b[?25l\u001b[?25hdone\n",
            "  Created wheel for kaggle: filename=kaggle-1.5.12-py3-none-any.whl size=73051 sha256=63672b596b7a7487811d9e4193934017b4078e59beeb423d4b46ed2a57ac17ad\n",
            "  Stored in directory: /root/.cache/pip/wheels/62/d6/58/5853130f941e75b2177d281eb7e44b4a98ed46dd155f556dc5\n",
            "Successfully built kaggle\n",
            "Installing collected packages: kaggle\n",
            "Successfully installed kaggle-1.5.12\n",
            "\u001b[33mWARNING: Running pip as the 'root' user can result in broken permissions and conflicting behaviour with the system package manager. It is recommended to use a virtual environment instead: https://pip.pypa.io/warnings/venv\u001b[0m\u001b[33m\n",
            "\u001b[0m"
          ]
        }
      ],
      "source": [
        "!pip uninstall -y kaggle\n",
        "!pip install --upgrade pip\n",
        "!pip install kaggle==1.5.12"
      ]
    },
    {
      "cell_type": "code",
      "execution_count": null,
      "metadata": {
        "colab": {
          "base_uri": "https://localhost:8080/"
        },
        "id": "JeEGtu6FfGaH",
        "outputId": "e8e5e9c4-ad41-45c1-92e4-b63c37992b72"
      },
      "outputs": [
        {
          "name": "stdout",
          "output_type": "stream",
          "text": [
            "Downloading mgtu-2022-spring-dz1.zip to /content\n",
            " 61% 18.0M/29.6M [00:00<00:00, 26.7MB/s]\n",
            "100% 29.6M/29.6M [00:00<00:00, 46.7MB/s]\n"
          ]
        }
      ],
      "source": [
        "!kaggle competitions download -c mgtu-2022-spring-dz1"
      ]
    },
    {
      "cell_type": "code",
      "execution_count": null,
      "metadata": {
        "colab": {
          "base_uri": "https://localhost:8080/"
        },
        "id": "_fuzn0c0fDPH",
        "outputId": "2aa7fbdf-c495-48f8-81bc-dc334e85459a"
      },
      "outputs": [
        {
          "name": "stdout",
          "output_type": "stream",
          "text": [
            "Archive:  mgtu-2022-spring-dz1.zip\n",
            "  inflating: dz_fashion_mnist_stud.ipynb  \n",
            "  inflating: sample_solution.csv     \n",
            "  inflating: x_test.npy              \n",
            "  inflating: x_train.npy             \n",
            "  inflating: y_train.npy             \n",
            "dz_fashion_mnist_stud.ipynb  sample_solution.csv  x_train.npy\n",
            "sample_data\t\t     x_test.npy\t\t  y_train.npy\n"
          ]
        }
      ],
      "source": [
        "!unzip mgtu-2022-spring-dz1.zip\n",
        "!rm mgtu-2022-spring-dz1.zip\n",
        "!ls"
      ]
    },
    {
      "cell_type": "markdown",
      "metadata": {
        "id": "rTeTgv2edIlJ"
      },
      "source": [
        "## Base classes\n",
        "\n",
        "These include `Layer`, `F`, `Loss` and `Optimizer` and are inspired by `PyTorch` architecture\n",
        "\n",
        "Multi-class classification task requires cross-entropy loss function, implemented in `CrossEntropy` class"
      ]
    },
    {
      "cell_type": "code",
      "execution_count": null,
      "metadata": {
        "id": "qlgLdx97dHLT"
      },
      "outputs": [],
      "source": [
        "from abc import ABC\n",
        "\n",
        "\n",
        "class Optimizer(ABC):\n",
        "\n",
        "  def __call__(self, *args, **kwargs):\n",
        "    raise NotImplementedError\n",
        "\n",
        "# BASE LAYER CLASS\n",
        "\n",
        "class Layer(ABC):\n",
        "\n",
        "  def __init__(self, is_trainable=False, optim=Optimizer) -> None:\n",
        "    self.is_trainable = is_trainable\n",
        "    self.optim = optim()\n",
        "\n",
        "\n",
        "  def forward(self, *args, **kwargs):\n",
        "    raise NotImplementedError\n",
        "\n",
        "\n",
        "  def backward(self, *args, **kwargs):\n",
        "    raise NotImplementedError\n",
        "\n",
        "  \n",
        "  def step(self):\n",
        "    raise NotImplementedError\n",
        "\n",
        "  \n",
        "  def __call__(self, *args, **kwargs):\n",
        "    return self.forward(*args, **kwargs)\n",
        "\n",
        "\n",
        "class Loss(Layer):\n",
        "\n",
        "  def __init__(self):\n",
        "    pass"
      ]
    },
    {
      "cell_type": "code",
      "execution_count": null,
      "metadata": {
        "id": "NEscDjNodHFZ"
      },
      "outputs": [],
      "source": [
        "# THE CE LOSS USED IN CLASSIFICATION\n",
        "class CrossEntropy(Loss):\n",
        "\n",
        "  def forward(self, y_true, y_hat):\n",
        "    self.y_true = y_true\n",
        "    self.y_hat = y_hat\n",
        "    return -np.sum(y_true * np.log(y_hat))\n",
        "\n",
        "\n",
        "  def backward(self, dz=1.0):\n",
        "        return dz * -1. * self.y_true / (self.y_hat)\n",
        "\n",
        "\n",
        "# SIMPLE OPTIMIZER WITH FIXED LEARNING RATE\n",
        "class FixedLR(Optimizer):\n",
        "\n",
        "  def __init__(self, lr=1e-3, dr=.9) -> None:\n",
        "    self.lr = lr\n",
        "\n",
        "\n",
        "  def __call__(self, old_weights, grad):\n",
        "    return old_weights - self.lr * grad\n",
        "\n",
        "\n",
        "def make_optimizer_template(lr=1e-3, dr=.99, t=10, rho=.0):\n",
        "\n",
        "  def _wrapfunc():\n",
        "\n",
        "    class Optimizer_Template(Optimizer):\n",
        "\n",
        "      def __init__(self, learning_rate, decay_rate, decay_period, momentum):\n",
        "        self.lr = learning_rate\n",
        "        self.dr = decay_rate\n",
        "        self.t = decay_period\n",
        "        self.momentum = momentum\n",
        "        self.iters = 0\n",
        "        self.dw = None\n",
        "\n",
        "\n",
        "      def __call__(self, old_weights, grad):\n",
        "        # this is my implementation of SGD:\n",
        "        # select the initial learning rate,\n",
        "        # decay rate and number of steps required for a single lr step\n",
        "        # also parameter momentum, the momentum constant\n",
        "        if self.dw is None: self.dw = np.zeros_like(old_weights)\n",
        "        self.iters += 1\n",
        "\n",
        "        if self.iters == self.t:\n",
        "          self.lr *= self.dr\n",
        "          self.iters = 0\n",
        "\n",
        "        momentum = self.momentum * self.dw\n",
        "        gradient_step = self.lr * grad\n",
        "\n",
        "        self.dw = gradient_step + momentum\n",
        "\n",
        "        return old_weights - self.dw\n",
        "\n",
        "    return Optimizer_Template(lr, dr, t, rho)\n",
        "\n",
        "  return _wrapfunc"
      ]
    },
    {
      "cell_type": "code",
      "execution_count": null,
      "metadata": {
        "id": "Uein1TOIfIVK"
      },
      "outputs": [],
      "source": [
        "# BASE CLASS FOR ALL FUNCTIONS\n",
        "class F(Layer):\n",
        "\n",
        "  def __init__(self) -> None:\n",
        "    super().__init__(is_trainable=False, optim=Optimizer)\n",
        "\n",
        "\n",
        "class ReLU(F):\n",
        "\n",
        "  def __init__(self, slope=0.0):\n",
        "    super().__init__()\n",
        "    self.slope = slope\n",
        "\n",
        "\n",
        "  def forward(self, X):\n",
        "    X = np.asarray(X)\n",
        "    self._x = X\n",
        "    return np.maximum(X*self.slope, X)\n",
        "\n",
        "\n",
        "  def backward(self, dz):\n",
        "    dz = np.asarray(dz)\n",
        "    dz[self._x < 0] = self.slope\n",
        "    return dz\n",
        "\n",
        "\n",
        "class Softmax(F):\n",
        "\n",
        "  def __init__(self, T=1.0):\n",
        "    super().__init__()\n",
        "    self.T = T\n",
        "\n",
        "\n",
        "  def forward(self, X):\n",
        "    X = np.asarray(X)\n",
        "    X /= self.T\n",
        "    exps = np.exp(X)\n",
        "\n",
        "    self._x = X\n",
        "    self._out = exps / np.sum(exps)\n",
        "    return self._out\n",
        "\n",
        "\n",
        "  def backward(self, dz):\n",
        "    dz = np.asarray(dz)\n",
        "\n",
        "    out = self._out\n",
        "    x = self._x\n",
        "\n",
        "    lp = (np.eye(out.shape[0], out.shape[0]) - out).T\n",
        "    lp2 = out * lp\n",
        "\n",
        "    return dz @ lp2"
      ]
    },
    {
      "cell_type": "code",
      "execution_count": null,
      "metadata": {
        "id": "qUHQOxQEfIRz"
      },
      "outputs": [],
      "source": [
        "# DENSE OR FF LAYER - THE MAIN BUILDING BLOCK\n",
        "class Dense(Layer):\n",
        "\n",
        "  def __init__(\n",
        "      self,\n",
        "      in_size: int,\n",
        "      out_size: int,\n",
        "      weights_init=None,\n",
        "      random_seed=42,\n",
        "      optim=Optimizer,\n",
        "      is_trainable=True\n",
        "      ):\n",
        "\n",
        "    self.W_optim = optim()\n",
        "    self.b_optim = optim()\n",
        "    self.is_trainable = is_trainable\n",
        "\n",
        "    if not weights_init:\n",
        "      np.random.seed(random_seed)\n",
        "      self.W = np.random.normal(scale=.1, size=(out_size, in_size))\n",
        "      self.b = np.random.normal(scale=.1, size=(out_size))\n",
        "    else:\n",
        "      self.W = weights_init(out_size, in_size)\n",
        "      self.b = weights_init(out_size)\n",
        "\n",
        "    self.zero_grad()\n",
        "\n",
        "\n",
        "  def forward(self, X):\n",
        "    X = np.asarray(X)\n",
        "    self._x = X\n",
        "    return self.W @ X + self.b\n",
        "\n",
        "\n",
        "  def backward(self, dz):\n",
        "    dz = np.asarray(dz)\n",
        "    dx = dz @ self.W\n",
        "\n",
        "    self.dx = dx\n",
        "    self.dW += np.outer(dz, self._x)\n",
        "    self.db += dz\n",
        "    self.iters += 1\n",
        "\n",
        "    return dx\n",
        "\n",
        "\n",
        "  def zero_grad(self):\n",
        "    self.dW = np.zeros_like(self.W)\n",
        "    self.db = np.zeros_like(self.b)\n",
        "    self.iters = 0\n",
        "\n",
        "\n",
        "  def step(self):\n",
        "    n = self.iters\n",
        "    if n is 0: raise RuntimeError\n",
        "\n",
        "    self.W = self.W_optim(old_weights=self.W, grad=self.dW / n)\n",
        "    self.b = self.b_optim(old_weights=self.b, grad=self.db / n)\n",
        "    self.zero_grad()"
      ]
    },
    {
      "cell_type": "markdown",
      "metadata": {
        "id": "VhCyZokNPmI2"
      },
      "source": [
        "The sequential layer class is a nooby version of `Sequential` layers existing in real DL frameworks. Like `<div>` in `HTML`, it is represented by its contents. Here I use it to create a feed-forward network"
      ]
    },
    {
      "cell_type": "code",
      "execution_count": null,
      "metadata": {
        "id": "OppCJvYfon7g"
      },
      "outputs": [],
      "source": [
        "class Sequential(Layer):\n",
        "\n",
        "  def __init__(self, *layers: Layer, optim=Optimizer):\n",
        "    super().__init__(optim=optim, is_trainable=True)\n",
        "    self.net = [layer for layer in layers]\n",
        "\n",
        "\n",
        "  def forward(self, X):\n",
        "    X = np.asarray(X)\n",
        "    for layer in self.net:\n",
        "      X = layer(X)\n",
        "    return X\n",
        "\n",
        "\n",
        "  def backward(self, dz):\n",
        "    dz = np.asarray(dz)\n",
        "    for layer in self.net[::-1]:\n",
        "      dz = layer.backward(dz)    \n",
        "    return dz\n",
        "\n",
        "\n",
        "  def step(self):\n",
        "    for layer in self.net:\n",
        "      if not layer.is_trainable: continue\n",
        "      layer.step()"
      ]
    },
    {
      "cell_type": "markdown",
      "metadata": {
        "id": "4TGjyFDWPLTj"
      },
      "source": [
        "## Running tests from the lecture\n",
        "\n",
        "In this section I make sure that my implementations work correctly like the one presented on the lecture\n",
        "\n",
        "The only difference is that my layers accumulate gradients thus the `step()` method must be called explicitly either during training or inside `backward()` method of your handmade networks (see `IdentityNet` and `XorNet` below)"
      ]
    },
    {
      "cell_type": "code",
      "execution_count": null,
      "metadata": {
        "colab": {
          "base_uri": "https://localhost:8080/"
        },
        "id": "poKYhiDXjfDz",
        "outputId": "21ff3aa2-32ba-46bd-9957-0d76f62d5a8a"
      },
      "outputs": [
        {
          "name": "stdout",
          "output_type": "stream",
          "text": [
            "z =  [1.22 0.76] must be [1.22 0.76] diff =  [0. 0.]\n",
            "dx =  [-0.112  0.636] must be [-0.112  0.636] diff =  [1.38777878e-17 0.00000000e+00]\n",
            "W\n",
            " [[ 0.1  0.5]\n",
            " [-0.3  0.8]]\n",
            "dW:\n",
            " [[0.088 0.176]\n",
            " [0.104 0.208]]\n",
            "db:\n",
            " [0.44 0.52]\n",
            "dx:\n",
            " [-0.112  0.636]\n"
          ]
        }
      ],
      "source": [
        "d = Dense(2, 2)\n",
        "x = np.array([0.2, 0.4])\n",
        "d.W = np.array([[0.1, 0.5], [-0.3, 0.8]])\n",
        "d.b = np.array([1, 0.5])\n",
        "dz = np.array([0.44, 0.52])\n",
        "\n",
        "z = d.forward(x)\n",
        "z_orig = np.array([1.22, 0.76])\n",
        "print('z = ',z, 'must be', z_orig, 'diff = ', z-z_orig)\n",
        "\n",
        "dx = d.backward(dz)\n",
        "dx_orig = np.array([-0.112, 0.636])\n",
        "print('dx = ', dx, 'must be', dx_orig, 'diff = ', dx-dx_orig)\n",
        "\n",
        "print('W\\n', d.W)\n",
        "print('dW:\\n', d.dW)\n",
        "print('db:\\n', d.db)\n",
        "print('dx:\\n', d.dx)"
      ]
    },
    {
      "cell_type": "code",
      "execution_count": null,
      "metadata": {
        "colab": {
          "base_uri": "https://localhost:8080/"
        },
        "id": "a2x8ZxxJjfBc",
        "outputId": "aada2bf6-910a-437d-9e3a-4cfdbf24fdd6"
      },
      "outputs": [
        {
          "name": "stdout",
          "output_type": "stream",
          "text": [
            "(2,) must be (2,)\n",
            "(3,) must be (3,)\n"
          ]
        }
      ],
      "source": [
        "# Проверяем, что размерности соблюдаются правильно\n",
        "d = Dense(3, 2)\n",
        "x = np.array([0.1, 0.2, 0.3])\n",
        "r = d.forward(x)\n",
        "print(r.shape, 'must be', (2,))\n",
        "dz = np.array([0.4, 0.5])\n",
        "dz = d.backward(dz)\n",
        "print(dz.shape, 'must be', (3,))"
      ]
    },
    {
      "cell_type": "code",
      "execution_count": null,
      "metadata": {
        "colab": {
          "base_uri": "https://localhost:8080/"
        },
        "id": "p3AEX_u-fIPO",
        "outputId": "bd5a2086-48fa-4050-d25c-1b91bf3b4b77"
      },
      "outputs": [
        {
          "name": "stdout",
          "output_type": "stream",
          "text": [
            "[0.5005 0.4995]\n",
            "dz [ 0.4999995 -0.4999995]\n",
            "[[ 0.4995 -0.5005]\n",
            " [-0.4995  0.5005]]\n",
            "[[ 0.24999975 -0.24999975]\n",
            " [-0.24999975  0.24999975]]\n"
          ]
        }
      ],
      "source": [
        "# Код для проверки\n",
        "x = np.array([0.001, -0.001])\n",
        "s = Softmax()\n",
        "sm = s.forward(x)\n",
        "print(sm)\n",
        "dz = np.array([0, -2.])\n",
        "print('dz', s.backward(dz))\n",
        "print(s.lp)\n",
        "print(s.lp2)"
      ]
    },
    {
      "cell_type": "code",
      "execution_count": null,
      "metadata": {
        "id": "tENFopiifIMR"
      },
      "outputs": [],
      "source": [
        "X = np.array([[1., 0],\n",
        "              [0,  1.]])\n",
        "Y = np.array([[1., 0],\n",
        "              [0,  1.]])"
      ]
    },
    {
      "cell_type": "code",
      "execution_count": null,
      "metadata": {
        "id": "F8kQ2WmFk3-6"
      },
      "outputs": [],
      "source": [
        "class IdentityNet(Layer):\n",
        "\n",
        "    def __init__(self):\n",
        "        self.d = Dense(2, 2, optim=FixedLR(lr=1e-1))\n",
        "        self.s = Softmax()\n",
        "        \n",
        "    def forward(self, x):\n",
        "        self.x = x\n",
        "        net = self.d.forward(x)\n",
        "        net = self.s.forward(net)\n",
        "        return net\n",
        "    \n",
        "    def backward(self, dz, lr=0.001):\n",
        "        dz = self.s.backward(dz)\n",
        "        dz = self.d.backward(dz)\n",
        "        self.d.step()\n",
        "        return dz"
      ]
    },
    {
      "cell_type": "code",
      "execution_count": null,
      "metadata": {
        "colab": {
          "base_uri": "https://localhost:8080/",
          "height": 285
        },
        "id": "9IEqfdc1k38k",
        "outputId": "2f0d93a5-7d0a-4038-8df8-f415cb2c7961"
      },
      "outputs": [
        {
          "name": "stdout",
          "output_type": "stream",
          "text": [
            "[0.94882215 0.05117785] [0.05043419 0.94956581]\n"
          ]
        },
        {
          "data": {
            "image/png": "[encoded data removed]",
            "text/plain": [
              "<Figure size 432x288 with 1 Axes>"
            ]
          },
          "metadata": {},
          "output_type": "display_data"
        }
      ],
      "source": [
        "net = IdentityNet()\n",
        "L_iter = []\n",
        "\n",
        "# Инициализируем loss, его удобнее хранить в теле обучения\n",
        "loss = CrossEntropy() \n",
        "for iter in range(100): # эпохи = полный проход по датасету\n",
        "    L_acc = 0.\n",
        "    for i in range(X.shape[0]):\n",
        "        x = X[i]\n",
        "        y = Y[i]\n",
        "        y_h = net(x)\n",
        "        L = loss(y, net(x))\n",
        "        L_acc += L\n",
        "        dz = loss.backward()\n",
        "        net.backward(dz)\n",
        "    L_iter.append(L_acc) # коллекционируем loss\n",
        "plt.plot(L_iter) # посмотрим на кривую обучения\n",
        "print( net(X[0]), net(X[1])) # проверим глазами, что обучились"
      ]
    },
    {
      "cell_type": "code",
      "execution_count": null,
      "metadata": {
        "id": "rZSsmG77pPa5"
      },
      "outputs": [],
      "source": [
        "X = np.array([[-1, -1],\n",
        "              [1, -1],\n",
        "              [-1, 1],\n",
        "              [1, 1]], dtype='float')\n",
        "\n",
        "Y = np.array([[1, 0],\n",
        "              [0, 1],\n",
        "              [0, 1],\n",
        "              [1, 0]], dtype='float')\n"
      ]
    },
    {
      "cell_type": "code",
      "execution_count": null,
      "metadata": {
        "id": "2rw_B15rpSyV"
      },
      "outputs": [],
      "source": [
        "class XorNet(Layer):\n",
        "\n",
        "  def __init__(self):\n",
        "    optim = FixedLR(lr=1e-1)\n",
        "\n",
        "    self.nn = Sequential(\n",
        "        Dense(2, 10, optim=optim),\n",
        "        ReLU(),\n",
        "        Dense(10, 2, optim=optim),\n",
        "        Softmax()\n",
        "    )\n",
        "\n",
        "  \n",
        "  def forward(self, X):\n",
        "    X = np.asarray(X)\n",
        "    return self.nn(X)\n",
        "\n",
        "\n",
        "  def backward(self, dz):\n",
        "    dz = np.asarray(dz)\n",
        "    self.nn.backward(dz)\n",
        "    self.nn.step()"
      ]
    },
    {
      "cell_type": "code",
      "execution_count": null,
      "metadata": {
        "colab": {
          "base_uri": "https://localhost:8080/",
          "height": 340
        },
        "id": "DhJvIeXepSvD",
        "outputId": "35e124a5-c78b-41f0-e97d-f4c363631fea"
      },
      "outputs": [
        {
          "name": "stdout",
          "output_type": "stream",
          "text": [
            "[0.99008427 0.00991573] [1. 0.]\n",
            "[0.04083389 0.95916611] [0. 1.]\n",
            "[0.03841577 0.96158423] [0. 1.]\n",
            "[0.9905189 0.0094811] [1. 0.]\n"
          ]
        },
        {
          "data": {
            "image/png": "[encoded data removed]",
            "text/plain": [
              "<Figure size 432x288 with 1 Axes>"
            ]
          },
          "metadata": {},
          "output_type": "display_data"
        }
      ],
      "source": [
        "net = XorNet()\n",
        "\n",
        "loss = CrossEntropy()\n",
        "L_iter = []\n",
        "for iter in range(100):\n",
        "    L_acc = 0.\n",
        "    for i in range(X.shape[0]):\n",
        "        x = X[i]\n",
        "        y = Y[i]\n",
        "        y_h = net(x)\n",
        "        L = loss(y, y_h)\n",
        "        L_acc += L\n",
        "        dz = loss.backward()\n",
        "        net.backward(dz)\n",
        "    L_iter.append(L_acc)\n",
        "plt.plot(L_iter)\n",
        "for i in range(4):\n",
        "    print(net(X[i]), Y[i])"
      ]
    },
    {
      "cell_type": "markdown",
      "metadata": {
        "id": "n2edHqjVeS1O"
      },
      "source": [
        "## Evaluating the Fashion MNIST model"
      ]
    },
    {
      "cell_type": "code",
      "execution_count": null,
      "metadata": {
        "id": "FhEi3v7zon36"
      },
      "outputs": [],
      "source": [
        "class FashionMNIST(Layer):\n",
        "\n",
        "  def __init__(self, optim):\n",
        "    self.nn = Sequential(\n",
        "         Dense(28*28, 100, optim=optim),\n",
        "         ReLU(),\n",
        "         Dense(100, 20, optim=optim),\n",
        "         ReLU(),\n",
        "         Dense(20, 10, optim=optim),\n",
        "         Softmax()\n",
        "    )\n",
        "\n",
        "\n",
        "  def forward(self, X):\n",
        "    return self.nn(X)\n",
        "\n",
        "\n",
        "  def backward(self, dz):\n",
        "    return self.nn.backward(dz)\n",
        "\n",
        "\n",
        "  def step(self):\n",
        "    self.nn.step()"
      ]
    },
    {
      "cell_type": "code",
      "execution_count": null,
      "metadata": {
        "id": "srL8t-tGquCY"
      },
      "outputs": [],
      "source": [
        "from sklearn.utils import shuffle as shuffle\n",
        "\n",
        "def train_test_model(model: Layer, criterion: Loss, X_train, X_test, Y_train, Y_test, epochs=10, batch_size=20, verbose=False, resample=True):\n",
        "\n",
        "  train_losses, test_losses = [], []\n",
        "  train_acc, test_acc = [], []\n",
        "  train_samples, test_samples = len(Y_train), len(Y_test)\n",
        "\n",
        "  for epoch in tqdm(range(epochs)):\n",
        "\n",
        "      error_train, error_test = 0.0, 0.0\n",
        "      train_epoch_acc, test_epoch_acc = 0.0, 0.0\n",
        "      samples_seen = 0\n",
        "\n",
        "      # resample the training data to avoid additional biasing\n",
        "      if resample:\n",
        "        X_train, Y_train = shuffle(X_train, Y_train, random_state=epoch)\n",
        "\n",
        "      # iterate over the training data\n",
        "      for sample, label in zip(X_train, Y_train):\n",
        "\n",
        "        # get the model's prediction to compute loss and accuracy\n",
        "        pred = model(sample)\n",
        "\n",
        "        error_train += criterion(label, pred)\n",
        "        train_epoch_acc += np.argmax(pred) == np.argmax(label)\n",
        "\n",
        "        # perform the backward pass\n",
        "        grad = criterion.backward()\n",
        "        model.backward(grad)\n",
        "\n",
        "        # make step if only the batch was seen entirely\n",
        "        if samples_seen < batch_size:\n",
        "          samples_seen += 1\n",
        "          continue\n",
        "\n",
        "        model.step()\n",
        "        samples_seen = 0\n",
        "\n",
        "      for sample, label in zip(X_test, Y_test):\n",
        "\n",
        "        # iterate over the test data to check the\n",
        "        # error and accuracy score and avoid overfitting\n",
        "        pred = model(sample)\n",
        "        error_test += criterion(label, pred)\n",
        "        test_epoch_acc += np.argmax(pred) == np.argmax(label)\n",
        "\n",
        "      if verbose:\n",
        "        print(f'\\n[{epoch + 1}/{epochs}]::[Train Loss {error_train / train_samples:6f}]::[Train Accuracy {train_epoch_acc / train_samples:6f}]')\n",
        "        print(f'[{epoch + 1}/{epochs}]::[Test Loss {error_test / test_samples:6f}]::[Test Accuracy {test_epoch_acc / test_samples:6f}]')\n",
        "\n",
        "      # save the epoch metrics\n",
        "      train_losses.append(error_train / train_samples)\n",
        "      test_losses.append(error_test / test_samples)\n",
        "\n",
        "      train_acc.append(train_epoch_acc / train_samples)\n",
        "      test_acc.append(test_epoch_acc / test_samples)\n",
        "\n",
        "  return train_losses, test_losses, train_acc, test_acc"
      ]
    },
    {
      "cell_type": "code",
      "execution_count": null,
      "metadata": {
        "colab": {
          "base_uri": "https://localhost:8080/"
        },
        "id": "qSE3ewiQGb4f",
        "outputId": "35899f9b-b1a7-495f-fb1b-deb3157eb637"
      },
      "outputs": [
        {
          "name": "stdout",
          "output_type": "stream",
          "text": [
            "dz_fashion_mnist_stud.ipynb  sample_solution.csv  x_train.npy\n",
            "sample_data\t\t     x_test.npy\t\t  y_train.npy\n"
          ]
        }
      ],
      "source": [
        "!ls"
      ]
    },
    {
      "cell_type": "code",
      "execution_count": null,
      "metadata": {
        "id": "nUf4-ckaGQhC"
      },
      "outputs": [],
      "source": [
        "NUM_LABELS = 10\n",
        "SEED = 42\n",
        "INPUT_DIR = \".\" # путь до данных для обучения\n",
        "OUTPUT_FNAME = \"submission.csv\" # здесь должно быть записано имя выходного файла с ответами модели\n",
        "CLS_LIST = [\"T-shirt/top\", \"Trouser\", \"Pullover\", \"Dress\", \"Coat\", \"Sandal\", \"Shirt\", \"Sneaker\", \"Bag\", \"Ankle boot\"]"
      ]
    },
    {
      "cell_type": "code",
      "execution_count": null,
      "metadata": {
        "id": "TRUJKQIzGD8N"
      },
      "outputs": [],
      "source": [
        "train_imgs = np.load(f\"{INPUT_DIR}/x_train.npy\")\n",
        "train_classes = np.load(f\"{INPUT_DIR}/y_train.npy\")\n",
        "test_imgs = np.load(f\"{INPUT_DIR}/x_test.npy\")"
      ]
    },
    {
      "cell_type": "code",
      "execution_count": null,
      "metadata": {
        "id": "uPovXFMmmmbQ"
      },
      "outputs": [],
      "source": [
        "from sklearn.preprocessing import OneHotEncoder\n",
        "\n",
        "OhE = OneHotEncoder(categories='auto', sparse=False)\n",
        "encoded_y = OhE.fit_transform(train_classes.reshape(-1, 1))"
      ]
    },
    {
      "cell_type": "code",
      "execution_count": null,
      "metadata": {
        "id": "i96TiBQQRKbF"
      },
      "outputs": [],
      "source": [
        "normalize = lambda x: x / 255\n",
        "# normalize = lambda x: (x - x.mean()) / x.std()\n",
        "\n",
        "train_imgs = normalize(train_imgs)\n",
        "test_imgs = normalize(test_imgs)"
      ]
    },
    {
      "cell_type": "code",
      "execution_count": null,
      "metadata": {
        "colab": {
          "base_uri": "https://localhost:8080/",
          "height": 482
        },
        "id": "2Z07hcYFGpSt",
        "outputId": "b0867a5a-7432-4615-8eba-57d6e9ff9d1c"
      },
      "outputs": [
        {
          "data": {
            "image/png": "[encoded data removed]",
            "text/plain": [
              "<Figure size 576x576 with 16 Axes>"
            ]
          },
          "metadata": {},
          "output_type": "display_data"
        }
      ],
      "source": [
        "# check out some samples from the dataset\n",
        "plt.figure(figsize=(8,8))\n",
        "np.random.seed(SEED)\n",
        "num_rc = 4\n",
        "for i in range(16):\n",
        "    idx = np.random.randint(train_imgs.shape[0])\n",
        "    ax = plt.subplot(num_rc, num_rc, i + 1)\n",
        "    ax.set_title(CLS_LIST[train_classes[idx]])\n",
        "    ax.set_axis_off()\n",
        "    plt.imshow(train_imgs[idx].reshape(28,28), cmap='gray')"
      ]
    },
    {
      "cell_type": "code",
      "execution_count": null,
      "metadata": {
        "id": "h5edkbK-HPe3"
      },
      "outputs": [],
      "source": [
        "x_train, x_test, y_train, y_test = train_test_split(train_imgs, encoded_y, shuffle=True, random_state=42, test_size=.2)"
      ]
    },
    {
      "cell_type": "markdown",
      "metadata": {
        "id": "Ma9J8mfYJAL5"
      },
      "source": [
        "This is one of the first successfull models, yet the training loop used in evaluation was refactored and accumulated more useful data (e.g. accuracy per epoch)\n",
        "\n",
        "I messed with the learning rate a lot as `1e-2` sometimes was way too big and the model skipped optimum and overfitted, while `1e-3` was too small and the the model did not converge eventually\n",
        "\n",
        "I solved this problem by implementing learning rate decay (I made it by multiplying the lr with a constant factor of in range `[0.9; 0.99]`)\n",
        "\n",
        "Later I also added momentum and shuffled the training data each epoch. All of this in combination with more layers resulted in a better model performance (I maanged to pass the highpass)"
      ]
    },
    {
      "cell_type": "code",
      "execution_count": null,
      "metadata": {
        "id": "E5kUBiSBL4da"
      },
      "outputs": [],
      "source": [
        "class FashionMNIST(Layer):\n",
        "\n",
        "  def __init__(self, optim):\n",
        "\n",
        "    self.nn = Sequential(\n",
        "         Dense(28*28, 256, optim=optim),\n",
        "         ReLU(),\n",
        "         Dense(256, 32, optim=optim),\n",
        "         ReLU(),\n",
        "         Dense(32, 10, optim=optim),\n",
        "         Softmax(T=2)\n",
        "    )\n",
        "\n",
        "\n",
        "  def forward(self, X):\n",
        "    return self.nn(X)\n",
        "\n",
        "\n",
        "  def backward(self, dz):\n",
        "    return self.nn.backward(dz)\n",
        "\n",
        "\n",
        "  def step(self):\n",
        "    self.nn.step()"
      ]
    },
    {
      "cell_type": "code",
      "execution_count": null,
      "metadata": {
        "id": "WZhWM0xK-l6L"
      },
      "outputs": [],
      "source": [
        "optim = SGD(lr=1e-2)\n",
        "model = FashionMNIST(optim=optim)\n",
        "criterion = CrossEntropy()"
      ]
    },
    {
      "cell_type": "code",
      "execution_count": null,
      "metadata": {
        "colab": {
          "base_uri": "https://localhost:8080/"
        },
        "id": "GAqb1uQ__x_z",
        "outputId": "09a76155-4a0b-49d9-9ea5-6c5cb3b1fd3a"
      },
      "outputs": [
        {
          "name": "stderr",
          "output_type": "stream",
          "text": [
            "  5%|▌         | 1/20 [00:38<12:11, 38.49s/it]"
          ]
        },
        {
          "name": "stdout",
          "output_type": "stream",
          "text": [
            "[0/20]::[Train Loss 0.8838476721916033]\n",
            "[0/20]::[Test Loss 0.6149774421421367]\n"
          ]
        },
        {
          "name": "stderr",
          "output_type": "stream",
          "text": [
            "\r 10%|█         | 2/20 [01:09<10:13, 34.06s/it]"
          ]
        },
        {
          "name": "stdout",
          "output_type": "stream",
          "text": [
            "[1/20]::[Train Loss 0.5458567605281516]\n",
            "[1/20]::[Test Loss 0.5254201581662303]\n"
          ]
        },
        {
          "name": "stderr",
          "output_type": "stream",
          "text": [
            "\r 15%|█▌        | 3/20 [01:41<09:24, 33.22s/it]"
          ]
        },
        {
          "name": "stdout",
          "output_type": "stream",
          "text": [
            "[2/20]::[Train Loss 0.4882019915784126]\n",
            "[2/20]::[Test Loss 0.48493884421142375]\n"
          ]
        },
        {
          "name": "stderr",
          "output_type": "stream",
          "text": [
            "\r 20%|██        | 4/20 [02:22<09:42, 36.40s/it]"
          ]
        },
        {
          "name": "stdout",
          "output_type": "stream",
          "text": [
            "[3/20]::[Train Loss 0.45418737647853585]\n",
            "[3/20]::[Test Loss 0.4587184697876267]\n"
          ]
        },
        {
          "name": "stderr",
          "output_type": "stream",
          "text": [
            "\r 25%|██▌       | 5/20 [02:57<08:55, 35.71s/it]"
          ]
        },
        {
          "name": "stdout",
          "output_type": "stream",
          "text": [
            "[4/20]::[Train Loss 0.4302321657445843]\n",
            "[4/20]::[Test Loss 0.4388629457260133]\n"
          ]
        },
        {
          "name": "stderr",
          "output_type": "stream",
          "text": [
            "\r 30%|███       | 6/20 [03:28<07:57, 34.07s/it]"
          ]
        },
        {
          "name": "stdout",
          "output_type": "stream",
          "text": [
            "[5/20]::[Train Loss 0.41154629458394887]\n",
            "[5/20]::[Test Loss 0.42335371942775674]\n"
          ]
        },
        {
          "name": "stderr",
          "output_type": "stream",
          "text": [
            "\r 35%|███▌      | 7/20 [03:59<07:09, 33.05s/it]"
          ]
        },
        {
          "name": "stdout",
          "output_type": "stream",
          "text": [
            "[6/20]::[Train Loss 0.39657560148269105]\n",
            "[6/20]::[Test Loss 0.4122744924547824]\n"
          ]
        },
        {
          "name": "stderr",
          "output_type": "stream",
          "text": [
            "\r 40%|████      | 8/20 [04:30<06:28, 32.36s/it]"
          ]
        },
        {
          "name": "stdout",
          "output_type": "stream",
          "text": [
            "[7/20]::[Train Loss 0.3838464434128097]\n",
            "[7/20]::[Test Loss 0.4033762742326473]\n"
          ]
        },
        {
          "name": "stderr",
          "output_type": "stream",
          "text": [
            "\r 45%|████▌     | 9/20 [05:00<05:50, 31.84s/it]"
          ]
        },
        {
          "name": "stdout",
          "output_type": "stream",
          "text": [
            "[8/20]::[Train Loss 0.3728508110293106]\n",
            "[8/20]::[Test Loss 0.39581133494339005]\n"
          ]
        },
        {
          "name": "stderr",
          "output_type": "stream",
          "text": [
            "\r 50%|█████     | 10/20 [05:31<05:15, 31.56s/it]"
          ]
        },
        {
          "name": "stdout",
          "output_type": "stream",
          "text": [
            "[9/20]::[Train Loss 0.36308477709490233]\n",
            "[9/20]::[Test Loss 0.3888062548764912]\n"
          ]
        },
        {
          "name": "stderr",
          "output_type": "stream",
          "text": [
            "\r 55%|█████▌    | 11/20 [06:02<04:41, 31.26s/it]"
          ]
        },
        {
          "name": "stdout",
          "output_type": "stream",
          "text": [
            "[10/20]::[Train Loss 0.35377711635705655]\n",
            "[10/20]::[Test Loss 0.381986302183885]\n"
          ]
        },
        {
          "name": "stderr",
          "output_type": "stream",
          "text": [
            "\r 60%|██████    | 12/20 [06:33<04:09, 31.16s/it]"
          ]
        },
        {
          "name": "stdout",
          "output_type": "stream",
          "text": [
            "[11/20]::[Train Loss 0.3453737686180553]\n",
            "[11/20]::[Test Loss 0.37642160338647157]\n"
          ]
        },
        {
          "name": "stderr",
          "output_type": "stream",
          "text": [
            "\r 65%|██████▌   | 13/20 [07:04<03:37, 31.07s/it]"
          ]
        },
        {
          "name": "stdout",
          "output_type": "stream",
          "text": [
            "[12/20]::[Train Loss 0.3376784589981765]\n",
            "[12/20]::[Test Loss 0.37219247650852927]\n"
          ]
        },
        {
          "name": "stderr",
          "output_type": "stream",
          "text": [
            "\r 70%|███████   | 14/20 [07:35<03:06, 31.02s/it]"
          ]
        },
        {
          "name": "stdout",
          "output_type": "stream",
          "text": [
            "[13/20]::[Train Loss 0.3307044265932044]\n",
            "[13/20]::[Test Loss 0.3677206987775196]\n"
          ]
        },
        {
          "name": "stderr",
          "output_type": "stream",
          "text": [
            "\r 75%|███████▌  | 15/20 [08:05<02:34, 30.98s/it]"
          ]
        },
        {
          "name": "stdout",
          "output_type": "stream",
          "text": [
            "[14/20]::[Train Loss 0.3241387829715393]\n",
            "[14/20]::[Test Loss 0.3629453299157537]\n"
          ]
        },
        {
          "name": "stderr",
          "output_type": "stream",
          "text": [
            "\r 80%|████████  | 16/20 [08:36<02:03, 30.99s/it]"
          ]
        },
        {
          "name": "stdout",
          "output_type": "stream",
          "text": [
            "[15/20]::[Train Loss 0.3179337069180266]\n",
            "[15/20]::[Test Loss 0.35967740713399377]\n"
          ]
        },
        {
          "name": "stderr",
          "output_type": "stream",
          "text": [
            "\r 85%|████████▌ | 17/20 [09:07<01:32, 30.95s/it]"
          ]
        },
        {
          "name": "stdout",
          "output_type": "stream",
          "text": [
            "[16/20]::[Train Loss 0.3119883392988035]\n",
            "[16/20]::[Test Loss 0.3558967266599703]\n"
          ]
        },
        {
          "name": "stderr",
          "output_type": "stream",
          "text": [
            "\r 90%|█████████ | 18/20 [09:38<01:01, 30.95s/it]"
          ]
        },
        {
          "name": "stdout",
          "output_type": "stream",
          "text": [
            "[17/20]::[Train Loss 0.3063930241486448]\n",
            "[17/20]::[Test Loss 0.35228538917747254]\n"
          ]
        },
        {
          "name": "stderr",
          "output_type": "stream",
          "text": [
            "\r 95%|█████████▌| 19/20 [10:09<00:30, 30.94s/it]"
          ]
        },
        {
          "name": "stdout",
          "output_type": "stream",
          "text": [
            "[18/20]::[Train Loss 0.3010090712209849]\n",
            "[18/20]::[Test Loss 0.3491025413769546]\n"
          ]
        },
        {
          "name": "stderr",
          "output_type": "stream",
          "text": [
            "100%|██████████| 20/20 [10:40<00:00, 32.03s/it]"
          ]
        },
        {
          "name": "stdout",
          "output_type": "stream",
          "text": [
            "[19/20]::[Train Loss 0.29606593489923627]\n",
            "[19/20]::[Test Loss 0.34635841875916373]\n"
          ]
        },
        {
          "name": "stderr",
          "output_type": "stream",
          "text": [
            "\n"
          ]
        }
      ],
      "source": [
        "train_losses, test_losses = train_test_model(model, criterion, x_train, x_test, y_train, y_test, batch_size=20, epochs=20, verbose=True)"
      ]
    },
    {
      "cell_type": "markdown",
      "metadata": {
        "id": "4LCQi7vdXpdH"
      },
      "source": [
        "Clearly, After ~30 epochs the network overfits\n",
        "\n",
        "I should consider re-training it for this number of epochs, the problem is that currently I cannot make checkpoints..."
      ]
    },
    {
      "cell_type": "code",
      "execution_count": null,
      "metadata": {
        "colab": {
          "base_uri": "https://localhost:8080/"
        },
        "id": "3v6vgRIlUMgu",
        "outputId": "d8ca87c4-76c8-475f-90a7-76b08ab90dab"
      },
      "outputs": [
        {
          "name": "stderr",
          "output_type": "stream",
          "text": [
            "  5%|▌         | 1/20 [00:31<09:49, 31.01s/it]"
          ]
        },
        {
          "name": "stdout",
          "output_type": "stream",
          "text": [
            "[1/20]::[Train Loss 0.2911439836949721]\n",
            "[1/20]::[Test Loss 0.3443744812459503]\n"
          ]
        },
        {
          "name": "stderr",
          "output_type": "stream",
          "text": [
            "\r 10%|█         | 2/20 [01:01<09:17, 30.97s/it]"
          ]
        },
        {
          "name": "stdout",
          "output_type": "stream",
          "text": [
            "[2/20]::[Train Loss 0.2864942643642323]\n",
            "[2/20]::[Test Loss 0.3427013900645444]\n"
          ]
        },
        {
          "name": "stderr",
          "output_type": "stream",
          "text": [
            "\r 15%|█▌        | 3/20 [01:32<08:46, 31.00s/it]"
          ]
        },
        {
          "name": "stdout",
          "output_type": "stream",
          "text": [
            "[3/20]::[Train Loss 0.2821462443217092]\n",
            "[3/20]::[Test Loss 0.34122691491783813]\n"
          ]
        },
        {
          "name": "stderr",
          "output_type": "stream",
          "text": [
            "\r 20%|██        | 4/20 [02:03<08:15, 30.96s/it]"
          ]
        },
        {
          "name": "stdout",
          "output_type": "stream",
          "text": [
            "[4/20]::[Train Loss 0.2779011782291896]\n",
            "[4/20]::[Test Loss 0.3397375145694688]\n"
          ]
        },
        {
          "name": "stderr",
          "output_type": "stream",
          "text": [
            "\r 25%|██▌       | 5/20 [02:34<07:44, 30.97s/it]"
          ]
        },
        {
          "name": "stdout",
          "output_type": "stream",
          "text": [
            "[5/20]::[Train Loss 0.2736970079369548]\n",
            "[5/20]::[Test Loss 0.3375976846180676]\n"
          ]
        },
        {
          "name": "stderr",
          "output_type": "stream",
          "text": [
            "\r 30%|███       | 6/20 [03:05<07:13, 30.98s/it]"
          ]
        },
        {
          "name": "stdout",
          "output_type": "stream",
          "text": [
            "[6/20]::[Train Loss 0.26973294479215465]\n",
            "[6/20]::[Test Loss 0.3366084242952726]\n"
          ]
        },
        {
          "name": "stderr",
          "output_type": "stream",
          "text": [
            "\r 35%|███▌      | 7/20 [03:36<06:42, 31.00s/it]"
          ]
        },
        {
          "name": "stdout",
          "output_type": "stream",
          "text": [
            "[7/20]::[Train Loss 0.26583434534618156]\n",
            "[7/20]::[Test Loss 0.3363818633678258]\n"
          ]
        },
        {
          "name": "stderr",
          "output_type": "stream",
          "text": [
            "\r 40%|████      | 8/20 [04:07<06:11, 30.95s/it]"
          ]
        },
        {
          "name": "stdout",
          "output_type": "stream",
          "text": [
            "[8/20]::[Train Loss 0.2619000952232753]\n",
            "[8/20]::[Test Loss 0.33582532967094]\n"
          ]
        },
        {
          "name": "stderr",
          "output_type": "stream",
          "text": [
            "\r 45%|████▌     | 9/20 [04:38<05:40, 30.97s/it]"
          ]
        },
        {
          "name": "stdout",
          "output_type": "stream",
          "text": [
            "[9/20]::[Train Loss 0.25810746331767465]\n",
            "[9/20]::[Test Loss 0.3350144364434403]\n"
          ]
        },
        {
          "name": "stderr",
          "output_type": "stream",
          "text": [
            "\r 50%|█████     | 10/20 [05:09<05:09, 30.98s/it]"
          ]
        },
        {
          "name": "stdout",
          "output_type": "stream",
          "text": [
            "[10/20]::[Train Loss 0.2544932724917658]\n",
            "[10/20]::[Test Loss 0.3343628970907977]\n"
          ]
        },
        {
          "name": "stderr",
          "output_type": "stream",
          "text": [
            "\r 55%|█████▌    | 11/20 [05:40<04:38, 30.98s/it]"
          ]
        },
        {
          "name": "stdout",
          "output_type": "stream",
          "text": [
            "[11/20]::[Train Loss 0.2510514652292787]\n",
            "[11/20]::[Test Loss 0.3340564766078545]\n"
          ]
        },
        {
          "name": "stderr",
          "output_type": "stream",
          "text": [
            "\r 60%|██████    | 12/20 [06:11<04:07, 30.96s/it]"
          ]
        },
        {
          "name": "stdout",
          "output_type": "stream",
          "text": [
            "[12/20]::[Train Loss 0.2475950733305386]\n",
            "[12/20]::[Test Loss 0.3343682909657407]\n"
          ]
        },
        {
          "name": "stderr",
          "output_type": "stream",
          "text": [
            "\r 65%|██████▌   | 13/20 [06:42<03:36, 30.95s/it]"
          ]
        },
        {
          "name": "stdout",
          "output_type": "stream",
          "text": [
            "[13/20]::[Train Loss 0.24417700380551305]\n",
            "[13/20]::[Test Loss 0.33454782023065927]\n"
          ]
        },
        {
          "name": "stderr",
          "output_type": "stream",
          "text": [
            "\r 70%|███████   | 14/20 [07:13<03:05, 30.93s/it]"
          ]
        },
        {
          "name": "stdout",
          "output_type": "stream",
          "text": [
            "[14/20]::[Train Loss 0.2409002099881887]\n",
            "[14/20]::[Test Loss 0.3348999274567187]\n"
          ]
        },
        {
          "name": "stderr",
          "output_type": "stream",
          "text": [
            "\r 75%|███████▌  | 15/20 [07:44<02:34, 30.91s/it]"
          ]
        },
        {
          "name": "stdout",
          "output_type": "stream",
          "text": [
            "[15/20]::[Train Loss 0.23765744581870307]\n",
            "[15/20]::[Test Loss 0.3345563458173354]\n"
          ]
        },
        {
          "name": "stderr",
          "output_type": "stream",
          "text": [
            "\r 80%|████████  | 16/20 [08:15<02:03, 30.90s/it]"
          ]
        },
        {
          "name": "stdout",
          "output_type": "stream",
          "text": [
            "[16/20]::[Train Loss 0.23448146572380618]\n",
            "[16/20]::[Test Loss 0.33445315061288233]\n"
          ]
        },
        {
          "name": "stderr",
          "output_type": "stream",
          "text": [
            "\r 85%|████████▌ | 17/20 [08:46<01:32, 30.92s/it]"
          ]
        },
        {
          "name": "stdout",
          "output_type": "stream",
          "text": [
            "[17/20]::[Train Loss 0.23150317983530663]\n",
            "[17/20]::[Test Loss 0.3345132146749639]\n"
          ]
        },
        {
          "name": "stderr",
          "output_type": "stream",
          "text": [
            "\r 90%|█████████ | 18/20 [09:17<01:02, 31.11s/it]"
          ]
        },
        {
          "name": "stdout",
          "output_type": "stream",
          "text": [
            "[18/20]::[Train Loss 0.22851080454999767]\n",
            "[18/20]::[Test Loss 0.33609584299711115]\n"
          ]
        },
        {
          "name": "stderr",
          "output_type": "stream",
          "text": [
            "\r 95%|█████████▌| 19/20 [09:49<00:31, 31.25s/it]"
          ]
        },
        {
          "name": "stdout",
          "output_type": "stream",
          "text": [
            "[19/20]::[Train Loss 0.22539378358567877]\n",
            "[19/20]::[Test Loss 0.3362787282816614]\n"
          ]
        },
        {
          "name": "stderr",
          "output_type": "stream",
          "text": [
            "100%|██████████| 20/20 [10:21<00:00, 31.10s/it]"
          ]
        },
        {
          "name": "stdout",
          "output_type": "stream",
          "text": [
            "[20/20]::[Train Loss 0.22247840914614744]\n",
            "[20/20]::[Test Loss 0.3370455013369743]\n"
          ]
        },
        {
          "name": "stderr",
          "output_type": "stream",
          "text": [
            "\n"
          ]
        }
      ],
      "source": [
        "train_losses, test_losses = train_test_model(model, criterion, x_train, x_test, y_train, y_test, batch_size=20, epochs=20, verbose=True)"
      ]
    },
    {
      "cell_type": "code",
      "execution_count": null,
      "metadata": {
        "id": "tfBBoA2TJeZi"
      },
      "outputs": [],
      "source": [
        "from sklearn.metrics import accuracy_score\n",
        "\n",
        "# helper function to check the score\n",
        "def print_accuracy(model, test_data, true_labels):\n",
        "  y_pred = [np.argmax(model(sample)) for sample in test_data]\n",
        "  y_true = np.argmax(true_labels, axis=1)\n",
        "\n",
        "  score = accuracy_score(y_pred=y_pred, y_true=y_true)\n",
        "  print(f'Accuracy on test data: {score}')"
      ]
    },
    {
      "cell_type": "code",
      "execution_count": null,
      "metadata": {
        "colab": {
          "base_uri": "https://localhost:8080/"
        },
        "id": "91aekDzbKHlt",
        "outputId": "63bd8f58-e690-49f3-8a4c-dff5153ed6e1"
      },
      "outputs": [
        {
          "name": "stdout",
          "output_type": "stream",
          "text": [
            "Accuracy on test data: 0.8750833333333333\n"
          ]
        }
      ],
      "source": [
        "# after 20 epochs\n",
        "print_accuracy(model, x_test, y_test)"
      ]
    },
    {
      "cell_type": "code",
      "execution_count": null,
      "metadata": {
        "colab": {
          "base_uri": "https://localhost:8080/"
        },
        "id": "VPLzYdndX9QG",
        "outputId": "a4fecf09-ee0a-4661-8cc9-b3ad73cba236"
      },
      "outputs": [
        {
          "name": "stdout",
          "output_type": "stream",
          "text": [
            "Accuracy on test data: 0.8840833333333333\n"
          ]
        }
      ],
      "source": [
        "# after 40 epochs\n",
        "print_accuracy(model, x_test, y_test)"
      ]
    },
    {
      "cell_type": "code",
      "execution_count": null,
      "metadata": {
        "id": "poRAcXBKC91r"
      },
      "outputs": [],
      "source": [
        "# helper function for viz\n",
        "def plot_metrics(loss_train, loss_test, ax=None):\n",
        "  if ax is None:\n",
        "    fig, ax = plt.subplots(figsize=(15, 10))\n",
        "  ax.plot(loss_train, label='Train Loss')\n",
        "  ax.plot(loss_test, label='Test Loss')\n",
        "  ax.legend(loc='best')\n",
        "  return ax\n",
        "\n",
        "\n",
        "def plot_score(score_train, score_test, ax=None):\n",
        "  if ax is None:\n",
        "    fig, ax = plt.subplots(figsize=(15, 10))\n",
        "  ax.plot(score_train, label='Train Accuracy')\n",
        "  ax.plot(score_test, label='Test Accuracy')\n",
        "  ax.legend(loc='best')\n",
        "  return ax\n",
        "\n",
        "\n",
        "def plot_all(losses, scores):\n",
        "  fig, axs = plt.subplots(1, 2, figsize=(15, 10))\n",
        "\n",
        "  plot_metrics(*losses, ax=axs[0])\n",
        "  plot_score(*scores, ax=axs[1])\n",
        "  return fig"
      ]
    },
    {
      "cell_type": "markdown",
      "metadata": {
        "id": "DGEZDxiEK41a"
      },
      "source": [
        "These figures are left for the history as the evidence of overfitting. When the test loss (orange line) starts growing, it is a sign of this phenomena"
      ]
    },
    {
      "cell_type": "code",
      "execution_count": null,
      "metadata": {
        "colab": {
          "base_uri": "https://localhost:8080/",
          "height": 594
        },
        "id": "R8g_167iMbWj",
        "outputId": "72245a86-dc77-492e-d52a-f241ac31909f"
      },
      "outputs": [
        {
          "data": {
            "image/png": "[encoded data removed]",
            "text/plain": [
              "<Figure size 1080x720 with 1 Axes>"
            ]
          },
          "metadata": {},
          "output_type": "display_data"
        }
      ],
      "source": [
        "# epochs 0-20\n",
        "plot_metrics(train_losses, test_losses).show()"
      ]
    },
    {
      "cell_type": "code",
      "execution_count": null,
      "metadata": {
        "colab": {
          "base_uri": "https://localhost:8080/",
          "height": 594
        },
        "id": "lRy8EH5TYIUP",
        "outputId": "80fdabdd-9fb6-43c3-b375-3b95e82e136c"
      },
      "outputs": [
        {
          "data": {
            "image/png": "[encoded data removed]",
            "text/plain": [
              "<Figure size 1080x720 with 1 Axes>"
            ]
          },
          "metadata": {},
          "output_type": "display_data"
        }
      ],
      "source": [
        "# epochs 20-40\n",
        "plot_metrics(train_losses, test_losses).show()"
      ]
    },
    {
      "cell_type": "markdown",
      "metadata": {
        "id": "nKTGRupMI4rz"
      },
      "source": [
        "Messing with the submission"
      ]
    },
    {
      "cell_type": "code",
      "execution_count": null,
      "metadata": {
        "id": "3xLi1TZaD_6t"
      },
      "outputs": [],
      "source": [
        "def create_submission(model, test_data):\n",
        "  pred = [np.argmax(model(item)) for item in test_data]\n",
        "  submission = pd.DataFrame({'Id': range(len(test_data)), 'Category': pred})\n",
        "  submission.set_index('Id')\n",
        "  return submission"
      ]
    },
    {
      "cell_type": "code",
      "execution_count": null,
      "metadata": {
        "id": "kkRFGInqD06k"
      },
      "outputs": [],
      "source": [
        "fine_model = model\n",
        "df = create_submission(fine_model, test_imgs)\n",
        "df.to_csv('submission.csv', index=False)"
      ]
    },
    {
      "cell_type": "markdown",
      "metadata": {
        "id": "aZV9w03dqhDB"
      },
      "source": [
        "One can download the submission file or submit directly from colab using Kaggle API via CLI"
      ]
    },
    {
      "cell_type": "code",
      "execution_count": null,
      "metadata": {
        "colab": {
          "base_uri": "https://localhost:8080/",
          "height": 17
        },
        "id": "8WmajfMGD03J",
        "outputId": "b596e813-8710-4e8d-e71d-65b8fb325726"
      },
      "outputs": [
        {
          "data": {
            "application/javascript": [
              "\n",
              "    async function download(id, filename, size) {\n",
              "      if (!google.colab.kernel.accessAllowed) {\n",
              "        return;\n",
              "      }\n",
              "      const div = document.createElement('div');\n",
              "      const label = document.createElement('label');\n",
              "      label.textContent = `Downloading \"${filename}\": `;\n",
              "      div.appendChild(label);\n",
              "      const progress = document.createElement('progress');\n",
              "      progress.max = size;\n",
              "      div.appendChild(progress);\n",
              "      document.body.appendChild(div);\n",
              "\n",
              "      const buffers = [];\n",
              "      let downloaded = 0;\n",
              "\n",
              "      const channel = await google.colab.kernel.comms.open(id);\n",
              "      // Send a message to notify the kernel that we're ready.\n",
              "      channel.send({})\n",
              "\n",
              "      for await (const message of channel.messages) {\n",
              "        // Send a message to notify the kernel that we're ready.\n",
              "        channel.send({})\n",
              "        if (message.buffers) {\n",
              "          for (const buffer of message.buffers) {\n",
              "            buffers.push(buffer);\n",
              "            downloaded += buffer.byteLength;\n",
              "            progress.value = downloaded;\n",
              "          }\n",
              "        }\n",
              "      }\n",
              "      const blob = new Blob(buffers, {type: 'application/binary'});\n",
              "      const a = document.createElement('a');\n",
              "      a.href = window.URL.createObjectURL(blob);\n",
              "      a.download = filename;\n",
              "      div.appendChild(a);\n",
              "      a.click();\n",
              "      div.remove();\n",
              "    }\n",
              "  "
            ],
            "text/plain": [
              "<IPython.core.display.Javascript object>"
            ]
          },
          "metadata": {},
          "output_type": "display_data"
        },
        {
          "data": {
            "application/javascript": [
              "download(\"download_c3826b83-c46e-428d-a93a-93359c79cb23\", \"submission.csv\", 68902)"
            ],
            "text/plain": [
              "<IPython.core.display.Javascript object>"
            ]
          },
          "metadata": {},
          "output_type": "display_data"
        }
      ],
      "source": [
        "from google.colab import files\n",
        "files.download('submission.csv')"
      ]
    },
    {
      "cell_type": "code",
      "execution_count": null,
      "metadata": {
        "colab": {
          "base_uri": "https://localhost:8080/"
        },
        "id": "xjJpwbh6DRD7",
        "outputId": "bed00bd5-ab89-48f6-cd03-dffc64c41215"
      },
      "outputs": [
        {
          "name": "stdout",
          "output_type": "stream",
          "text": [
            "100% 67.3k/67.3k [00:01<00:00, 44.7kB/s]\n",
            "Successfully submitted to [МГТУ-2022. Весна] ДЗ1. Многослойный персептрон"
          ]
        }
      ],
      "source": [
        "!kaggle competitions submit -c mgtu-2022-spring-dz1 -f submission.csv -m \"15 epochs with momentum 0.6\""
      ]
    },
    {
      "cell_type": "code",
      "execution_count": null,
      "metadata": {
        "id": "HpwEhkbter9U"
      },
      "outputs": [],
      "source": [
        "class FashionMNIST(Layer):\n",
        "\n",
        "  def __init__(self, optim):\n",
        "\n",
        "    self.nn = Sequential(\n",
        "         Dense(28*28, 256, optim=optim),\n",
        "         ReLU(),\n",
        "         Dense(256, 128, optim=optim),\n",
        "         ReLU(),\n",
        "         Dense(128, 64, optim=optim),\n",
        "         ReLU(),\n",
        "         Dense(64, 32, optim=optim),\n",
        "         ReLU(),\n",
        "         Dense(32, 10, optim=optim),\n",
        "         Softmax(T=2)\n",
        "    )\n",
        "\n",
        "\n",
        "  def forward(self, X):\n",
        "    return self.nn(X)\n",
        "\n",
        "\n",
        "  def backward(self, dz):\n",
        "    return self.nn.backward(dz)\n",
        "\n",
        "\n",
        "  def step(self):\n",
        "    self.nn.step()"
      ]
    },
    {
      "cell_type": "markdown",
      "metadata": {
        "id": "Nq59bKS1chQj"
      },
      "source": [
        "Note: this model achieved the highest score of `0.893` so far\n",
        "\n",
        "I will try using greater batch size and `t`, number of iterations for learning rate to decay exponentially"
      ]
    },
    {
      "cell_type": "code",
      "execution_count": null,
      "metadata": {
        "colab": {
          "background_save": true,
          "base_uri": "https://localhost:8080/"
        },
        "id": "6_ye-FfIHlLv",
        "outputId": "179f9ff3-a4a5-4c10-f8f8-39bb7f6e4f5e"
      },
      "outputs": [
        {
          "name": "stderr",
          "output_type": "stream",
          "text": [
            "  8%|▊         | 1/13 [01:12<14:32, 72.71s/it]"
          ]
        },
        {
          "name": "stdout",
          "output_type": "stream",
          "text": [
            "\n",
            "[1/13]::[Train Loss 0.655540]::[Train Accuracy 0.759437]\n",
            "[1/13]::[Test Loss 0.519057]::[Test Accuracy 0.820250]\n"
          ]
        },
        {
          "name": "stderr",
          "output_type": "stream",
          "text": [
            "\r 15%|█▌        | 2/13 [02:24<13:15, 72.36s/it]"
          ]
        },
        {
          "name": "stdout",
          "output_type": "stream",
          "text": [
            "\n",
            "[2/13]::[Train Loss 0.448544]::[Train Accuracy 0.839146]\n",
            "[2/13]::[Test Loss 0.415963]::[Test Accuracy 0.851250]\n"
          ]
        },
        {
          "name": "stderr",
          "output_type": "stream",
          "text": [
            "\r 23%|██▎       | 3/13 [03:37<12:02, 72.28s/it]"
          ]
        },
        {
          "name": "stdout",
          "output_type": "stream",
          "text": [
            "\n",
            "[3/13]::[Train Loss 0.384891]::[Train Accuracy 0.859208]\n",
            "[3/13]::[Test Loss 0.399777]::[Test Accuracy 0.857000]\n"
          ]
        },
        {
          "name": "stderr",
          "output_type": "stream",
          "text": [
            "\r 31%|███       | 4/13 [04:48<10:48, 72.04s/it]"
          ]
        },
        {
          "name": "stdout",
          "output_type": "stream",
          "text": [
            "\n",
            "[4/13]::[Train Loss 0.343833]::[Train Accuracy 0.874667]\n",
            "[4/13]::[Test Loss 0.374158]::[Test Accuracy 0.868250]\n"
          ]
        },
        {
          "name": "stderr",
          "output_type": "stream",
          "text": [
            "\r 38%|███▊      | 5/13 [05:59<09:32, 71.59s/it]"
          ]
        },
        {
          "name": "stdout",
          "output_type": "stream",
          "text": [
            "\n",
            "[5/13]::[Train Loss 0.312774]::[Train Accuracy 0.881625]\n",
            "[5/13]::[Test Loss 0.366163]::[Test Accuracy 0.869833]\n"
          ]
        },
        {
          "name": "stderr",
          "output_type": "stream",
          "text": [
            "\r 46%|████▌     | 6/13 [07:10<08:20, 71.50s/it]"
          ]
        },
        {
          "name": "stdout",
          "output_type": "stream",
          "text": [
            "\n",
            "[6/13]::[Train Loss 0.290636]::[Train Accuracy 0.889146]\n",
            "[6/13]::[Test Loss 0.333890]::[Test Accuracy 0.880333]\n"
          ]
        },
        {
          "name": "stderr",
          "output_type": "stream",
          "text": [
            "\r 54%|█████▍    | 7/13 [08:21<07:07, 71.24s/it]"
          ]
        },
        {
          "name": "stdout",
          "output_type": "stream",
          "text": [
            "\n",
            "[7/13]::[Train Loss 0.267766]::[Train Accuracy 0.899312]\n",
            "[7/13]::[Test Loss 0.328553]::[Test Accuracy 0.885167]\n"
          ]
        },
        {
          "name": "stderr",
          "output_type": "stream",
          "text": [
            "\r 62%|██████▏   | 8/13 [09:32<05:55, 71.12s/it]"
          ]
        },
        {
          "name": "stdout",
          "output_type": "stream",
          "text": [
            "\n",
            "[8/13]::[Train Loss 0.251123]::[Train Accuracy 0.903813]\n",
            "[8/13]::[Test Loss 0.318236]::[Test Accuracy 0.886250]\n"
          ]
        },
        {
          "name": "stderr",
          "output_type": "stream",
          "text": [
            "\r 69%|██████▉   | 9/13 [10:42<04:43, 70.96s/it]"
          ]
        },
        {
          "name": "stdout",
          "output_type": "stream",
          "text": [
            "\n",
            "[9/13]::[Train Loss 0.236555]::[Train Accuracy 0.909542]\n",
            "[9/13]::[Test Loss 0.325032]::[Test Accuracy 0.889500]\n"
          ]
        },
        {
          "name": "stderr",
          "output_type": "stream",
          "text": [
            "\r 77%|███████▋  | 10/13 [11:53<03:32, 70.91s/it]"
          ]
        },
        {
          "name": "stdout",
          "output_type": "stream",
          "text": [
            "\n",
            "[10/13]::[Train Loss 0.224148]::[Train Accuracy 0.913312]\n",
            "[10/13]::[Test Loss 0.328322]::[Test Accuracy 0.886000]\n"
          ]
        },
        {
          "name": "stderr",
          "output_type": "stream",
          "text": [
            "\r 85%|████████▍ | 11/13 [13:04<02:21, 70.84s/it]"
          ]
        },
        {
          "name": "stdout",
          "output_type": "stream",
          "text": [
            "\n",
            "[11/13]::[Train Loss 0.212862]::[Train Accuracy 0.918188]\n",
            "[11/13]::[Test Loss 0.315389]::[Test Accuracy 0.895667]\n"
          ]
        },
        {
          "name": "stderr",
          "output_type": "stream",
          "text": [
            "\r 92%|█████████▏| 12/13 [14:15<01:10, 70.96s/it]"
          ]
        },
        {
          "name": "stdout",
          "output_type": "stream",
          "text": [
            "\n",
            "[12/13]::[Train Loss 0.203565]::[Train Accuracy 0.921958]\n",
            "[12/13]::[Test Loss 0.324342]::[Test Accuracy 0.894250]\n"
          ]
        },
        {
          "name": "stderr",
          "output_type": "stream",
          "text": [
            "100%|██████████| 13/13 [15:26<00:00, 71.25s/it]"
          ]
        },
        {
          "name": "stdout",
          "output_type": "stream",
          "text": [
            "\n",
            "[13/13]::[Train Loss 0.195720]::[Train Accuracy 0.925562]\n",
            "[13/13]::[Test Loss 0.317450]::[Test Accuracy 0.896667]\n"
          ]
        },
        {
          "name": "stderr",
          "output_type": "stream",
          "text": [
            "\n"
          ]
        },
        {
          "data": {
            "image/png": "[encoded data removed]",
            "text/plain": [
              "<Figure size 1080x720 with 2 Axes>"
            ]
          },
          "metadata": {},
          "output_type": "display_data"
        }
      ],
      "source": [
        "optim = make_optimizer_template(lr=1e-1, dr=.9, t=1000, rho=.6)\n",
        "model = FashionMNIST(optim=optim)\n",
        "criterion = CrossEntropy()\n",
        "\n",
        "train_losses, test_losses, train_acc, test_acc = train_test_model(model, criterion, x_train, x_test, y_train, y_test, batch_size=20, epochs=13, verbose=True)\n",
        "plot_all((train_losses, test_losses), (train_acc, test_acc)).show()"
      ]
    },
    {
      "cell_type": "code",
      "execution_count": null,
      "metadata": {
        "colab": {
          "base_uri": "https://localhost:8080/",
          "height": 1000
        },
        "id": "0BV9dmf2oVnX",
        "outputId": "3c6d9488-f4eb-4d3f-9bdc-087a9835e3c9"
      },
      "outputs": [
        {
          "name": "stderr",
          "output_type": "stream",
          "text": [
            " 11%|█         | 1/9 [01:20<10:47, 80.94s/it]"
          ]
        },
        {
          "name": "stdout",
          "output_type": "stream",
          "text": [
            "\n",
            "[1/9]::[Train Loss 0.614167]::[Train Accuracy 0.772917]\n",
            "[1/9]::[Test Loss 0.449485]::[Test Accuracy 0.838500]\n"
          ]
        },
        {
          "name": "stderr",
          "output_type": "stream",
          "text": [
            "\r 22%|██▏       | 2/9 [02:42<09:28, 81.18s/it]"
          ]
        },
        {
          "name": "stdout",
          "output_type": "stream",
          "text": [
            "\n",
            "[2/9]::[Train Loss 0.417434]::[Train Accuracy 0.846167]\n",
            "[2/9]::[Test Loss 0.396625]::[Test Accuracy 0.855667]\n"
          ]
        },
        {
          "name": "stderr",
          "output_type": "stream",
          "text": [
            "\r 33%|███▎      | 3/9 [04:01<08:00, 80.13s/it]"
          ]
        },
        {
          "name": "stdout",
          "output_type": "stream",
          "text": [
            "\n",
            "[3/9]::[Train Loss 0.360416]::[Train Accuracy 0.868104]\n",
            "[3/9]::[Test Loss 0.376275]::[Test Accuracy 0.863833]\n"
          ]
        },
        {
          "name": "stderr",
          "output_type": "stream",
          "text": [
            "\r 44%|████▍     | 4/9 [05:19<06:38, 79.62s/it]"
          ]
        },
        {
          "name": "stdout",
          "output_type": "stream",
          "text": [
            "\n",
            "[4/9]::[Train Loss 0.322580]::[Train Accuracy 0.879687]\n",
            "[4/9]::[Test Loss 0.346014]::[Test Accuracy 0.877917]\n"
          ]
        },
        {
          "name": "stderr",
          "output_type": "stream",
          "text": [
            "\r 56%|█████▌    | 5/9 [06:38<05:16, 79.22s/it]"
          ]
        },
        {
          "name": "stdout",
          "output_type": "stream",
          "text": [
            "\n",
            "[5/9]::[Train Loss 0.293960]::[Train Accuracy 0.889479]\n",
            "[5/9]::[Test Loss 0.354192]::[Test Accuracy 0.876917]\n"
          ]
        },
        {
          "name": "stderr",
          "output_type": "stream",
          "text": [
            "\r 67%|██████▋   | 6/9 [07:56<03:56, 78.76s/it]"
          ]
        },
        {
          "name": "stdout",
          "output_type": "stream",
          "text": [
            "\n",
            "[6/9]::[Train Loss 0.273350]::[Train Accuracy 0.896458]\n",
            "[6/9]::[Test Loss 0.322227]::[Test Accuracy 0.885750]\n"
          ]
        },
        {
          "name": "stderr",
          "output_type": "stream",
          "text": [
            "\r 78%|███████▊  | 7/9 [09:14<02:37, 78.53s/it]"
          ]
        },
        {
          "name": "stdout",
          "output_type": "stream",
          "text": [
            "\n",
            "[7/9]::[Train Loss 0.253514]::[Train Accuracy 0.904104]\n",
            "[7/9]::[Test Loss 0.322926]::[Test Accuracy 0.887000]\n"
          ]
        },
        {
          "name": "stderr",
          "output_type": "stream",
          "text": [
            "\r 89%|████████▉ | 8/9 [10:32<01:18, 78.29s/it]"
          ]
        },
        {
          "name": "stdout",
          "output_type": "stream",
          "text": [
            "\n",
            "[8/9]::[Train Loss 0.237886]::[Train Accuracy 0.909354]\n",
            "[8/9]::[Test Loss 0.313096]::[Test Accuracy 0.889417]\n"
          ]
        },
        {
          "name": "stderr",
          "output_type": "stream",
          "text": [
            "100%|██████████| 9/9 [11:49<00:00, 78.86s/it]"
          ]
        },
        {
          "name": "stdout",
          "output_type": "stream",
          "text": [
            "\n",
            "[9/9]::[Train Loss 0.222562]::[Train Accuracy 0.914750]\n",
            "[9/9]::[Test Loss 0.312588]::[Test Accuracy 0.890667]\n"
          ]
        },
        {
          "name": "stderr",
          "output_type": "stream",
          "text": [
            "\n"
          ]
        },
        {
          "data": {
            "image/png": "[encoded data removed]",
            "text/plain": [
              "<Figure size 1080x720 with 2 Axes>"
            ]
          },
          "metadata": {},
          "output_type": "display_data"
        }
      ],
      "source": [
        "optim = make_optimizer_template(lr=1e-1, dr=.9, t=1000, rho=.4)\n",
        "model = FashionMNIST(optim=optim)\n",
        "criterion = CrossEntropy()\n",
        "\n",
        "train_losses, test_losses, train_acc, test_acc = train_test_model(model, criterion, x_train, x_test, y_train, y_test, batch_size=20, epochs=9, verbose=True)\n",
        "plot_all((train_losses, test_losses), (train_acc, test_acc)).show()"
      ]
    },
    {
      "cell_type": "code",
      "execution_count": null,
      "metadata": {
        "id": "vXPsb_wo32pR"
      },
      "outputs": [],
      "source": [
        ""
      ]
    }
  ],
  "metadata": {
    "colab": {
      "collapsed_sections": [],
      "name": "HW1.ipynb",
      "provenance": [],
      "authorship_tag": "ABX9TyNhSK7a4kOaypzcBQtF58TT",
      "include_colab_link": true
    },
    "kernelspec": {
      "display_name": "Python 3",
      "name": "python3"
    },
    "language_info": {
      "name": "python"
    }
  },
  "nbformat": 4,
  "nbformat_minor": 0
}