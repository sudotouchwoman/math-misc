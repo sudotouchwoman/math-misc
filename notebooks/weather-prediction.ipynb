{
  "nbformat": 4,
  "nbformat_minor": 0,
  "metadata": {
    "colab": {
      "name": "HW2.ipynb",
      "provenance": [],
      "collapsed_sections": [
        "8tAQi1bvjHP1",
        "DBVJs2vV-MpY",
        "yM2IGPGshRwn",
        "6i9_6pU7MheV",
        "mfsUXdX0-Xmn",
        "_rW8TBtYSWsP",
        "C8e4zmebvBgw",
        "ogH1u0kGFuDd",
        "U9ZTN4pKUywI",
        "t32fmb6wpcwA",
        "F8knm9m6AvhO",
        "B8ZITuuAHLDB",
        "fThBIZG2G0OE",
        "CRiSsXW6bSpQ",
        "PvjIo_8jI5La"
      ],
      "include_colab_link": true
    },
    "kernelspec": {
      "name": "python3",
      "display_name": "Python 3"
    },
    "language_info": {
      "name": "python"
    }
  },
  "cells": [
    {
      "cell_type": "markdown",
      "metadata": {
        "id": "view-in-github",
        "colab_type": "text"
      },
      "source": [
        "<a href=\"https://colab.research.google.com/github/sudotouchwoman/math-misc/blob/main/notebooks/weather-prediction.ipynb\" target=\"_parent\"><img src=\"https://colab.research.google.com/assets/colab-badge.svg\" alt=\"Open In Colab\"/></a>"
      ]
    },
    {
      "cell_type": "markdown",
      "metadata": {
        "id": "8tAQi1bvjHP1"
      },
      "source": [
        "# **Introduction to ML. Homework 2 by Teterin Nikita, ML-11 Fall 2021**"
      ]
    },
    {
      "cell_type": "code",
      "metadata": {
        "id": "N0HwqxNG-nvP"
      },
      "source": [
        "import warnings\n",
        "warnings.filterwarnings(\"ignore\")\n",
        "import pandas as pd\n",
        "import numpy as np\n",
        "import seaborn as sns\n",
        "import time\n",
        "from sklearn.datasets import make_classification\n",
        "import matplotlib.pyplot as plt\n",
        "%matplotlib notebook\n",
        "\n",
        "np.random.seed(10)"
      ],
      "execution_count": null,
      "outputs": []
    },
    {
      "cell_type": "markdown",
      "metadata": {
        "id": "DBVJs2vV-MpY"
      },
      "source": [
        "## **1. Logistic regression implementation 📈**"
      ]
    },
    {
      "cell_type": "code",
      "metadata": {
        "id": "T-3RIVs5-WKS"
      },
      "source": [
        "theta = np.array([1, 2, 3])\n",
        "\n",
        "X =  np.array([[ 1,  1, 1],\n",
        "               [-1, -2, 1],\n",
        "               [-1, -2, 2],\n",
        "               [-2, -2, -3]\n",
        "              ])\n",
        "\n",
        "y = np.array([1, 1, 0, 0])"
      ],
      "execution_count": null,
      "outputs": []
    },
    {
      "cell_type": "markdown",
      "metadata": {
        "id": "FdLo8d43_1li"
      },
      "source": [
        "Conditional probability formulae for logit\n",
        "\n",
        "$$p(y|x) = a(x, \\theta) = \\sigma(\\langle x, \\theta \\rangle) = \\frac{1}{1 + \\exp(-\\langle \\theta, x_i \\rangle)}$$"
      ]
    },
    {
      "cell_type": "code",
      "metadata": {
        "id": "7tN844KL-_dt"
      },
      "source": [
        "def probability(theta, X):\n",
        "  return 1. / (1. + np.exp(- X @ theta))\n",
        "\n",
        "prob = probability(theta, X)\n",
        "\n",
        "assert type(prob) == np.ndarray, 'Возвращается неверный тип'\n",
        "assert prob.shape == (X.shape[0],), 'Неверный размер массива'\n",
        "assert (prob.round(3) == [0.998, 0.119, 0.731, 0.]).all(), 'Функция считается неверно'"
      ],
      "execution_count": null,
      "outputs": []
    },
    {
      "cell_type": "markdown",
      "metadata": {
        "id": "l9qkvCyhAz_V"
      },
      "source": [
        "Binary class label predictor: for given $X$, probability threshold and $\\theta$ produces collection of class labels. In this implementation the labels are $y \\in \\{0, 1\\}$"
      ]
    },
    {
      "cell_type": "code",
      "metadata": {
        "id": "cSD4mLCS_Avb"
      },
      "source": [
        "def binary_class_prediction(theta, X, threshold =.5):\n",
        "    prob =  probability(theta, X)\n",
        "    labels = np.where(prob > threshold, 1, 0)\n",
        "    # as required, the binary labels are 0 and 1\n",
        "    # other ones can be used, e.g. -1 and 1\n",
        "    return labels\n",
        "\n",
        "y_pred = binary_class_prediction(theta, X)\n",
        "\n",
        "assert type(y_pred) == np.ndarray, 'Возвращается неверный тип'\n",
        "assert y_pred.shape == (X.shape[0],), 'Неверный размер массива'\n",
        "assert min(y_pred) == 0, 'Функция считается неверно'\n",
        "assert max(y_pred) == 1, 'Функция считается неверно'"
      ],
      "execution_count": null,
      "outputs": []
    },
    {
      "cell_type": "markdown",
      "metadata": {
        "id": "gG3XaZk3CAjX"
      },
      "source": [
        "**Logit quality functional**\n",
        "\n",
        "Write sample likelihood for class labels $y \\in \\{+1, -1\\}$:\n",
        "\n",
        "$$Likelihood(a, X^\\ell) = \\prod_{i = 1}^{\\ell} a(x_i,\\theta)^{[y_i = +1]} (1 - a(x_i, \\theta))^{[y_i = -1]} → \\operatorname*{max}_{\\theta}$$ \n",
        "\n",
        "Apply log to and turn *maximization problem* into *minimization problem*:\n",
        "\n",
        "***note**: $[condition]$ evaluates to 1 if the condition in the brackets is **true** and to 0 otherwise (bool to int cast in math)\n",
        "\n",
        "$$Q(a, X^\\ell) =     -\\sum_{i = 1}^{\\ell} \n",
        "        [y_i = +1] \\log a(x_i, \\theta)\n",
        "        +\n",
        "        [y_i = -1] \\log (1 - a(x_i, \\theta)) \\to \\operatorname*{min}_{\\theta}$$ \n",
        "        \n",
        "Insert $a(x, \\theta)$ defined earlier into $Q(a, X^\\ell)$:\n",
        "\n",
        "$$ Q(a, X^\\ell) = -\\sum_{i = 1}^{\\ell} \\left(\n",
        "    [y_i = +1]\n",
        "    \\log \\frac{1}{1 + \\exp(-\\langle \\theta, x_i \\rangle)}\n",
        "    +\n",
        "    [y_i = -1]\n",
        "    \\log \\frac{\\exp(-\\langle \\theta, x_i \\rangle)}{1 + \\exp(-\\langle \\theta, x_i \\rangle)}\n",
        "\\right)\n",
        "=\\\\\n",
        "=\n",
        "-\\sum_{i = 1}^{\\ell} \\left(\n",
        "    [y_i = +1]\n",
        "    \\log \\frac{1}{1 + \\exp(-\\langle \\theta, x_i \\rangle)}\n",
        "    +\n",
        "    [y_i = -1]\n",
        "    \\log \\frac{1}{1 + \\exp(\\langle \\theta, x_i \\rangle)}\n",
        "\\right)\n",
        "=\\\\\n",
        "=\n",
        "\\sum_{i = 1}^{\\ell}\n",
        "    \\log \\left(\n",
        "        1 + \\exp(-y_i \\langle \\theta, x_i \\rangle)\n",
        "    \\right) $$\n",
        "\n",
        "Let's get our hands dirty with some math and matrix operations!\n",
        "    "
      ]
    },
    {
      "cell_type": "code",
      "metadata": {
        "id": "N6jShn5s_Ar2"
      },
      "source": [
        "def logloss(theta, X, y):\n",
        "    y_ones = np.where(y != 1, -1, 1)\n",
        "    inverse_prob = 1 + np.exp( -y_ones * (X @ theta) )\n",
        "    loss = np.sum(np.log(inverse_prob)) / len(y)\n",
        "    return loss"
      ],
      "execution_count": null,
      "outputs": []
    },
    {
      "cell_type": "code",
      "metadata": {
        "id": "HoMjIZK9_ApX"
      },
      "source": [
        "assert logloss(theta, X, y).round(3) == 0.861, 'Функция считается неверно'"
      ],
      "execution_count": null,
      "outputs": []
    },
    {
      "cell_type": "markdown",
      "metadata": {
        "id": "USKmg0H0RDIV"
      },
      "source": [
        "Gradient for  $Q(a, X^\\ell)$ with respect to $\\theta_j$ is given by:\n",
        "\n",
        "$$\\frac{\\partial Q(a, X^{batch}) }{\\partial \\theta_j} =  \\frac{\\partial \\frac{1}{n}\\sum_{i = 1}^{n} \\log \\left( 1 + \\exp(- y_i \\langle \\theta, x_i \\rangle) \\right)} {\\partial \\theta_j} =\\frac{1}{n}\\sum_{i = 1}^{n} \\frac {1}{ 1 + \\exp(- y_i \\langle \\theta, x_i \\rangle)} \\cdot \\exp(- y_i \\langle \\theta, x_i \\rangle) \\cdot -y_i x_{ij}$$\n",
        "\n",
        "The function below computes gradient for given $\\theta$, $X$ and $y$"
      ]
    },
    {
      "cell_type": "code",
      "metadata": {
        "id": "S_lx6V8VUZmv"
      },
      "source": [
        "def gradient(theta, X, y):\n",
        "    y_ones = np.where( y != 1, -1, 1)\n",
        "    exp = np.exp(- y_ones * (X @ theta))\n",
        "\n",
        "    gradient = np.sum((1 / (1 + exp) ) * exp * (- y_ones * X.T), axis=1) / len(y_ones)\n",
        "    return gradient \n",
        "\n",
        "assert gradient(theta, X, y).shape == theta.shape, 'Неверный размер массива'"
      ],
      "execution_count": null,
      "outputs": []
    },
    {
      "cell_type": "code",
      "metadata": {
        "colab": {
          "base_uri": "https://localhost:8080/"
        },
        "id": "pniKuZvTYlgE",
        "outputId": "5aba3d2c-65f4-4268-f68c-ddfd603a5915"
      },
      "source": [
        "gradient(theta, X, y)"
      ],
      "execution_count": null,
      "outputs": [
        {
          "output_type": "execute_result",
          "data": {
            "text/plain": [
              "array([0.03681632, 0.07425094, 0.14471163])"
            ]
          },
          "metadata": {},
          "execution_count": 8
        }
      ]
    },
    {
      "cell_type": "code",
      "metadata": {
        "id": "Ov6DTeuVbWeJ"
      },
      "source": [
        "def fit(X, y, batch_size=10, h=0.05,  iters=100, plot=True):\n",
        "\n",
        "    # получаем размерности матрицы\n",
        "    size, dim = X.shape\n",
        "\n",
        "    # случайная начальная инициализация\n",
        "    theta = np.random.uniform(size=dim)\n",
        "    \n",
        "    errors = []\n",
        "    \n",
        "    theta_history = theta\n",
        "    colors = [plt.get_cmap('gist_rainbow')(i) for i in np.linspace(0,1,dim)]\n",
        "    \n",
        "    # plt \n",
        "    if plot:\n",
        "        fig = plt.figure(figsize=(15, 10))\n",
        "        ax1 = fig.add_subplot(221)\n",
        "        ax2 = fig.add_subplot(222)\n",
        "        ax3 = fig.add_subplot(212)\n",
        "        fig.suptitle('Gradient descent')\n",
        "        \n",
        "        \n",
        "    for _ in range(iters):  \n",
        "        \n",
        "        # берём случайный набор элементов\n",
        "        batch = np.random.choice(size, batch_size, replace=False)\n",
        "        X_batch = X[batch]\n",
        "        y_batch = y[batch]\n",
        "\n",
        "        # считаем производные\n",
        "        grad = gradient(theta, X_batch, y_batch)\n",
        "        \n",
        "        assert type(grad) == np.ndarray, 'неверный тип'\n",
        "        assert len(grad.shape) == 1, 'Необходимо вернуть одномерный вектор'\n",
        "        assert grad.shape[0] == len(theta), 'длина вектора должна быть равной количеству весов'\n",
        "        \n",
        "        \n",
        "        # Обновляем веса\n",
        "        \n",
        "        theta -= grad * h\n",
        "        \n",
        "        theta_history = np.vstack((theta_history, theta))\n",
        "        \n",
        "        # error\n",
        "        loss = logloss(theta, X, y)\n",
        "        errors.append(loss)\n",
        "        \n",
        "        if plot:\n",
        "            ax1.clear()            \n",
        "            ax1.scatter(range(dim), theta, label='Gradient solution')\n",
        "            ax1.legend(loc=\"upper left\")\n",
        "            ax1.set_title('theta')\n",
        "            ax1.set_ylabel(r'$\\bar \\beta$')\n",
        "            ax1.set_xlabel('weight ID')\n",
        "            \n",
        "            \n",
        "            ax2.plot(range(_+1), errors, 'g-')\n",
        "            ax2.set_title('logloss')\n",
        "            ax2.set_xlabel('itarations')\n",
        "            \n",
        "            ax3.plot(theta_history)\n",
        "            ax3.set_title('update theta')\n",
        "            ax3.set_ylabel('value')\n",
        "            ax3.set_xlabel('itarations')\n",
        "            time.sleep(0.05)\n",
        "            fig.canvas.draw()   \n",
        "            \n",
        "    return theta"
      ],
      "execution_count": null,
      "outputs": []
    },
    {
      "cell_type": "markdown",
      "metadata": {
        "id": "yM2IGPGshRwn"
      },
      "source": [
        "### **Take a look at binary classification results of our self-written logit**"
      ]
    },
    {
      "cell_type": "code",
      "metadata": {
        "id": "J-_UYZTEbaDt"
      },
      "source": [
        "X, y = make_classification(n_samples=2000)"
      ],
      "execution_count": null,
      "outputs": []
    },
    {
      "cell_type": "code",
      "metadata": {
        "colab": {
          "base_uri": "https://localhost:8080/",
          "height": 677
        },
        "id": "9wJDFCK0biT2",
        "outputId": "72252df5-9348-4ec3-910c-1900207e4623"
      },
      "source": [
        "optimal_theta = fit(X, y, plot=True)"
      ],
      "execution_count": null,
      "outputs": [
        {
          "output_type": "display_data",
          "data": {
            "image/png": "[encoded data removed]",
            "text/plain": [
              "<Figure size 1080x720 with 3 Axes>"
            ]
          },
          "metadata": {
            "needs_background": "light"
          }
        }
      ]
    },
    {
      "cell_type": "code",
      "metadata": {
        "colab": {
          "base_uri": "https://localhost:8080/"
        },
        "id": "ThcHqKS3lmt4",
        "outputId": "2bbe7785-4b04-4e7f-b27c-fcb7d1b2b8fd"
      },
      "source": [
        "from sklearn.metrics import classification_report\n",
        "y_pred = binary_class_prediction(optimal_theta, X)\n",
        "print(f'Error summary: { (y_pred != y).sum() }/{y.shape[0]} ({( ((y_pred != y).sum()/y.shape[0])*100 ):.4f}%)')\n",
        "print(f'Predicted {(np.mean(y_pred == y)*100):.4f}% correctly')\n",
        "print(classification_report(y_pred, y, target_names=['0', '1']))"
      ],
      "execution_count": null,
      "outputs": [
        {
          "output_type": "stream",
          "name": "stdout",
          "text": [
            "Error summary: 458/2000 (22.9000%)\n",
            "Predicted 77.1000% correctly\n",
            "              precision    recall  f1-score   support\n",
            "\n",
            "           0       0.82      0.75      0.78      1089\n",
            "           1       0.73      0.80      0.76       911\n",
            "\n",
            "    accuracy                           0.77      2000\n",
            "   macro avg       0.77      0.77      0.77      2000\n",
            "weighted avg       0.78      0.77      0.77      2000\n",
            "\n"
          ]
        }
      ]
    },
    {
      "cell_type": "code",
      "metadata": {
        "id": "NysxX7c9eIcR",
        "colab": {
          "base_uri": "https://localhost:8080/",
          "height": 677
        },
        "outputId": "4f63b50d-42cc-4fda-dbcb-0e2e7f5669ea"
      },
      "source": [
        "optimal_theta = fit(X, y, batch_size=15, h=1e-1, iters=500)"
      ],
      "execution_count": null,
      "outputs": [
        {
          "output_type": "display_data",
          "data": {
            "image/png": "[encoded data removed]",
            "text/plain": [
              "<Figure size 1080x720 with 3 Axes>"
            ]
          },
          "metadata": {
            "needs_background": "light"
          }
        }
      ]
    },
    {
      "cell_type": "markdown",
      "metadata": {
        "id": "PvaLik0ofvz0"
      },
      "source": [
        "Remarkably, with doubled default lr (1e-1) the accuracy increased ~~from about 84% up to 90.75%~~ from about 86.6% up to 90.65%\n",
        "\n",
        "**Upd:** actually, the accuracy value changes among reruns `make_classification()` creates *random* samples and weights are initialized *randomly* aswell."
      ]
    },
    {
      "cell_type": "code",
      "metadata": {
        "colab": {
          "base_uri": "https://localhost:8080/"
        },
        "id": "rDco_JpHblS9",
        "outputId": "3365e4e6-643b-481a-e5da-01f4132c3fbb"
      },
      "source": [
        "y_pred = binary_class_prediction(optimal_theta, X)\n",
        "print(f'Error summary: { (y_pred != y).sum() }/{y.shape[0]} ({( ((y_pred != y).sum()/y.shape[0])*100 ):.4f}%)')\n",
        "print(f'Predicted {(np.mean(y_pred == y)*100):.4f}% correctly')\n",
        "print(classification_report(y_pred, y, target_names=['0', '1']))"
      ],
      "execution_count": null,
      "outputs": [
        {
          "output_type": "stream",
          "name": "stdout",
          "text": [
            "Error summary: 319/2000 (15.9500%)\n",
            "Predicted 84.0500% correctly\n",
            "              precision    recall  f1-score   support\n",
            "\n",
            "           0       0.92      0.79      0.85      1168\n",
            "           1       0.76      0.91      0.83       832\n",
            "\n",
            "    accuracy                           0.84      2000\n",
            "   macro avg       0.84      0.85      0.84      2000\n",
            "weighted avg       0.85      0.84      0.84      2000\n",
            "\n"
          ]
        }
      ]
    },
    {
      "cell_type": "markdown",
      "metadata": {
        "id": "6i9_6pU7MheV"
      },
      "source": [
        "### **Wrap it all into a class**\n",
        "In sake of same API for later training and testing"
      ]
    },
    {
      "cell_type": "code",
      "metadata": {
        "id": "zY7YH1XLRQ7x"
      },
      "source": [
        "class CustomLogItModel:\n",
        "  def __init__(self, batch_size=10, h=0.05,  iters=100):\n",
        "    self.batch_size = batch_size\n",
        "    self.h = h\n",
        "    self.iters = iters\n",
        "\n",
        "  def fit(self, X: np.ndarray, y: np.ndarray):\n",
        "\n",
        "    def gradient(X, y):\n",
        "      y_ones = np.where( y != 1, -1, 1)\n",
        "      exp = np.exp(- y_ones * (X @ self.theta))\n",
        "      gradient = np.sum((1 / (1 + exp) ) * exp * (- y_ones * X.T), axis=1) / len(y_ones)\n",
        "      return gradient\n",
        "\n",
        "      # получаем размерности матрицы\n",
        "    size, dim = X.shape\n",
        "\n",
        "      # случайная начальная инициализация\n",
        "    self.theta = np.random.uniform(size=dim)          \n",
        "          \n",
        "    for _ in range(self.iters):  \n",
        "          \n",
        "          # берём случайный набор элементов\n",
        "          batch = np.random.choice(size, self.batch_size, replace=False)\n",
        "          X_batch = X[batch]\n",
        "          y_batch = y[batch]\n",
        "\n",
        "          # считаем производные\n",
        "          grad = gradient(X_batch, y_batch)\n",
        "          \n",
        "          # Обновляем веса\n",
        "          self.theta -= grad * self.h\n",
        "\n",
        "    return self\n",
        "\n",
        "  def predict(self, X, threshold=.5):\n",
        "    probability = lambda x: 1. / (1. + np.exp(- x @ self.theta))\n",
        "    labels = np.where(probability(X) > threshold, 1, 0)\n",
        "    # as required, the binary labels are 0 and 1\n",
        "    # other ones can be used, e.g. -1 and 1\n",
        "    \n",
        "    return labels"
      ],
      "execution_count": null,
      "outputs": []
    },
    {
      "cell_type": "markdown",
      "metadata": {
        "id": "mfsUXdX0-Xmn"
      },
      "source": [
        "## **2. Working with the dataset 🎨**"
      ]
    },
    {
      "cell_type": "code",
      "metadata": {
        "id": "XmVmjBTWl9X0"
      },
      "source": [
        "dataset_raw = pd.read_csv('https://raw.githubusercontent.com/sudotouchwoman/park_sem1_ML/master/weather.csv')"
      ],
      "execution_count": null,
      "outputs": []
    },
    {
      "cell_type": "code",
      "metadata": {
        "colab": {
          "base_uri": "https://localhost:8080/",
          "height": 569
        },
        "id": "GDU4eIQA35q_",
        "outputId": "68d3989d-651f-4970-f38d-293ed4baf4b8"
      },
      "source": [
        "dataset_raw.head(10)"
      ],
      "execution_count": null,
      "outputs": [
        {
          "output_type": "execute_result",
          "data": {
            "text/html": [
              "<div>\n",
              "<style scoped>\n",
              "    .dataframe tbody tr th:only-of-type {\n",
              "        vertical-align: middle;\n",
              "    }\n",
              "\n",
              "    .dataframe tbody tr th {\n",
              "        vertical-align: top;\n",
              "    }\n",
              "\n",
              "    .dataframe thead th {\n",
              "        text-align: right;\n",
              "    }\n",
              "</style>\n",
              "<table border=\"1\" class=\"dataframe\">\n",
              "  <thead>\n",
              "    <tr style=\"text-align: right;\">\n",
              "      <th></th>\n",
              "      <th>Unnamed: 0</th>\n",
              "      <th>Date</th>\n",
              "      <th>Location</th>\n",
              "      <th>MinTemp</th>\n",
              "      <th>MaxTemp</th>\n",
              "      <th>Rainfall</th>\n",
              "      <th>Evaporation</th>\n",
              "      <th>Sunshine</th>\n",
              "      <th>WindGustDir</th>\n",
              "      <th>WindGustSpeed</th>\n",
              "      <th>WindDir9am</th>\n",
              "      <th>WindDir3pm</th>\n",
              "      <th>WindSpeed9am</th>\n",
              "      <th>WindSpeed3pm</th>\n",
              "      <th>Humidity9am</th>\n",
              "      <th>Humidity3pm</th>\n",
              "      <th>Pressure9am</th>\n",
              "      <th>Pressure3pm</th>\n",
              "      <th>Cloud9am</th>\n",
              "      <th>Cloud3pm</th>\n",
              "      <th>Temp9am</th>\n",
              "      <th>Temp3pm</th>\n",
              "      <th>RainToday</th>\n",
              "      <th>RainTomorrow</th>\n",
              "    </tr>\n",
              "  </thead>\n",
              "  <tbody>\n",
              "    <tr>\n",
              "      <th>0</th>\n",
              "      <td>0</td>\n",
              "      <td>2008-12-01</td>\n",
              "      <td>Albury</td>\n",
              "      <td>13.4</td>\n",
              "      <td>22.9</td>\n",
              "      <td>0.6</td>\n",
              "      <td>NaN</td>\n",
              "      <td>NaN</td>\n",
              "      <td>W</td>\n",
              "      <td>44.0</td>\n",
              "      <td>W</td>\n",
              "      <td>WNW</td>\n",
              "      <td>20.0</td>\n",
              "      <td>24.0</td>\n",
              "      <td>71.0</td>\n",
              "      <td>22.0</td>\n",
              "      <td>1007.7</td>\n",
              "      <td>1007.1</td>\n",
              "      <td>8.0</td>\n",
              "      <td>NaN</td>\n",
              "      <td>16.9</td>\n",
              "      <td>21.8</td>\n",
              "      <td>No</td>\n",
              "      <td>No</td>\n",
              "    </tr>\n",
              "    <tr>\n",
              "      <th>1</th>\n",
              "      <td>1</td>\n",
              "      <td>2008-12-02</td>\n",
              "      <td>Albury</td>\n",
              "      <td>7.4</td>\n",
              "      <td>25.1</td>\n",
              "      <td>0.0</td>\n",
              "      <td>NaN</td>\n",
              "      <td>NaN</td>\n",
              "      <td>WNW</td>\n",
              "      <td>44.0</td>\n",
              "      <td>NNW</td>\n",
              "      <td>WSW</td>\n",
              "      <td>4.0</td>\n",
              "      <td>22.0</td>\n",
              "      <td>44.0</td>\n",
              "      <td>25.0</td>\n",
              "      <td>1010.6</td>\n",
              "      <td>1007.8</td>\n",
              "      <td>NaN</td>\n",
              "      <td>NaN</td>\n",
              "      <td>17.2</td>\n",
              "      <td>24.3</td>\n",
              "      <td>No</td>\n",
              "      <td>No</td>\n",
              "    </tr>\n",
              "    <tr>\n",
              "      <th>2</th>\n",
              "      <td>2</td>\n",
              "      <td>2008-12-03</td>\n",
              "      <td>Albury</td>\n",
              "      <td>12.9</td>\n",
              "      <td>25.7</td>\n",
              "      <td>0.0</td>\n",
              "      <td>NaN</td>\n",
              "      <td>NaN</td>\n",
              "      <td>WSW</td>\n",
              "      <td>46.0</td>\n",
              "      <td>W</td>\n",
              "      <td>WSW</td>\n",
              "      <td>19.0</td>\n",
              "      <td>26.0</td>\n",
              "      <td>38.0</td>\n",
              "      <td>30.0</td>\n",
              "      <td>1007.6</td>\n",
              "      <td>1008.7</td>\n",
              "      <td>NaN</td>\n",
              "      <td>2.0</td>\n",
              "      <td>21.0</td>\n",
              "      <td>23.2</td>\n",
              "      <td>No</td>\n",
              "      <td>No</td>\n",
              "    </tr>\n",
              "    <tr>\n",
              "      <th>3</th>\n",
              "      <td>3</td>\n",
              "      <td>2008-12-04</td>\n",
              "      <td>Albury</td>\n",
              "      <td>9.2</td>\n",
              "      <td>28.0</td>\n",
              "      <td>0.0</td>\n",
              "      <td>NaN</td>\n",
              "      <td>NaN</td>\n",
              "      <td>NE</td>\n",
              "      <td>24.0</td>\n",
              "      <td>SE</td>\n",
              "      <td>E</td>\n",
              "      <td>11.0</td>\n",
              "      <td>9.0</td>\n",
              "      <td>45.0</td>\n",
              "      <td>16.0</td>\n",
              "      <td>1017.6</td>\n",
              "      <td>1012.8</td>\n",
              "      <td>NaN</td>\n",
              "      <td>NaN</td>\n",
              "      <td>18.1</td>\n",
              "      <td>26.5</td>\n",
              "      <td>No</td>\n",
              "      <td>No</td>\n",
              "    </tr>\n",
              "    <tr>\n",
              "      <th>4</th>\n",
              "      <td>4</td>\n",
              "      <td>2008-12-05</td>\n",
              "      <td>Albury</td>\n",
              "      <td>17.5</td>\n",
              "      <td>32.3</td>\n",
              "      <td>1.0</td>\n",
              "      <td>NaN</td>\n",
              "      <td>NaN</td>\n",
              "      <td>W</td>\n",
              "      <td>41.0</td>\n",
              "      <td>ENE</td>\n",
              "      <td>NW</td>\n",
              "      <td>7.0</td>\n",
              "      <td>20.0</td>\n",
              "      <td>82.0</td>\n",
              "      <td>33.0</td>\n",
              "      <td>1010.8</td>\n",
              "      <td>1006.0</td>\n",
              "      <td>7.0</td>\n",
              "      <td>8.0</td>\n",
              "      <td>17.8</td>\n",
              "      <td>29.7</td>\n",
              "      <td>No</td>\n",
              "      <td>No</td>\n",
              "    </tr>\n",
              "    <tr>\n",
              "      <th>5</th>\n",
              "      <td>5</td>\n",
              "      <td>2008-12-06</td>\n",
              "      <td>Albury</td>\n",
              "      <td>14.6</td>\n",
              "      <td>29.7</td>\n",
              "      <td>0.2</td>\n",
              "      <td>NaN</td>\n",
              "      <td>NaN</td>\n",
              "      <td>WNW</td>\n",
              "      <td>56.0</td>\n",
              "      <td>W</td>\n",
              "      <td>W</td>\n",
              "      <td>19.0</td>\n",
              "      <td>24.0</td>\n",
              "      <td>55.0</td>\n",
              "      <td>23.0</td>\n",
              "      <td>1009.2</td>\n",
              "      <td>1005.4</td>\n",
              "      <td>NaN</td>\n",
              "      <td>NaN</td>\n",
              "      <td>20.6</td>\n",
              "      <td>28.9</td>\n",
              "      <td>No</td>\n",
              "      <td>No</td>\n",
              "    </tr>\n",
              "    <tr>\n",
              "      <th>6</th>\n",
              "      <td>6</td>\n",
              "      <td>2008-12-07</td>\n",
              "      <td>Albury</td>\n",
              "      <td>14.3</td>\n",
              "      <td>25.0</td>\n",
              "      <td>0.0</td>\n",
              "      <td>NaN</td>\n",
              "      <td>NaN</td>\n",
              "      <td>W</td>\n",
              "      <td>50.0</td>\n",
              "      <td>SW</td>\n",
              "      <td>W</td>\n",
              "      <td>20.0</td>\n",
              "      <td>24.0</td>\n",
              "      <td>49.0</td>\n",
              "      <td>19.0</td>\n",
              "      <td>1009.6</td>\n",
              "      <td>1008.2</td>\n",
              "      <td>1.0</td>\n",
              "      <td>NaN</td>\n",
              "      <td>18.1</td>\n",
              "      <td>24.6</td>\n",
              "      <td>No</td>\n",
              "      <td>No</td>\n",
              "    </tr>\n",
              "    <tr>\n",
              "      <th>7</th>\n",
              "      <td>7</td>\n",
              "      <td>2008-12-08</td>\n",
              "      <td>Albury</td>\n",
              "      <td>7.7</td>\n",
              "      <td>26.7</td>\n",
              "      <td>0.0</td>\n",
              "      <td>NaN</td>\n",
              "      <td>NaN</td>\n",
              "      <td>W</td>\n",
              "      <td>35.0</td>\n",
              "      <td>SSE</td>\n",
              "      <td>W</td>\n",
              "      <td>6.0</td>\n",
              "      <td>17.0</td>\n",
              "      <td>48.0</td>\n",
              "      <td>19.0</td>\n",
              "      <td>1013.4</td>\n",
              "      <td>1010.1</td>\n",
              "      <td>NaN</td>\n",
              "      <td>NaN</td>\n",
              "      <td>16.3</td>\n",
              "      <td>25.5</td>\n",
              "      <td>No</td>\n",
              "      <td>No</td>\n",
              "    </tr>\n",
              "    <tr>\n",
              "      <th>8</th>\n",
              "      <td>8</td>\n",
              "      <td>2008-12-09</td>\n",
              "      <td>Albury</td>\n",
              "      <td>9.7</td>\n",
              "      <td>31.9</td>\n",
              "      <td>0.0</td>\n",
              "      <td>NaN</td>\n",
              "      <td>NaN</td>\n",
              "      <td>NNW</td>\n",
              "      <td>80.0</td>\n",
              "      <td>SE</td>\n",
              "      <td>NW</td>\n",
              "      <td>7.0</td>\n",
              "      <td>28.0</td>\n",
              "      <td>42.0</td>\n",
              "      <td>9.0</td>\n",
              "      <td>1008.9</td>\n",
              "      <td>1003.6</td>\n",
              "      <td>NaN</td>\n",
              "      <td>NaN</td>\n",
              "      <td>18.3</td>\n",
              "      <td>30.2</td>\n",
              "      <td>No</td>\n",
              "      <td>Yes</td>\n",
              "    </tr>\n",
              "    <tr>\n",
              "      <th>9</th>\n",
              "      <td>9</td>\n",
              "      <td>2008-12-10</td>\n",
              "      <td>Albury</td>\n",
              "      <td>13.1</td>\n",
              "      <td>30.1</td>\n",
              "      <td>1.4</td>\n",
              "      <td>NaN</td>\n",
              "      <td>NaN</td>\n",
              "      <td>W</td>\n",
              "      <td>28.0</td>\n",
              "      <td>S</td>\n",
              "      <td>SSE</td>\n",
              "      <td>15.0</td>\n",
              "      <td>11.0</td>\n",
              "      <td>58.0</td>\n",
              "      <td>27.0</td>\n",
              "      <td>1007.0</td>\n",
              "      <td>1005.7</td>\n",
              "      <td>NaN</td>\n",
              "      <td>NaN</td>\n",
              "      <td>20.1</td>\n",
              "      <td>28.2</td>\n",
              "      <td>Yes</td>\n",
              "      <td>No</td>\n",
              "    </tr>\n",
              "  </tbody>\n",
              "</table>\n",
              "</div>"
            ],
            "text/plain": [
              "   Unnamed: 0        Date Location  ...  Temp3pm  RainToday  RainTomorrow\n",
              "0           0  2008-12-01   Albury  ...     21.8         No            No\n",
              "1           1  2008-12-02   Albury  ...     24.3         No            No\n",
              "2           2  2008-12-03   Albury  ...     23.2         No            No\n",
              "3           3  2008-12-04   Albury  ...     26.5         No            No\n",
              "4           4  2008-12-05   Albury  ...     29.7         No            No\n",
              "5           5  2008-12-06   Albury  ...     28.9         No            No\n",
              "6           6  2008-12-07   Albury  ...     24.6         No            No\n",
              "7           7  2008-12-08   Albury  ...     25.5         No            No\n",
              "8           8  2008-12-09   Albury  ...     30.2         No           Yes\n",
              "9           9  2008-12-10   Albury  ...     28.2        Yes            No\n",
              "\n",
              "[10 rows x 24 columns]"
            ]
          },
          "metadata": {},
          "execution_count": 8
        }
      ]
    },
    {
      "cell_type": "code",
      "metadata": {
        "id": "T_on-uPGwvkr"
      },
      "source": [
        "used_columns = dataset_raw[['Date', 'Location', 'MinTemp', 'MaxTemp', 'Rainfall', 'Evaporation', 'Sunshine', 'WindGustDir', 'WindGustSpeed', 'WindDir9am', 'RainTomorrow']]"
      ],
      "execution_count": null,
      "outputs": []
    },
    {
      "cell_type": "code",
      "metadata": {
        "colab": {
          "base_uri": "https://localhost:8080/",
          "height": 236
        },
        "id": "tf-2EY8jmGMT",
        "outputId": "5f18440a-cabd-4cbe-b76f-ae8013b75460"
      },
      "source": [
        "used_columns.describe().T"
      ],
      "execution_count": null,
      "outputs": [
        {
          "output_type": "execute_result",
          "data": {
            "text/html": [
              "<div>\n",
              "<style scoped>\n",
              "    .dataframe tbody tr th:only-of-type {\n",
              "        vertical-align: middle;\n",
              "    }\n",
              "\n",
              "    .dataframe tbody tr th {\n",
              "        vertical-align: top;\n",
              "    }\n",
              "\n",
              "    .dataframe thead th {\n",
              "        text-align: right;\n",
              "    }\n",
              "</style>\n",
              "<table border=\"1\" class=\"dataframe\">\n",
              "  <thead>\n",
              "    <tr style=\"text-align: right;\">\n",
              "      <th></th>\n",
              "      <th>count</th>\n",
              "      <th>mean</th>\n",
              "      <th>std</th>\n",
              "      <th>min</th>\n",
              "      <th>25%</th>\n",
              "      <th>50%</th>\n",
              "      <th>75%</th>\n",
              "      <th>max</th>\n",
              "    </tr>\n",
              "  </thead>\n",
              "  <tbody>\n",
              "    <tr>\n",
              "      <th>MinTemp</th>\n",
              "      <td>141556.0</td>\n",
              "      <td>12.186400</td>\n",
              "      <td>6.403283</td>\n",
              "      <td>-8.5</td>\n",
              "      <td>7.6</td>\n",
              "      <td>12.0</td>\n",
              "      <td>16.8</td>\n",
              "      <td>33.9</td>\n",
              "    </tr>\n",
              "    <tr>\n",
              "      <th>MaxTemp</th>\n",
              "      <td>141871.0</td>\n",
              "      <td>23.226784</td>\n",
              "      <td>7.117618</td>\n",
              "      <td>-4.8</td>\n",
              "      <td>17.9</td>\n",
              "      <td>22.6</td>\n",
              "      <td>28.2</td>\n",
              "      <td>48.1</td>\n",
              "    </tr>\n",
              "    <tr>\n",
              "      <th>Rainfall</th>\n",
              "      <td>140787.0</td>\n",
              "      <td>2.349974</td>\n",
              "      <td>8.465173</td>\n",
              "      <td>0.0</td>\n",
              "      <td>0.0</td>\n",
              "      <td>0.0</td>\n",
              "      <td>0.8</td>\n",
              "      <td>371.0</td>\n",
              "    </tr>\n",
              "    <tr>\n",
              "      <th>Evaporation</th>\n",
              "      <td>81350.0</td>\n",
              "      <td>5.469824</td>\n",
              "      <td>4.188537</td>\n",
              "      <td>0.0</td>\n",
              "      <td>2.6</td>\n",
              "      <td>4.8</td>\n",
              "      <td>7.4</td>\n",
              "      <td>145.0</td>\n",
              "    </tr>\n",
              "    <tr>\n",
              "      <th>Sunshine</th>\n",
              "      <td>74377.0</td>\n",
              "      <td>7.624853</td>\n",
              "      <td>3.781525</td>\n",
              "      <td>0.0</td>\n",
              "      <td>4.9</td>\n",
              "      <td>8.5</td>\n",
              "      <td>10.6</td>\n",
              "      <td>14.5</td>\n",
              "    </tr>\n",
              "    <tr>\n",
              "      <th>WindGustSpeed</th>\n",
              "      <td>132923.0</td>\n",
              "      <td>39.984292</td>\n",
              "      <td>13.588801</td>\n",
              "      <td>6.0</td>\n",
              "      <td>31.0</td>\n",
              "      <td>39.0</td>\n",
              "      <td>48.0</td>\n",
              "      <td>135.0</td>\n",
              "    </tr>\n",
              "  </tbody>\n",
              "</table>\n",
              "</div>"
            ],
            "text/plain": [
              "                  count       mean        std  min   25%   50%   75%    max\n",
              "MinTemp        141556.0  12.186400   6.403283 -8.5   7.6  12.0  16.8   33.9\n",
              "MaxTemp        141871.0  23.226784   7.117618 -4.8  17.9  22.6  28.2   48.1\n",
              "Rainfall       140787.0   2.349974   8.465173  0.0   0.0   0.0   0.8  371.0\n",
              "Evaporation     81350.0   5.469824   4.188537  0.0   2.6   4.8   7.4  145.0\n",
              "Sunshine        74377.0   7.624853   3.781525  0.0   4.9   8.5  10.6   14.5\n",
              "WindGustSpeed  132923.0  39.984292  13.588801  6.0  31.0  39.0  48.0  135.0"
            ]
          },
          "metadata": {},
          "execution_count": 89
        }
      ]
    },
    {
      "cell_type": "code",
      "metadata": {
        "id": "ISfPzyTFcoRA"
      },
      "source": [
        "# first action: remove almost empty rows (these would create noise)\n",
        "used_columns.dropna(axis=0, thresh=5, inplace=True)"
      ],
      "execution_count": null,
      "outputs": []
    },
    {
      "cell_type": "code",
      "metadata": {
        "id": "uErmvLmuc4d8"
      },
      "source": [
        "target = used_columns[['RainTomorrow']].replace({'Yes': 1, 'No': 0})\n",
        "features = used_columns.drop('RainTomorrow', axis=1)"
      ],
      "execution_count": null,
      "outputs": []
    },
    {
      "cell_type": "code",
      "metadata": {
        "colab": {
          "base_uri": "https://localhost:8080/",
          "height": 421
        },
        "id": "roDhs9gwxqrI",
        "outputId": "45d943ce-02d8-4f1a-a715-f9dd739e569a"
      },
      "source": [
        "features"
      ],
      "execution_count": null,
      "outputs": [
        {
          "output_type": "execute_result",
          "data": {
            "text/html": [
              "<div>\n",
              "<style scoped>\n",
              "    .dataframe tbody tr th:only-of-type {\n",
              "        vertical-align: middle;\n",
              "    }\n",
              "\n",
              "    .dataframe tbody tr th {\n",
              "        vertical-align: top;\n",
              "    }\n",
              "\n",
              "    .dataframe thead th {\n",
              "        text-align: right;\n",
              "    }\n",
              "</style>\n",
              "<table border=\"1\" class=\"dataframe\">\n",
              "  <thead>\n",
              "    <tr style=\"text-align: right;\">\n",
              "      <th></th>\n",
              "      <th>Date</th>\n",
              "      <th>Location</th>\n",
              "      <th>MinTemp</th>\n",
              "      <th>MaxTemp</th>\n",
              "      <th>Rainfall</th>\n",
              "      <th>Evaporation</th>\n",
              "      <th>Sunshine</th>\n",
              "      <th>WindGustDir</th>\n",
              "      <th>WindGustSpeed</th>\n",
              "      <th>WindDir9am</th>\n",
              "    </tr>\n",
              "  </thead>\n",
              "  <tbody>\n",
              "    <tr>\n",
              "      <th>0</th>\n",
              "      <td>2008-12-01</td>\n",
              "      <td>Albury</td>\n",
              "      <td>13.4</td>\n",
              "      <td>22.9</td>\n",
              "      <td>0.6</td>\n",
              "      <td>NaN</td>\n",
              "      <td>NaN</td>\n",
              "      <td>W</td>\n",
              "      <td>44.0</td>\n",
              "      <td>W</td>\n",
              "    </tr>\n",
              "    <tr>\n",
              "      <th>1</th>\n",
              "      <td>2008-12-02</td>\n",
              "      <td>Albury</td>\n",
              "      <td>7.4</td>\n",
              "      <td>25.1</td>\n",
              "      <td>0.0</td>\n",
              "      <td>NaN</td>\n",
              "      <td>NaN</td>\n",
              "      <td>WNW</td>\n",
              "      <td>44.0</td>\n",
              "      <td>NNW</td>\n",
              "    </tr>\n",
              "    <tr>\n",
              "      <th>2</th>\n",
              "      <td>2008-12-03</td>\n",
              "      <td>Albury</td>\n",
              "      <td>12.9</td>\n",
              "      <td>25.7</td>\n",
              "      <td>0.0</td>\n",
              "      <td>NaN</td>\n",
              "      <td>NaN</td>\n",
              "      <td>WSW</td>\n",
              "      <td>46.0</td>\n",
              "      <td>W</td>\n",
              "    </tr>\n",
              "    <tr>\n",
              "      <th>3</th>\n",
              "      <td>2008-12-04</td>\n",
              "      <td>Albury</td>\n",
              "      <td>9.2</td>\n",
              "      <td>28.0</td>\n",
              "      <td>0.0</td>\n",
              "      <td>NaN</td>\n",
              "      <td>NaN</td>\n",
              "      <td>NE</td>\n",
              "      <td>24.0</td>\n",
              "      <td>SE</td>\n",
              "    </tr>\n",
              "    <tr>\n",
              "      <th>4</th>\n",
              "      <td>2008-12-05</td>\n",
              "      <td>Albury</td>\n",
              "      <td>17.5</td>\n",
              "      <td>32.3</td>\n",
              "      <td>1.0</td>\n",
              "      <td>NaN</td>\n",
              "      <td>NaN</td>\n",
              "      <td>W</td>\n",
              "      <td>41.0</td>\n",
              "      <td>ENE</td>\n",
              "    </tr>\n",
              "    <tr>\n",
              "      <th>...</th>\n",
              "      <td>...</td>\n",
              "      <td>...</td>\n",
              "      <td>...</td>\n",
              "      <td>...</td>\n",
              "      <td>...</td>\n",
              "      <td>...</td>\n",
              "      <td>...</td>\n",
              "      <td>...</td>\n",
              "      <td>...</td>\n",
              "      <td>...</td>\n",
              "    </tr>\n",
              "    <tr>\n",
              "      <th>142188</th>\n",
              "      <td>2017-06-20</td>\n",
              "      <td>Uluru</td>\n",
              "      <td>3.5</td>\n",
              "      <td>21.8</td>\n",
              "      <td>0.0</td>\n",
              "      <td>NaN</td>\n",
              "      <td>NaN</td>\n",
              "      <td>E</td>\n",
              "      <td>31.0</td>\n",
              "      <td>ESE</td>\n",
              "    </tr>\n",
              "    <tr>\n",
              "      <th>142189</th>\n",
              "      <td>2017-06-21</td>\n",
              "      <td>Uluru</td>\n",
              "      <td>2.8</td>\n",
              "      <td>23.4</td>\n",
              "      <td>0.0</td>\n",
              "      <td>NaN</td>\n",
              "      <td>NaN</td>\n",
              "      <td>E</td>\n",
              "      <td>31.0</td>\n",
              "      <td>SE</td>\n",
              "    </tr>\n",
              "    <tr>\n",
              "      <th>142190</th>\n",
              "      <td>2017-06-22</td>\n",
              "      <td>Uluru</td>\n",
              "      <td>3.6</td>\n",
              "      <td>25.3</td>\n",
              "      <td>0.0</td>\n",
              "      <td>NaN</td>\n",
              "      <td>NaN</td>\n",
              "      <td>NNW</td>\n",
              "      <td>22.0</td>\n",
              "      <td>SE</td>\n",
              "    </tr>\n",
              "    <tr>\n",
              "      <th>142191</th>\n",
              "      <td>2017-06-23</td>\n",
              "      <td>Uluru</td>\n",
              "      <td>5.4</td>\n",
              "      <td>26.9</td>\n",
              "      <td>0.0</td>\n",
              "      <td>NaN</td>\n",
              "      <td>NaN</td>\n",
              "      <td>N</td>\n",
              "      <td>37.0</td>\n",
              "      <td>SE</td>\n",
              "    </tr>\n",
              "    <tr>\n",
              "      <th>142192</th>\n",
              "      <td>2017-06-24</td>\n",
              "      <td>Uluru</td>\n",
              "      <td>7.8</td>\n",
              "      <td>27.0</td>\n",
              "      <td>0.0</td>\n",
              "      <td>NaN</td>\n",
              "      <td>NaN</td>\n",
              "      <td>SE</td>\n",
              "      <td>28.0</td>\n",
              "      <td>SSE</td>\n",
              "    </tr>\n",
              "  </tbody>\n",
              "</table>\n",
              "<p>142101 rows × 10 columns</p>\n",
              "</div>"
            ],
            "text/plain": [
              "              Date Location  MinTemp  ...  WindGustDir  WindGustSpeed  WindDir9am\n",
              "0       2008-12-01   Albury     13.4  ...            W           44.0           W\n",
              "1       2008-12-02   Albury      7.4  ...          WNW           44.0         NNW\n",
              "2       2008-12-03   Albury     12.9  ...          WSW           46.0           W\n",
              "3       2008-12-04   Albury      9.2  ...           NE           24.0          SE\n",
              "4       2008-12-05   Albury     17.5  ...            W           41.0         ENE\n",
              "...            ...      ...      ...  ...          ...            ...         ...\n",
              "142188  2017-06-20    Uluru      3.5  ...            E           31.0         ESE\n",
              "142189  2017-06-21    Uluru      2.8  ...            E           31.0          SE\n",
              "142190  2017-06-22    Uluru      3.6  ...          NNW           22.0          SE\n",
              "142191  2017-06-23    Uluru      5.4  ...            N           37.0          SE\n",
              "142192  2017-06-24    Uluru      7.8  ...           SE           28.0         SSE\n",
              "\n",
              "[142101 rows x 10 columns]"
            ]
          },
          "metadata": {},
          "execution_count": 92
        }
      ]
    },
    {
      "cell_type": "code",
      "metadata": {
        "colab": {
          "base_uri": "https://localhost:8080/",
          "height": 421
        },
        "id": "9__hAdDRzyRA",
        "outputId": "5acc7788-6600-434e-e80c-03659801d6af"
      },
      "source": [
        "target"
      ],
      "execution_count": null,
      "outputs": [
        {
          "output_type": "execute_result",
          "data": {
            "text/html": [
              "<div>\n",
              "<style scoped>\n",
              "    .dataframe tbody tr th:only-of-type {\n",
              "        vertical-align: middle;\n",
              "    }\n",
              "\n",
              "    .dataframe tbody tr th {\n",
              "        vertical-align: top;\n",
              "    }\n",
              "\n",
              "    .dataframe thead th {\n",
              "        text-align: right;\n",
              "    }\n",
              "</style>\n",
              "<table border=\"1\" class=\"dataframe\">\n",
              "  <thead>\n",
              "    <tr style=\"text-align: right;\">\n",
              "      <th></th>\n",
              "      <th>RainTomorrow</th>\n",
              "    </tr>\n",
              "  </thead>\n",
              "  <tbody>\n",
              "    <tr>\n",
              "      <th>0</th>\n",
              "      <td>0</td>\n",
              "    </tr>\n",
              "    <tr>\n",
              "      <th>1</th>\n",
              "      <td>0</td>\n",
              "    </tr>\n",
              "    <tr>\n",
              "      <th>2</th>\n",
              "      <td>0</td>\n",
              "    </tr>\n",
              "    <tr>\n",
              "      <th>3</th>\n",
              "      <td>0</td>\n",
              "    </tr>\n",
              "    <tr>\n",
              "      <th>4</th>\n",
              "      <td>0</td>\n",
              "    </tr>\n",
              "    <tr>\n",
              "      <th>...</th>\n",
              "      <td>...</td>\n",
              "    </tr>\n",
              "    <tr>\n",
              "      <th>142188</th>\n",
              "      <td>0</td>\n",
              "    </tr>\n",
              "    <tr>\n",
              "      <th>142189</th>\n",
              "      <td>0</td>\n",
              "    </tr>\n",
              "    <tr>\n",
              "      <th>142190</th>\n",
              "      <td>0</td>\n",
              "    </tr>\n",
              "    <tr>\n",
              "      <th>142191</th>\n",
              "      <td>0</td>\n",
              "    </tr>\n",
              "    <tr>\n",
              "      <th>142192</th>\n",
              "      <td>0</td>\n",
              "    </tr>\n",
              "  </tbody>\n",
              "</table>\n",
              "<p>142101 rows × 1 columns</p>\n",
              "</div>"
            ],
            "text/plain": [
              "        RainTomorrow\n",
              "0                  0\n",
              "1                  0\n",
              "2                  0\n",
              "3                  0\n",
              "4                  0\n",
              "...              ...\n",
              "142188             0\n",
              "142189             0\n",
              "142190             0\n",
              "142191             0\n",
              "142192             0\n",
              "\n",
              "[142101 rows x 1 columns]"
            ]
          },
          "metadata": {},
          "execution_count": 11
        }
      ]
    },
    {
      "cell_type": "markdown",
      "metadata": {
        "id": "_rW8TBtYSWsP"
      },
      "source": [
        "### **Cleaning**"
      ]
    },
    {
      "cell_type": "code",
      "metadata": {
        "id": "-EPKHijWmhph",
        "colab": {
          "base_uri": "https://localhost:8080/"
        },
        "outputId": "3b179d70-8249-4618-b3b0-ee595fc2a254"
      },
      "source": [
        "features.isnull().mean().apply(lambda x: f'{(x*100):.2f}% Missing Rows')"
      ],
      "execution_count": null,
      "outputs": [
        {
          "output_type": "execute_result",
          "data": {
            "text/plain": [
              "Date              0.00% Missing Rows\n",
              "Location          0.00% Missing Rows\n",
              "MinTemp           0.38% Missing Rows\n",
              "MaxTemp           0.18% Missing Rows\n",
              "Rainfall          0.96% Missing Rows\n",
              "Evaporation      42.75% Missing Rows\n",
              "Sunshine         47.66% Missing Rows\n",
              "WindGustDir       6.50% Missing Rows\n",
              "WindGustSpeed     6.46% Missing Rows\n",
              "WindDir9am        6.98% Missing Rows\n",
              "dtype: object"
            ]
          },
          "metadata": {},
          "execution_count": 6
        }
      ]
    },
    {
      "cell_type": "code",
      "metadata": {
        "colab": {
          "base_uri": "https://localhost:8080/"
        },
        "id": "48soMN020CkN",
        "outputId": "a32c2d33-15e4-4dde-c6c1-da7cf5510132"
      },
      "source": [
        "target.isnull().mean().apply(lambda x: f'{(x*100):.2f}% Missing Rows')"
      ],
      "execution_count": null,
      "outputs": [
        {
          "output_type": "execute_result",
          "data": {
            "text/plain": [
              "RainTomorrow    0.00% Missing Rows\n",
              "dtype: object"
            ]
          },
          "metadata": {},
          "execution_count": 7
        }
      ]
    },
    {
      "cell_type": "markdown",
      "metadata": {
        "id": "2JqG0vIMtlEX"
      },
      "source": [
        "It is evident that `Evaporation` and `Sunshine` columns are almost for a half `NaN`. One would decide to drop them, however, I left them in features space\n",
        "\n",
        "Nevertheless, all the columns should be sanitized. Customarily, empty **numberic** features are filled with **mean** while for **categorical** the **first mode** (aka most frequent) values are used."
      ]
    },
    {
      "cell_type": "code",
      "metadata": {
        "id": "OITkqg4FPfQm"
      },
      "source": [
        "print(f'NUMERIC FEATURES:\\t{\", \".join(list(features.select_dtypes(include=np.number)))}')\n",
        "print(f'CATEGORICAL FEATURES:\\t{\", \".join(list(features.select_dtypes(include=object)))}')"
      ],
      "execution_count": null,
      "outputs": []
    },
    {
      "cell_type": "code",
      "metadata": {
        "id": "_hySs1c6uBxk"
      },
      "source": [
        "features['Evaporation'].replace(np.nan, features['Evaporation'].mean(), inplace=True)\n",
        "features['Sunshine'].replace(np.nan, features['Sunshine'].mean(), inplace=True)\n",
        "features['WindGustSpeed'].replace(np.nan, features['WindGustSpeed'].mean(), inplace=True)\n",
        "features['MinTemp'].replace(np.nan, features['MinTemp'].mean(), inplace=True)\n",
        "features['MaxTemp'].replace(np.nan, features['MaxTemp'].mean(), inplace=True)\n",
        "features['Rainfall'].replace(np.nan, features['Rainfall'].mean(), inplace=True)\n",
        "features['WindGustDir'].replace(np.nan, features['WindGustDir'].mode().values[0], inplace=True)\n",
        "features['WindDir9am'].replace(np.nan, features['WindDir9am'].mode().values[0], inplace=True)"
      ],
      "execution_count": null,
      "outputs": []
    },
    {
      "cell_type": "code",
      "metadata": {
        "colab": {
          "base_uri": "https://localhost:8080/"
        },
        "id": "_liWiiupvYC0",
        "outputId": "fa9a93db-47fa-4763-af72-a5126c888578"
      },
      "source": [
        "features.isnull().mean().apply(lambda x: f'{(x*100):.2f}% Missing Rows') # make sure it worked out"
      ],
      "execution_count": null,
      "outputs": [
        {
          "output_type": "execute_result",
          "data": {
            "text/plain": [
              "Date             0.00% Missing Rows\n",
              "Location         0.00% Missing Rows\n",
              "MinTemp          0.00% Missing Rows\n",
              "MaxTemp          0.00% Missing Rows\n",
              "Rainfall         0.00% Missing Rows\n",
              "Evaporation      0.00% Missing Rows\n",
              "Sunshine         0.00% Missing Rows\n",
              "WindGustDir      0.00% Missing Rows\n",
              "WindGustSpeed    0.00% Missing Rows\n",
              "WindDir9am       0.00% Missing Rows\n",
              "dtype: object"
            ]
          },
          "metadata": {},
          "execution_count": 9
        }
      ]
    },
    {
      "cell_type": "markdown",
      "metadata": {
        "id": "C8e4zmebvBgw"
      },
      "source": [
        "### **Feature analysis**\n",
        "Why not have a look at correlation matrix for features?"
      ]
    },
    {
      "cell_type": "code",
      "metadata": {
        "colab": {
          "base_uri": "https://localhost:8080/",
          "height": 850
        },
        "id": "c1qFVxkY7FZN",
        "outputId": "3bfff3e0-f855-4e93-f510-176228556ec7"
      },
      "source": [
        "colormap = plt.cm.RdBu\n",
        "plt.figure(figsize=(15, 15))\n",
        "plt.title('Correlation of Features', y=1.05, size=15)\n",
        "sns.heatmap(features.corr(), linewidths=0.1, vmax=1.0, \n",
        "            square=True, cmap=colormap, linecolor='white', annot=True)\n",
        "plt.show()"
      ],
      "execution_count": null,
      "outputs": [
        {
          "output_type": "display_data",
          "data": {
            "image/png": "[encoded data removed]",
            "text/plain": [
              "<Figure size 1080x1080 with 2 Axes>"
            ]
          },
          "metadata": {
            "needs_background": "light"
          }
        }
      ]
    },
    {
      "cell_type": "markdown",
      "metadata": {
        "id": "HnGoeS-pVyb-"
      },
      "source": [
        "According to the correlation matrix, `MinTemp` and `MaxTemp` are highly positively correlated thus we can replace both columns with a single one (average temp, but in the cell below I do not divide the sum because, well, what's the use, it is still linear to the true average)"
      ]
    },
    {
      "cell_type": "code",
      "metadata": {
        "id": "cvyKgQGEnxJB"
      },
      "source": [
        "features['AvgTemp'] = features.apply(lambda row: (row.MinTemp + row.MaxTemp), axis=1)\n",
        "del features['MaxTemp']\n",
        "del features['MinTemp']"
      ],
      "execution_count": null,
      "outputs": []
    },
    {
      "cell_type": "markdown",
      "metadata": {
        "id": "YdnVM_vrFr8k"
      },
      "source": [
        "Another point I noticed is that `Rainfall` is actually really imbalanced: there are more `0.0` values then others in total! **Binarization** should be a good option here"
      ]
    },
    {
      "cell_type": "code",
      "metadata": {
        "id": "OSmYPT0-GGJ6"
      },
      "source": [
        "features['Rainfall'] = features['Rainfall'].map(lambda r: 1 if r > 0 else 0)"
      ],
      "execution_count": null,
      "outputs": []
    },
    {
      "cell_type": "markdown",
      "metadata": {
        "id": "ogH1u0kGFuDd"
      },
      "source": [
        "## **3. Using numerical features only 🔢**"
      ]
    },
    {
      "cell_type": "code",
      "metadata": {
        "id": "taW4INsMF1KJ"
      },
      "source": [
        "numeric_features = features.select_dtypes([np.number])"
      ],
      "execution_count": null,
      "outputs": []
    },
    {
      "cell_type": "code",
      "metadata": {
        "id": "sUVuKrE_GEwL"
      },
      "source": [
        "from sklearn.model_selection import train_test_split\n",
        "from sklearn.metrics import classification_report\n",
        "from sklearn.preprocessing import StandardScaler\n",
        "\n",
        "features_train, features_test, target_train, target_test = train_test_split(numeric_features, np.ravel(target), test_size=0.25, shuffle=False)"
      ],
      "execution_count": null,
      "outputs": []
    },
    {
      "cell_type": "code",
      "metadata": {
        "id": "oPyaYbPurqQf"
      },
      "source": [
        "scaler = StandardScaler()\n",
        "features_train_scaled = scaler.fit_transform(features_train)\n",
        "features_test_scaled = scaler.transform(features_test)"
      ],
      "execution_count": null,
      "outputs": []
    },
    {
      "cell_type": "code",
      "metadata": {
        "id": "6x2Z0Goys4nn"
      },
      "source": [
        "# our model can only be fed with numpy arrays, so it is vital\n",
        "# to convert them to an appropriate type to avoid errors\n",
        "features_train_scaled = np.asarray(features_train_scaled)\n",
        "features_test_scaled = np.asarray(features_test_scaled)\n",
        "\n",
        "target_train = np.asarray(target_train)\n",
        "target_test = np.asarray(target_test)\n",
        "\n",
        "features_train = np.asarray(features_train)\n",
        "features_test = np.asarray(features_test)"
      ],
      "execution_count": null,
      "outputs": []
    },
    {
      "cell_type": "code",
      "metadata": {
        "colab": {
          "base_uri": "https://localhost:8080/"
        },
        "id": "HQnf2wEcThUP",
        "outputId": "2915f854-de42-4c66-ceae-ab437039c8c8"
      },
      "source": [
        "print(f'ONLY NUMERIC FEATURES\\n')\n",
        "print(f'CUSTOM LOGISTIC REGRESSION REPORT (NO SCALING)\\n')\n",
        "LogIt = CustomLogItModel(iters=500, batch_size=100, h=1e-1).fit(features_train, target_train)\n",
        "\n",
        "print(f'Classifier: {LogIt.__class__.__name__}')\n",
        "target_predicted = LogIt.predict(features_train)\n",
        "print(f'Training accuracy: Error summary: { (target_train != target_predicted).sum() }/{target_train.shape[0]} ({( ((target_train != target_predicted).sum()/target_train.shape[0])*100 ):.4f}%)')\n",
        "print(f'Training accuracy mean: {(np.mean(target_predicted == target_train)*100):.4f}%')\n",
        "print(classification_report(y_pred=target_predicted, y_true=target_train, target_names=['No Rain', 'Rain']))\n",
        "\n",
        "target_predicted = LogIt.predict(features_test)\n",
        "print(f'Test accuracy: Error summary: { (target_test != target_predicted).sum() }/{target_test.shape[0]} ({( ((target_test != target_predicted).sum()/target_test.shape[0])*100 ):.4f}%)')\n",
        "print(f'Test accuracy mean: {(np.mean(target_predicted == target_test)*100):.4f}%')\n",
        "print(classification_report(y_pred=target_predicted, y_true=target_test, target_names=['No Rain', 'Rain']))"
      ],
      "execution_count": null,
      "outputs": [
        {
          "output_type": "stream",
          "name": "stdout",
          "text": [
            "ONLY NUMERIC FEATURES\n",
            "\n",
            "CUSTOM LOGISTIC REGRESSION REPORT (NO SCALING)\n",
            "\n",
            "Classifier: CustomLogItModel\n",
            "Training accuracy: Error summary: 27624/106644 (25.9030%)\n",
            "Training accuracy mean: 74.0970%\n",
            "              precision    recall  f1-score   support\n",
            "\n",
            "     No Rain       0.89      0.76      0.82     82434\n",
            "        Rain       0.45      0.69      0.55     24210\n",
            "\n",
            "    accuracy                           0.74    106644\n",
            "   macro avg       0.67      0.72      0.68    106644\n",
            "weighted avg       0.79      0.74      0.76    106644\n",
            "\n",
            "Test accuracy: Error summary: 7922/35549 (22.2847%)\n",
            "Test accuracy mean: 77.7153%\n",
            "              precision    recall  f1-score   support\n",
            "\n",
            "     No Rain       0.90      0.81      0.85     27882\n",
            "        Rain       0.49      0.66      0.56      7667\n",
            "\n",
            "    accuracy                           0.78     35549\n",
            "   macro avg       0.69      0.73      0.71     35549\n",
            "weighted avg       0.81      0.78      0.79     35549\n",
            "\n"
          ]
        }
      ]
    },
    {
      "cell_type": "code",
      "metadata": {
        "colab": {
          "base_uri": "https://localhost:8080/"
        },
        "id": "VXBNECkiXOAY",
        "outputId": "91d0b09b-2813-4d5f-b845-2996ed942b00"
      },
      "source": [
        "print(f'ONLY NUMERIC FEATURES\\n')\n",
        "print(f'CUSTOM LOGISTIC REGRESSION REPORT (WITH SCALING)\\n')\n",
        "LogIt = CustomLogItModel(iters=500, batch_size=100, h=1e-1).fit(features_train_scaled, target_train)\n",
        "\n",
        "print(f'Classifier: {LogIt.__class__.__name__}')\n",
        "target_predicted = LogIt.predict(features_train_scaled)\n",
        "print(f'Training accuracy: Error summary: { (target_train != target_predicted).sum() }/{target_train.shape[0]} ({( ((target_train != target_predicted).sum()/target_train.shape[0])*100 ):.4f}%)')\n",
        "print(f'Training accuracy mean: {(np.mean(target_predicted == target_train)*100):.4f}%')\n",
        "print(classification_report(y_pred=target_predicted, y_true=target_train, target_names=['No Rain', 'Rain']))\n",
        "\n",
        "target_predicted = LogIt.predict(features_test_scaled)\n",
        "print(f'Test accuracy: Error summary: { (target_test != target_predicted).sum() }/{target_test.shape[0]} ({( ((target_test != target_predicted).sum()/target_test.shape[0])*100 ):.4f}%)')\n",
        "print(f'Test accuracy mean: {(np.mean(target_predicted == target_test)*100):.4f}%')\n",
        "print(classification_report(y_pred=target_predicted, y_true=target_test, target_names=['No Rain', 'Rain']))"
      ],
      "execution_count": null,
      "outputs": [
        {
          "output_type": "stream",
          "name": "stdout",
          "text": [
            "ONLY NUMERIC FEATURES\n",
            "\n",
            "CUSTOM LOGISTIC REGRESSION REPORT (WITH SCALING)\n",
            "\n",
            "Classifier: CustomLogItModel\n",
            "Training accuracy: Error summary: 31085/106644 (29.1484%)\n",
            "Training accuracy mean: 70.8516%\n",
            "              precision    recall  f1-score   support\n",
            "\n",
            "     No Rain       0.91      0.70      0.79     82434\n",
            "        Rain       0.42      0.75      0.54     24210\n",
            "\n",
            "    accuracy                           0.71    106644\n",
            "   macro avg       0.66      0.72      0.66    106644\n",
            "weighted avg       0.80      0.71      0.73    106644\n",
            "\n",
            "Test accuracy: Error summary: 8606/35549 (24.2088%)\n",
            "Test accuracy mean: 75.7912%\n",
            "              precision    recall  f1-score   support\n",
            "\n",
            "     No Rain       0.91      0.77      0.83     27882\n",
            "        Rain       0.46      0.73      0.56      7667\n",
            "\n",
            "    accuracy                           0.76     35549\n",
            "   macro avg       0.69      0.75      0.70     35549\n",
            "weighted avg       0.81      0.76      0.77     35549\n",
            "\n"
          ]
        }
      ]
    },
    {
      "cell_type": "code",
      "metadata": {
        "colab": {
          "base_uri": "https://localhost:8080/"
        },
        "id": "ItSDibV0YPao",
        "outputId": "ac89048f-b2ce-42d9-e8f3-42d2cc723bbe"
      },
      "source": [
        "print(f'ONLY NUMERIC FEATURES\\n')\n",
        "print(f'CONSTANT SOLUTION (MEAN)\\n')\n",
        "\n",
        "target_predicted = int(target_train.mean()) * np.ones_like(target_train)\n",
        "print(f'Error summary (train): { (target_predicted != target_train).sum() }/{target_train.shape[0]} ({( ((target_predicted != target_train).sum()/target_train.shape[0])*100 ):.4f}%)')\n",
        "print(f'Predicted {(np.mean(target_predicted == target_train)*100):.4f}% correctly')\n",
        "print(classification_report(y_true=target_train,y_pred=target_predicted, target_names=['No rain', 'Rains']))\n",
        "\n",
        "target_predicted = int(target_test.mean()) * np.ones_like(target_test)\n",
        "print(f'Error summary (test): { (target_predicted != target_test).sum() }/{target_test.shape[0]} ({( ((target_predicted != target_test).sum()/target_test.shape[0])*100 ):.4f}%)')\n",
        "print(f'Predicted {(np.mean(target_predicted == target_test)*100):.4f}% correctly')\n",
        "print(classification_report(y_true=target_test,y_pred=target_predicted, target_names=['No rain', 'Rains']))"
      ],
      "execution_count": null,
      "outputs": [
        {
          "output_type": "stream",
          "name": "stdout",
          "text": [
            "ONLY NUMERIC FEATURES\n",
            "\n",
            "CONSTANT SOLUTION (MEAN)\n",
            "\n",
            "Error summary (train): 24210/106644 (22.7017%)\n",
            "Predicted 77.2983% correctly\n",
            "              precision    recall  f1-score   support\n",
            "\n",
            "     No rain       0.77      1.00      0.87     82434\n",
            "       Rains       0.00      0.00      0.00     24210\n",
            "\n",
            "    accuracy                           0.77    106644\n",
            "   macro avg       0.39      0.50      0.44    106644\n",
            "weighted avg       0.60      0.77      0.67    106644\n",
            "\n",
            "Error summary (test): 7667/35549 (21.5674%)\n",
            "Predicted 78.4326% correctly\n",
            "              precision    recall  f1-score   support\n",
            "\n",
            "     No rain       0.78      1.00      0.88     27882\n",
            "       Rains       0.00      0.00      0.00      7667\n",
            "\n",
            "    accuracy                           0.78     35549\n",
            "   macro avg       0.39      0.50      0.44     35549\n",
            "weighted avg       0.62      0.78      0.69     35549\n",
            "\n"
          ]
        }
      ]
    },
    {
      "cell_type": "markdown",
      "metadata": {
        "id": "65aw8GEo36v6"
      },
      "source": [
        "One can observe that naive classification has recall `1` for negative class and `0` for positive class (expectedly).\n",
        "\n",
        "Peek at performance of `sklearn`'s models with numeric features"
      ]
    },
    {
      "cell_type": "code",
      "metadata": {
        "id": "CpNG8mJ7_HsW"
      },
      "source": [
        "from sklearn.naive_bayes import GaussianNB, BernoulliNB\n",
        "from sklearn.model_selection import train_test_split\n",
        "\n",
        "features_train, features_test, target_train, target_test = train_test_split(numeric_features, np.ravel(target), test_size=0.25, shuffle=False)"
      ],
      "execution_count": null,
      "outputs": []
    },
    {
      "cell_type": "code",
      "metadata": {
        "colab": {
          "base_uri": "https://localhost:8080/"
        },
        "id": "NIMlc-gWvYfc",
        "outputId": "e67cadd8-03c3-4fd8-dd6d-fc2bd6985856"
      },
      "source": [
        "print(f'ONLY NUMERIC FEATURES\\n')\n",
        "classifiers = [GaussianNB, BernoulliNB]\n",
        "for classifier in classifiers:\n",
        "\n",
        "  NB = classifier().fit(features_train, target_train)\n",
        "  target_predicted = NB.predict(features_train)\n",
        "  print(f'Classifier: {NB.__class__.__name__}')\n",
        "  print('Training results')\n",
        "  print(classification_report(y_pred=target_predicted, y_true=target_train, target_names=['No Rain', 'Rain']))\n",
        "  print(f'Training accuracy: Error summary: { (target_train != target_predicted).sum() }/{target_train.shape[0]} ({( ((target_train != target_predicted).sum()/target_train.shape[0])*100 ):.4f}%)')\n",
        "  print(f'Training accuracy mean: {(np.mean(target_predicted == target_train)*100):.4f}%')\n",
        "\n",
        "\n",
        "  target_predicted = NB.predict(features_test)\n",
        "  print('Testing results')\n",
        "  print(classification_report(y_pred=target_predicted, y_true=target_test, target_names=['No Rain', 'Rain']))\n",
        "  print(f'Test accuracy: Error summary: { (target_test != target_predicted).sum() }/{target_test.shape[0]} ({( ((target_test != target_predicted).sum()/target_test.shape[0])*100 ):.4f}%)')\n",
        "  print(f'Test accuracy mean: {(np.mean(target_predicted == target_test)*100):.4f}%\\n')"
      ],
      "execution_count": null,
      "outputs": [
        {
          "output_type": "stream",
          "name": "stdout",
          "text": [
            "ONLY NUMERIC FEATURES\n",
            "\n",
            "Classifier: GaussianNB\n",
            "Training results\n",
            "              precision    recall  f1-score   support\n",
            "\n",
            "     No Rain       0.82      0.94      0.88     82434\n",
            "        Rain       0.61      0.31      0.41     24210\n",
            "\n",
            "    accuracy                           0.80    106644\n",
            "   macro avg       0.71      0.63      0.64    106644\n",
            "weighted avg       0.77      0.80      0.77    106644\n",
            "\n",
            "Training accuracy: Error summary: 21568/106644 (20.2243%)\n",
            "Training accuracy mean: 79.7757%\n",
            "Testing results\n",
            "              precision    recall  f1-score   support\n",
            "\n",
            "     No Rain       0.83      0.96      0.89     27882\n",
            "        Rain       0.64      0.28      0.39      7667\n",
            "\n",
            "    accuracy                           0.81     35549\n",
            "   macro avg       0.74      0.62      0.64     35549\n",
            "weighted avg       0.79      0.81      0.78     35549\n",
            "\n",
            "Test accuracy: Error summary: 6696/35549 (18.8360%)\n",
            "Test accuracy mean: 81.1640%\n",
            "\n",
            "Classifier: BernoulliNB\n",
            "Training results\n",
            "              precision    recall  f1-score   support\n",
            "\n",
            "     No Rain       0.78      0.99      0.87     82434\n",
            "        Rain       0.69      0.06      0.11     24210\n",
            "\n",
            "    accuracy                           0.78    106644\n",
            "   macro avg       0.74      0.53      0.49    106644\n",
            "weighted avg       0.76      0.78      0.70    106644\n",
            "\n",
            "Training accuracy: Error summary: 23402/106644 (21.9440%)\n",
            "Training accuracy mean: 78.0560%\n",
            "Testing results\n",
            "              precision    recall  f1-score   support\n",
            "\n",
            "     No Rain       0.79      1.00      0.88     27882\n",
            "        Rain       0.72      0.04      0.08      7667\n",
            "\n",
            "    accuracy                           0.79     35549\n",
            "   macro avg       0.75      0.52      0.48     35549\n",
            "weighted avg       0.77      0.79      0.71     35549\n",
            "\n",
            "Test accuracy: Error summary: 7472/35549 (21.0189%)\n",
            "Test accuracy mean: 78.9811%\n",
            "\n"
          ]
        }
      ]
    },
    {
      "cell_type": "code",
      "metadata": {
        "id": "Q-DELFcm5zei"
      },
      "source": [
        "from sklearn.linear_model import LogisticRegression"
      ],
      "execution_count": null,
      "outputs": []
    },
    {
      "cell_type": "code",
      "metadata": {
        "colab": {
          "base_uri": "https://localhost:8080/"
        },
        "id": "4JwgGWsi52y4",
        "outputId": "49aee371-065f-4296-c9f3-56316365eb73"
      },
      "source": [
        "print(f'ONLY NUMERIC FEATURES\\n')\n",
        "LogIt = LogisticRegression(max_iter=500).fit(features_train, target_train)\n",
        "\n",
        "print(f'Classifier: {LogIt.__class__.__name__}')\n",
        "target_predicted = LogIt.predict(features_train)\n",
        "print(classification_report(y_pred=target_predicted, y_true=target_train, target_names=['No Rain', 'Rain']))\n",
        "print(f'Training accuracy: Error summary: { (target_train != target_predicted).sum() }/{target_train.shape[0]} ({( ((target_train != target_predicted).sum()/target_train.shape[0])*100 ):.4f}%)')\n",
        "print(f'Training accuracy mean: {(np.mean(target_predicted == target_train)*100):.4f}%')\n",
        "\n",
        "target_predicted = LogIt.predict(features_test)\n",
        "print(classification_report(y_pred=target_predicted, y_true=target_test, target_names=['No Rain', 'Rain']))\n",
        "print(f'Test accuracy: Error summary: { (target_test != target_predicted).sum() }/{target_test.shape[0]} ({( ((target_test != target_predicted).sum()/target_test.shape[0])*100 ):.4f}%)')\n",
        "print(f'Test accuracy mean: {(np.mean(target_predicted == target_test)*100):.4f}%')"
      ],
      "execution_count": null,
      "outputs": [
        {
          "output_type": "stream",
          "name": "stdout",
          "text": [
            "ONLY NUMERIC FEATURES\n",
            "\n",
            "Classifier: LogisticRegression\n",
            "              precision    recall  f1-score   support\n",
            "\n",
            "     No Rain       0.82      0.95      0.88     82434\n",
            "        Rain       0.64      0.31      0.42     24210\n",
            "\n",
            "    accuracy                           0.80    106644\n",
            "   macro avg       0.73      0.63      0.65    106644\n",
            "weighted avg       0.78      0.80      0.78    106644\n",
            "\n",
            "Training accuracy: Error summary: 20957/106644 (19.6514%)\n",
            "Training accuracy mean: 80.3486%\n",
            "              precision    recall  f1-score   support\n",
            "\n",
            "     No Rain       0.83      0.96      0.89     27882\n",
            "        Rain       0.68      0.27      0.39      7667\n",
            "\n",
            "    accuracy                           0.81     35549\n",
            "   macro avg       0.75      0.62      0.64     35549\n",
            "weighted avg       0.80      0.81      0.78     35549\n",
            "\n",
            "Test accuracy: Error summary: 6580/35549 (18.5097%)\n",
            "Test accuracy mean: 81.4903%\n"
          ]
        }
      ]
    },
    {
      "cell_type": "markdown",
      "metadata": {
        "id": "U9ZTN4pKUywI"
      },
      "source": [
        "## **4. Preprocessing categorical features 🌐**"
      ]
    },
    {
      "cell_type": "code",
      "metadata": {
        "id": "ubcPJmkx_KG-",
        "colab": {
          "base_uri": "https://localhost:8080/",
          "height": 421
        },
        "outputId": "806e5ac4-952d-4288-95fd-a585928756f5"
      },
      "source": [
        "categorical_features = features.select_dtypes(include=[object])\n",
        "categorical_features"
      ],
      "execution_count": null,
      "outputs": [
        {
          "output_type": "execute_result",
          "data": {
            "text/html": [
              "<div>\n",
              "<style scoped>\n",
              "    .dataframe tbody tr th:only-of-type {\n",
              "        vertical-align: middle;\n",
              "    }\n",
              "\n",
              "    .dataframe tbody tr th {\n",
              "        vertical-align: top;\n",
              "    }\n",
              "\n",
              "    .dataframe thead th {\n",
              "        text-align: right;\n",
              "    }\n",
              "</style>\n",
              "<table border=\"1\" class=\"dataframe\">\n",
              "  <thead>\n",
              "    <tr style=\"text-align: right;\">\n",
              "      <th></th>\n",
              "      <th>Date</th>\n",
              "      <th>Location</th>\n",
              "      <th>WindGustDir</th>\n",
              "      <th>WindDir9am</th>\n",
              "    </tr>\n",
              "  </thead>\n",
              "  <tbody>\n",
              "    <tr>\n",
              "      <th>0</th>\n",
              "      <td>2008-12-01</td>\n",
              "      <td>Albury</td>\n",
              "      <td>W</td>\n",
              "      <td>W</td>\n",
              "    </tr>\n",
              "    <tr>\n",
              "      <th>1</th>\n",
              "      <td>2008-12-02</td>\n",
              "      <td>Albury</td>\n",
              "      <td>WNW</td>\n",
              "      <td>NNW</td>\n",
              "    </tr>\n",
              "    <tr>\n",
              "      <th>2</th>\n",
              "      <td>2008-12-03</td>\n",
              "      <td>Albury</td>\n",
              "      <td>WSW</td>\n",
              "      <td>W</td>\n",
              "    </tr>\n",
              "    <tr>\n",
              "      <th>3</th>\n",
              "      <td>2008-12-04</td>\n",
              "      <td>Albury</td>\n",
              "      <td>NE</td>\n",
              "      <td>SE</td>\n",
              "    </tr>\n",
              "    <tr>\n",
              "      <th>4</th>\n",
              "      <td>2008-12-05</td>\n",
              "      <td>Albury</td>\n",
              "      <td>W</td>\n",
              "      <td>ENE</td>\n",
              "    </tr>\n",
              "    <tr>\n",
              "      <th>...</th>\n",
              "      <td>...</td>\n",
              "      <td>...</td>\n",
              "      <td>...</td>\n",
              "      <td>...</td>\n",
              "    </tr>\n",
              "    <tr>\n",
              "      <th>142188</th>\n",
              "      <td>2017-06-20</td>\n",
              "      <td>Uluru</td>\n",
              "      <td>E</td>\n",
              "      <td>ESE</td>\n",
              "    </tr>\n",
              "    <tr>\n",
              "      <th>142189</th>\n",
              "      <td>2017-06-21</td>\n",
              "      <td>Uluru</td>\n",
              "      <td>E</td>\n",
              "      <td>SE</td>\n",
              "    </tr>\n",
              "    <tr>\n",
              "      <th>142190</th>\n",
              "      <td>2017-06-22</td>\n",
              "      <td>Uluru</td>\n",
              "      <td>NNW</td>\n",
              "      <td>SE</td>\n",
              "    </tr>\n",
              "    <tr>\n",
              "      <th>142191</th>\n",
              "      <td>2017-06-23</td>\n",
              "      <td>Uluru</td>\n",
              "      <td>N</td>\n",
              "      <td>SE</td>\n",
              "    </tr>\n",
              "    <tr>\n",
              "      <th>142192</th>\n",
              "      <td>2017-06-24</td>\n",
              "      <td>Uluru</td>\n",
              "      <td>SE</td>\n",
              "      <td>SSE</td>\n",
              "    </tr>\n",
              "  </tbody>\n",
              "</table>\n",
              "<p>142101 rows × 4 columns</p>\n",
              "</div>"
            ],
            "text/plain": [
              "              Date Location WindGustDir WindDir9am\n",
              "0       2008-12-01   Albury           W          W\n",
              "1       2008-12-02   Albury         WNW        NNW\n",
              "2       2008-12-03   Albury         WSW          W\n",
              "3       2008-12-04   Albury          NE         SE\n",
              "4       2008-12-05   Albury           W        ENE\n",
              "...            ...      ...         ...        ...\n",
              "142188  2017-06-20    Uluru           E        ESE\n",
              "142189  2017-06-21    Uluru           E         SE\n",
              "142190  2017-06-22    Uluru         NNW         SE\n",
              "142191  2017-06-23    Uluru           N         SE\n",
              "142192  2017-06-24    Uluru          SE        SSE\n",
              "\n",
              "[142101 rows x 4 columns]"
            ]
          },
          "metadata": {},
          "execution_count": 32
        }
      ]
    },
    {
      "cell_type": "code",
      "metadata": {
        "colab": {
          "base_uri": "https://localhost:8080/"
        },
        "id": "d0OEdpWmjCfN",
        "outputId": "99a137a3-df1d-4e7b-e706-73e79152dbaf"
      },
      "source": [
        "# make sure the columns were cleaned earlier\n",
        "categorical_features.isnull().mean().apply(lambda x: f'{(x*100):.2f}% Missing Rows')"
      ],
      "execution_count": null,
      "outputs": [
        {
          "output_type": "execute_result",
          "data": {
            "text/plain": [
              "Date           0.00% Missing Rows\n",
              "Location       0.00% Missing Rows\n",
              "WindGustDir    0.00% Missing Rows\n",
              "WindDir9am     0.00% Missing Rows\n",
              "dtype: object"
            ]
          },
          "metadata": {},
          "execution_count": 33
        }
      ]
    },
    {
      "cell_type": "code",
      "metadata": {
        "colab": {
          "base_uri": "https://localhost:8080/"
        },
        "id": "NZNo0qeXblhw",
        "outputId": "faeb22d5-e665-4897-94b2-f1c241e8f76f"
      },
      "source": [
        "for col in categorical_features.columns:\n",
        "  print(f'{col} value counts:')\n",
        "  print(categorical_features[col].value_counts())\n",
        "  print('\\n')"
      ],
      "execution_count": null,
      "outputs": [
        {
          "output_type": "stream",
          "name": "stdout",
          "text": [
            "Date value counts:\n",
            "2014-06-10    49\n",
            "2017-05-18    49\n",
            "2016-10-07    49\n",
            "2013-06-16    49\n",
            "2013-06-02    49\n",
            "              ..\n",
            "2007-11-22     1\n",
            "2007-12-28     1\n",
            "2007-11-17     1\n",
            "2007-12-01     1\n",
            "2008-01-25     1\n",
            "Name: Date, Length: 3436, dtype: int64\n",
            "\n",
            "\n",
            "Location value counts:\n",
            "Canberra            3418\n",
            "Sydney              3337\n",
            "Perth               3193\n",
            "Darwin              3192\n",
            "Hobart              3188\n",
            "Brisbane            3161\n",
            "Adelaide            3089\n",
            "Bendigo             3034\n",
            "Townsville          3033\n",
            "AliceSprings        3031\n",
            "MountGambier        3030\n",
            "Ballarat            3028\n",
            "Launceston          3028\n",
            "Albury              3011\n",
            "MelbourneAirport    3009\n",
            "PerthAirport        3009\n",
            "Mildura             3007\n",
            "Albany              3006\n",
            "SydneyAirport       3005\n",
            "Nuriootpa           3002\n",
            "Sale                3000\n",
            "Watsonia            2999\n",
            "Tuggeranong         2998\n",
            "Portland            2996\n",
            "Woomera             2990\n",
            "Cobar               2988\n",
            "Cairns              2988\n",
            "Wollongong          2983\n",
            "GoldCoast           2980\n",
            "WaggaWagga          2976\n",
            "NorfolkIsland       2964\n",
            "Penrith             2964\n",
            "SalmonGums          2955\n",
            "CoffsHarbour        2953\n",
            "Witchcliffe         2951\n",
            "Richmond            2951\n",
            "Dartmoor            2943\n",
            "NorahHead           2929\n",
            "BadgerysCreek       2927\n",
            "MountGinini         2898\n",
            "Newcastle           2887\n",
            "Moree               2854\n",
            "Walpole             2819\n",
            "PearceRAAF          2761\n",
            "Williamtown         2553\n",
            "Melbourne           2435\n",
            "Nhil                1569\n",
            "Katherine           1559\n",
            "Uluru               1520\n",
            "Name: Location, dtype: int64\n",
            "\n",
            "\n",
            "WindGustDir value counts:\n",
            "W      19018\n",
            "SE      9309\n",
            "E       9071\n",
            "N       9033\n",
            "SSE     8993\n",
            "S       8949\n",
            "WSW     8901\n",
            "SW      8797\n",
            "SSW     8610\n",
            "WNW     8066\n",
            "NW      8003\n",
            "ENE     7992\n",
            "ESE     7305\n",
            "NE      7060\n",
            "NNW     6561\n",
            "NNE     6433\n",
            "Name: WindGustDir, dtype: int64\n",
            "\n",
            "\n",
            "WindDir9am value counts:\n",
            "N      21314\n",
            "SE      9162\n",
            "E       9024\n",
            "SSE     8966\n",
            "NW      8552\n",
            "S       8493\n",
            "W       8260\n",
            "SW      8237\n",
            "NNE     7948\n",
            "NNW     7840\n",
            "ENE     7735\n",
            "ESE     7558\n",
            "NE      7527\n",
            "SSW     7448\n",
            "WNW     7194\n",
            "WSW     6843\n",
            "Name: WindDir9am, dtype: int64\n",
            "\n",
            "\n"
          ]
        }
      ]
    },
    {
      "cell_type": "markdown",
      "metadata": {
        "id": "HqG7zmoX8vo2"
      },
      "source": [
        "Handling `Date` column: drop day and year parts of iso-string, leave only month part (as most representive)"
      ]
    },
    {
      "cell_type": "code",
      "metadata": {
        "id": "67wRuWYR8NT7"
      },
      "source": [
        "categorical_features.Date = categorical_features.Date.map(lambda x: int(x.split('-')[1]))"
      ],
      "execution_count": null,
      "outputs": []
    },
    {
      "cell_type": "code",
      "metadata": {
        "colab": {
          "base_uri": "https://localhost:8080/",
          "height": 285
        },
        "id": "Qr_fWMwH8dXu",
        "outputId": "de3f98da-2d8e-4ffe-8e40-c39a13a9cc40"
      },
      "source": [
        "categorical_features.Date.value_counts().plot.bar() # month numbers only"
      ],
      "execution_count": null,
      "outputs": [
        {
          "output_type": "execute_result",
          "data": {
            "text/plain": [
              "<matplotlib.axes._subplots.AxesSubplot at 0x7fe4bbdaf290>"
            ]
          },
          "metadata": {},
          "execution_count": 36
        },
        {
          "output_type": "display_data",
          "data": {
            "image/png": "[encoded data removed]",
            "text/plain": [
              "<Figure size 432x288 with 1 Axes>"
            ]
          },
          "metadata": {
            "needs_background": "light"
          }
        }
      ]
    },
    {
      "cell_type": "markdown",
      "metadata": {
        "id": "ODiGTE6CrGdF"
      },
      "source": [
        "I found it acceptable not to process `Location` as there does not seem to be a pretty consice way of doing that. I guess that would be a nice idea to aggregate rare items into a single `Other` row and put unknown locations there, but yet do not posess enough knowlege to do that 😞"
      ]
    },
    {
      "cell_type": "code",
      "metadata": {
        "colab": {
          "base_uri": "https://localhost:8080/",
          "height": 359
        },
        "id": "LrFtp35o9b6N",
        "outputId": "fdbcf252-9fd1-4355-a520-db5f45c6a652"
      },
      "source": [
        "categorical_features.Location.value_counts().plot.bar()"
      ],
      "execution_count": null,
      "outputs": [
        {
          "output_type": "execute_result",
          "data": {
            "text/plain": [
              "<matplotlib.axes._subplots.AxesSubplot at 0x7fe4bd05edd0>"
            ]
          },
          "metadata": {},
          "execution_count": 37
        },
        {
          "output_type": "display_data",
          "data": {
            "image/png": "[encoded data removed]",
            "text/plain": [
              "<Figure size 432x288 with 1 Axes>"
            ]
          },
          "metadata": {
            "needs_background": "light"
          }
        }
      ]
    },
    {
      "cell_type": "markdown",
      "metadata": {
        "id": "-TiRX3DskA2A"
      },
      "source": [
        "**Before reducing options:**"
      ]
    },
    {
      "cell_type": "code",
      "metadata": {
        "colab": {
          "base_uri": "https://localhost:8080/",
          "height": 300
        },
        "id": "BgzMlTvNjcjO",
        "outputId": "9c7ba0ca-07d5-4dbf-bcd7-ecb05fe384ca"
      },
      "source": [
        "categorical_features.WindDir9am.value_counts().plot.bar()"
      ],
      "execution_count": null,
      "outputs": [
        {
          "output_type": "execute_result",
          "data": {
            "text/plain": [
              "<matplotlib.axes._subplots.AxesSubplot at 0x7fe4c4e3a790>"
            ]
          },
          "metadata": {},
          "execution_count": 38
        },
        {
          "output_type": "display_data",
          "data": {
            "image/png": "[encoded data removed]",
            "text/plain": [
              "<Figure size 432x288 with 1 Axes>"
            ]
          },
          "metadata": {
            "needs_background": "light"
          }
        }
      ]
    },
    {
      "cell_type": "code",
      "metadata": {
        "colab": {
          "base_uri": "https://localhost:8080/",
          "height": 300
        },
        "id": "7vaBxAsqjhBl",
        "outputId": "2de24f05-b6e1-4c51-d482-84941aa29c27"
      },
      "source": [
        "categorical_features.WindGustDir.value_counts().plot.bar()"
      ],
      "execution_count": null,
      "outputs": [
        {
          "output_type": "execute_result",
          "data": {
            "text/plain": [
              "<matplotlib.axes._subplots.AxesSubplot at 0x7fe4c494a490>"
            ]
          },
          "metadata": {},
          "execution_count": 39
        },
        {
          "output_type": "display_data",
          "data": {
            "image/png": "[encoded data removed]",
            "text/plain": [
              "<Figure size 432x288 with 1 Axes>"
            ]
          },
          "metadata": {
            "needs_background": "light"
          }
        }
      ]
    },
    {
      "cell_type": "code",
      "metadata": {
        "id": "AlAKqac2khlu"
      },
      "source": [
        "categorical_features.WindGustDir = categorical_features.WindGustDir.map(lambda dir: dir[0]) # only first letter will matter\n",
        "categorical_features.WindDir9am = categorical_features.WindDir9am.map(lambda dir: dir[0])"
      ],
      "execution_count": null,
      "outputs": []
    },
    {
      "cell_type": "markdown",
      "metadata": {
        "id": "-fvkfAyqkMD6"
      },
      "source": [
        "**After reducing number of wind direction categories down to four** (by the 1st letter in code)\n",
        "\n",
        "It would be better to feed to `OneHotEncoder` later"
      ]
    },
    {
      "cell_type": "code",
      "metadata": {
        "colab": {
          "base_uri": "https://localhost:8080/",
          "height": 282
        },
        "id": "ppD7ytLukXMc",
        "outputId": "abd0b05d-20e6-4284-d711-238cf7a2b109"
      },
      "source": [
        "categorical_features.WindDir9am.value_counts().plot.bar()"
      ],
      "execution_count": null,
      "outputs": [
        {
          "output_type": "execute_result",
          "data": {
            "text/plain": [
              "<matplotlib.axes._subplots.AxesSubplot at 0x7fe4c5752250>"
            ]
          },
          "metadata": {},
          "execution_count": 41
        },
        {
          "output_type": "display_data",
          "data": {
            "image/png": "[encoded data removed]",
            "text/plain": [
              "<Figure size 432x288 with 1 Axes>"
            ]
          },
          "metadata": {
            "needs_background": "light"
          }
        }
      ]
    },
    {
      "cell_type": "code",
      "metadata": {
        "colab": {
          "base_uri": "https://localhost:8080/",
          "height": 282
        },
        "id": "5ZqtF9ypkaYV",
        "outputId": "52e95ee4-11a1-452e-fe10-9393dfc30536"
      },
      "source": [
        "categorical_features.WindGustDir.value_counts().plot.bar()"
      ],
      "execution_count": null,
      "outputs": [
        {
          "output_type": "execute_result",
          "data": {
            "text/plain": [
              "<matplotlib.axes._subplots.AxesSubplot at 0x7fe4c4f2e150>"
            ]
          },
          "metadata": {},
          "execution_count": 42
        },
        {
          "output_type": "display_data",
          "data": {
            "image/png": "[encoded data removed]",
            "text/plain": [
              "<Figure size 432x288 with 1 Axes>"
            ]
          },
          "metadata": {
            "needs_background": "light"
          }
        }
      ]
    },
    {
      "cell_type": "code",
      "metadata": {
        "colab": {
          "base_uri": "https://localhost:8080/"
        },
        "id": "TSLbyWYM8tNd",
        "outputId": "acb3053e-f974-4b8f-ac94-035248c3ee23"
      },
      "source": [
        "from sklearn.preprocessing import OneHotEncoder\n",
        "ohe = OneHotEncoder(handle_unknown='ignore', sparse=False)\n",
        "\n",
        "ohe.fit_transform(categorical_features).shape"
      ],
      "execution_count": null,
      "outputs": [
        {
          "output_type": "execute_result",
          "data": {
            "text/plain": [
              "(142101, 69)"
            ]
          },
          "metadata": {},
          "execution_count": 43
        }
      ]
    },
    {
      "cell_type": "markdown",
      "metadata": {
        "id": "hbPmY4jrn6WW"
      },
      "source": [
        "In a such way I managed to perform some kind of\n",
        "**dimension reduction** along with **preserving relevant data** \n",
        "(i.e., month and primary wind direction)\n",
        "\n",
        "Without encoding dates there would have been about **3.5e3** items after `OhE`"
      ]
    },
    {
      "cell_type": "markdown",
      "metadata": {
        "id": "t32fmb6wpcwA"
      },
      "source": [
        "## **5. Combining everything and building the pipelines 🔎**"
      ]
    },
    {
      "cell_type": "code",
      "metadata": {
        "id": "Uzi3mrcwIV-G"
      },
      "source": [
        "from sklearn.neighbors import KNeighborsClassifier\n",
        "from sklearn.linear_model import LogisticRegression\n",
        "from sklearn.model_selection import train_test_split\n",
        "from sklearn.metrics import classification_report\n",
        "from sklearn.naive_bayes import GaussianNB, BernoulliNB"
      ],
      "execution_count": null,
      "outputs": []
    },
    {
      "cell_type": "markdown",
      "metadata": {
        "id": "BUTFIvM5p5S3"
      },
      "source": [
        "In the cells above we **filled missing values** in the dataset, extracted **numerical** and **categorical features** and **reduced** total **number of dimensions** by clustering categorical values. In this section we will create pipelines and again check classification performance of different models"
      ]
    },
    {
      "cell_type": "markdown",
      "metadata": {
        "id": "F8knm9m6AvhO"
      },
      "source": [
        "### **Custom `ColumnTransformer` implementation**\n",
        "In the cells below I create a custom column transformer to perform operations which were done manually before: "
      ]
    },
    {
      "cell_type": "code",
      "metadata": {
        "id": "KklrZ8Wv6nl0"
      },
      "source": [
        "from sklearn.pipeline import Pipeline\n",
        "from sklearn.compose import ColumnTransformer\n",
        "from sklearn.base import BaseEstimator, TransformerMixin\n",
        "from sklearn.preprocessing import StandardScaler, OneHotEncoder, OrdinalEncoder"
      ],
      "execution_count": null,
      "outputs": []
    },
    {
      "cell_type": "code",
      "metadata": {
        "id": "5-995iQC-7gP"
      },
      "source": [
        "class WeatherTransformer(BaseEstimator, TransformerMixin):\n",
        "  def __init__(self):\n",
        "    self.required_cols = ('WindDir9am', 'WindGustDir',\n",
        "                          'Rainfall', 'Date',\n",
        "                          'Evaporation', 'Sunshine',\n",
        "                          'Location', 'MinTemp', 'MaxTemp')\n",
        "    pass\n",
        "\n",
        "  def fit(self, X, y=None):\n",
        "    print(f'>>> Fit called')\n",
        "    return self\n",
        "\n",
        "  def transform(self, X, y=None):\n",
        "    print(f'>>> Transform called')\n",
        "    \n",
        "    # check features presence\n",
        "    for col in self.required_cols:\n",
        "      if col not in X.columns: raise ValueError(f'Check your features columns: {col} missing!')\n",
        "    \n",
        "    X_ = X.copy()\n",
        "\n",
        "    # fill missing values (just in case)\n",
        "    for col in X_.select_dtypes(include=np.number):\n",
        "      X_[col].replace(np.nan, X_[col].mean(), inplace=True)\n",
        "\n",
        "    for col in X_.select_dtypes(include=object):\n",
        "      X_[col].replace(np.nan, X_[col].mode().values[0], inplace=True)\n",
        "    \n",
        "    # do the transformations\n",
        "    if 'AvgTemp' not in X.columns:\n",
        "      X_['AvgTemp'] = X_.apply(lambda row: (row.MinTemp + row.MaxTemp), axis=1)\n",
        "      del X_['MaxTemp']\n",
        "      del X_['MinTemp']\n",
        "    \n",
        "    X_.WindDir9am = X_.WindDir9am.map(lambda dir: dir[0])\n",
        "    X_.WindGustDir = X_.WindGustDir.map(lambda dir: dir[0])\n",
        "    X_.Date = X_.Date.map(lambda x: int(x.split('-')[1]))\n",
        "    X_.Rainfall = X_.Rainfall.map(lambda r: '1' if r > 0 else '0')\n",
        "    \n",
        "    return X_"
      ],
      "execution_count": null,
      "outputs": []
    },
    {
      "cell_type": "code",
      "metadata": {
        "colab": {
          "base_uri": "https://localhost:8080/",
          "height": 455
        },
        "id": "D50rjORUCP6K",
        "outputId": "cf05ee06-4310-4c41-c6a7-63bd8ed050e0"
      },
      "source": [
        "wt = WeatherTransformer()\n",
        "features_transformed = wt.fit_transform(features, target)\n",
        "# that's how the features look like \n",
        "# after transformations encapsulated within `WeatherTransformer`\n",
        "numeric_features_names = list(features_transformed.select_dtypes(include=np.number))\n",
        "categorical_features_names = list(features_transformed.select_dtypes(include=object))\n",
        "features_transformed"
      ],
      "execution_count": null,
      "outputs": [
        {
          "output_type": "stream",
          "name": "stdout",
          "text": [
            ">>> Fit called\n",
            ">>> Transform called\n"
          ]
        },
        {
          "output_type": "execute_result",
          "data": {
            "text/html": [
              "<div>\n",
              "<style scoped>\n",
              "    .dataframe tbody tr th:only-of-type {\n",
              "        vertical-align: middle;\n",
              "    }\n",
              "\n",
              "    .dataframe tbody tr th {\n",
              "        vertical-align: top;\n",
              "    }\n",
              "\n",
              "    .dataframe thead th {\n",
              "        text-align: right;\n",
              "    }\n",
              "</style>\n",
              "<table border=\"1\" class=\"dataframe\">\n",
              "  <thead>\n",
              "    <tr style=\"text-align: right;\">\n",
              "      <th></th>\n",
              "      <th>Date</th>\n",
              "      <th>Location</th>\n",
              "      <th>Rainfall</th>\n",
              "      <th>Evaporation</th>\n",
              "      <th>Sunshine</th>\n",
              "      <th>WindGustDir</th>\n",
              "      <th>WindGustSpeed</th>\n",
              "      <th>WindDir9am</th>\n",
              "      <th>AvgTemp</th>\n",
              "    </tr>\n",
              "  </thead>\n",
              "  <tbody>\n",
              "    <tr>\n",
              "      <th>0</th>\n",
              "      <td>12</td>\n",
              "      <td>Albury</td>\n",
              "      <td>1</td>\n",
              "      <td>5.469824</td>\n",
              "      <td>7.624853</td>\n",
              "      <td>W</td>\n",
              "      <td>44.0</td>\n",
              "      <td>W</td>\n",
              "      <td>36.3</td>\n",
              "    </tr>\n",
              "    <tr>\n",
              "      <th>1</th>\n",
              "      <td>12</td>\n",
              "      <td>Albury</td>\n",
              "      <td>0</td>\n",
              "      <td>5.469824</td>\n",
              "      <td>7.624853</td>\n",
              "      <td>W</td>\n",
              "      <td>44.0</td>\n",
              "      <td>N</td>\n",
              "      <td>32.5</td>\n",
              "    </tr>\n",
              "    <tr>\n",
              "      <th>2</th>\n",
              "      <td>12</td>\n",
              "      <td>Albury</td>\n",
              "      <td>0</td>\n",
              "      <td>5.469824</td>\n",
              "      <td>7.624853</td>\n",
              "      <td>W</td>\n",
              "      <td>46.0</td>\n",
              "      <td>W</td>\n",
              "      <td>38.6</td>\n",
              "    </tr>\n",
              "    <tr>\n",
              "      <th>3</th>\n",
              "      <td>12</td>\n",
              "      <td>Albury</td>\n",
              "      <td>0</td>\n",
              "      <td>5.469824</td>\n",
              "      <td>7.624853</td>\n",
              "      <td>N</td>\n",
              "      <td>24.0</td>\n",
              "      <td>S</td>\n",
              "      <td>37.2</td>\n",
              "    </tr>\n",
              "    <tr>\n",
              "      <th>4</th>\n",
              "      <td>12</td>\n",
              "      <td>Albury</td>\n",
              "      <td>1</td>\n",
              "      <td>5.469824</td>\n",
              "      <td>7.624853</td>\n",
              "      <td>W</td>\n",
              "      <td>41.0</td>\n",
              "      <td>E</td>\n",
              "      <td>49.8</td>\n",
              "    </tr>\n",
              "    <tr>\n",
              "      <th>...</th>\n",
              "      <td>...</td>\n",
              "      <td>...</td>\n",
              "      <td>...</td>\n",
              "      <td>...</td>\n",
              "      <td>...</td>\n",
              "      <td>...</td>\n",
              "      <td>...</td>\n",
              "      <td>...</td>\n",
              "      <td>...</td>\n",
              "    </tr>\n",
              "    <tr>\n",
              "      <th>142188</th>\n",
              "      <td>6</td>\n",
              "      <td>Uluru</td>\n",
              "      <td>0</td>\n",
              "      <td>5.469824</td>\n",
              "      <td>7.624853</td>\n",
              "      <td>E</td>\n",
              "      <td>31.0</td>\n",
              "      <td>E</td>\n",
              "      <td>25.3</td>\n",
              "    </tr>\n",
              "    <tr>\n",
              "      <th>142189</th>\n",
              "      <td>6</td>\n",
              "      <td>Uluru</td>\n",
              "      <td>0</td>\n",
              "      <td>5.469824</td>\n",
              "      <td>7.624853</td>\n",
              "      <td>E</td>\n",
              "      <td>31.0</td>\n",
              "      <td>S</td>\n",
              "      <td>26.2</td>\n",
              "    </tr>\n",
              "    <tr>\n",
              "      <th>142190</th>\n",
              "      <td>6</td>\n",
              "      <td>Uluru</td>\n",
              "      <td>0</td>\n",
              "      <td>5.469824</td>\n",
              "      <td>7.624853</td>\n",
              "      <td>N</td>\n",
              "      <td>22.0</td>\n",
              "      <td>S</td>\n",
              "      <td>28.9</td>\n",
              "    </tr>\n",
              "    <tr>\n",
              "      <th>142191</th>\n",
              "      <td>6</td>\n",
              "      <td>Uluru</td>\n",
              "      <td>0</td>\n",
              "      <td>5.469824</td>\n",
              "      <td>7.624853</td>\n",
              "      <td>N</td>\n",
              "      <td>37.0</td>\n",
              "      <td>S</td>\n",
              "      <td>32.3</td>\n",
              "    </tr>\n",
              "    <tr>\n",
              "      <th>142192</th>\n",
              "      <td>6</td>\n",
              "      <td>Uluru</td>\n",
              "      <td>0</td>\n",
              "      <td>5.469824</td>\n",
              "      <td>7.624853</td>\n",
              "      <td>S</td>\n",
              "      <td>28.0</td>\n",
              "      <td>S</td>\n",
              "      <td>34.8</td>\n",
              "    </tr>\n",
              "  </tbody>\n",
              "</table>\n",
              "<p>142193 rows × 9 columns</p>\n",
              "</div>"
            ],
            "text/plain": [
              "        Date Location  Rainfall  ...  WindGustSpeed  WindDir9am AvgTemp\n",
              "0         12   Albury         1  ...           44.0           W    36.3\n",
              "1         12   Albury         0  ...           44.0           N    32.5\n",
              "2         12   Albury         0  ...           46.0           W    38.6\n",
              "3         12   Albury         0  ...           24.0           S    37.2\n",
              "4         12   Albury         1  ...           41.0           E    49.8\n",
              "...      ...      ...       ...  ...            ...         ...     ...\n",
              "142188     6    Uluru         0  ...           31.0           E    25.3\n",
              "142189     6    Uluru         0  ...           31.0           S    26.2\n",
              "142190     6    Uluru         0  ...           22.0           S    28.9\n",
              "142191     6    Uluru         0  ...           37.0           S    32.3\n",
              "142192     6    Uluru         0  ...           28.0           S    34.8\n",
              "\n",
              "[142193 rows x 9 columns]"
            ]
          },
          "metadata": {},
          "execution_count": 36
        }
      ]
    },
    {
      "cell_type": "code",
      "metadata": {
        "colab": {
          "base_uri": "https://localhost:8080/"
        },
        "id": "AxTWnP01EXbg",
        "outputId": "100bb201-1bb4-43a4-840e-9ba3d391217a"
      },
      "source": [
        "# that's how the features look like after ohe & scaling\n",
        "ct = ColumnTransformer(\n",
        "    [('scaler', StandardScaler(), numeric_features_names),\n",
        "     ('ohe', OneHotEncoder(sparse=False, handle_unknown='ignore'), categorical_features_names)])\n",
        "ct.fit_transform(features_transformed)"
      ],
      "execution_count": null,
      "outputs": [
        {
          "output_type": "execute_result",
          "data": {
            "text/plain": [
              "array([[ 1.63359933e+00,  1.31890395e+00,  2.52233565e-15, ...,\n",
              "         0.00000000e+00,  0.00000000e+00,  1.00000000e+00],\n",
              "       [ 1.63359933e+00, -7.58205327e-01,  2.52233565e-15, ...,\n",
              "         1.00000000e+00,  0.00000000e+00,  0.00000000e+00],\n",
              "       [ 1.63359933e+00, -7.58205327e-01,  2.52233565e-15, ...,\n",
              "         0.00000000e+00,  0.00000000e+00,  1.00000000e+00],\n",
              "       ...,\n",
              "       [-1.17452748e-01, -7.58205327e-01,  2.52233565e-15, ...,\n",
              "         0.00000000e+00,  1.00000000e+00,  0.00000000e+00],\n",
              "       [-1.17452748e-01, -7.58205327e-01,  2.52233565e-15, ...,\n",
              "         0.00000000e+00,  1.00000000e+00,  0.00000000e+00],\n",
              "       [-1.17452748e-01, -7.58205327e-01,  2.52233565e-15, ...,\n",
              "         0.00000000e+00,  1.00000000e+00,  0.00000000e+00]])"
            ]
          },
          "metadata": {},
          "execution_count": 55
        }
      ]
    },
    {
      "cell_type": "markdown",
      "metadata": {
        "id": "B8ZITuuAHLDB"
      },
      "source": [
        "### **Pipeline with `OneHotEncoder`**"
      ]
    },
    {
      "cell_type": "code",
      "metadata": {
        "id": "INiwFwYOZllq",
        "colab": {
          "base_uri": "https://localhost:8080/"
        },
        "outputId": "8b6061b4-d3b5-4f68-c8eb-07aa3b83209c"
      },
      "source": [
        "DataPreprocessingPipeline = Pipeline(\n",
        "    steps=[\n",
        "           ('weather preprocessing', WeatherTransformer(),),\n",
        "           ('ohe & scaling', ColumnTransformer([\n",
        "                                                ('scaler', StandardScaler(), numeric_features_names),\n",
        "                                                ('ohe', OneHotEncoder(sparse=False, handle_unknown='ignore'), categorical_features_names)\n",
        "                                                ])),\n",
        "    ])\n",
        "\n",
        "features_encoded = DataPreprocessingPipeline.fit_transform(features)"
      ],
      "execution_count": null,
      "outputs": [
        {
          "output_type": "stream",
          "name": "stdout",
          "text": [
            ">>> Fit called\n",
            ">>> Transform called\n"
          ]
        }
      ]
    },
    {
      "cell_type": "code",
      "metadata": {
        "id": "sGbh2Fd_YtGL"
      },
      "source": [
        "features_train, features_test, target_train, target_test = train_test_split(features_encoded, np.ravel(target), test_size=0.25, shuffle=False)"
      ],
      "execution_count": null,
      "outputs": []
    },
    {
      "cell_type": "code",
      "metadata": {
        "colab": {
          "base_uri": "https://localhost:8080/"
        },
        "id": "2QdYeBrtIbfP",
        "outputId": "f8176f7b-367b-420c-acea-40c484cfacbb"
      },
      "source": [
        "print(f'TRANSFORMATIONS: OHE & STD SCALING')\n",
        "classifiers = [GaussianNB, BernoulliNB]\n",
        "for classifier in classifiers:\n",
        "\n",
        "  NB = classifier().fit(features_train, target_train)\n",
        "  target_predicted = NB.predict(features_train)\n",
        "  print(f'Classifier: {NB.__class__.__name__}')\n",
        "  print('Training results')\n",
        "  print(f'Training accuracy: Error summary: { (target_train != target_predicted).sum() }/{target_train.shape[0]} ({( ((target_train != target_predicted).sum()/target_train.shape[0])*100 ):.4f}%)')\n",
        "  print(f'Training accuracy mean: {(np.mean(target_predicted == target_train)*100):.4f}%')\n",
        "  print(classification_report(y_pred=target_predicted, y_true=target_train, target_names=['No Rain', 'Rain']))\n",
        "\n",
        "\n",
        "  target_predicted = NB.predict(features_test)\n",
        "  print('Testing results')\n",
        "  print(f'Test accuracy: Error summary: { (target_test != target_predicted).sum() }/{target_test.shape[0]} ({( ((target_test != target_predicted).sum()/target_test.shape[0])*100 ):.4f}%)')\n",
        "  print(f'Test accuracy mean: {(np.mean(target_predicted == target_test)*100):.4f}%\\n')\n",
        "  print(classification_report(y_pred=target_predicted, y_true=target_test, target_names=['No Rain', 'Rain']))"
      ],
      "execution_count": null,
      "outputs": [
        {
          "output_type": "stream",
          "name": "stdout",
          "text": [
            "TRANSFORMATIONS: OHE & STD SCALING\n",
            "Classifier: GaussianNB\n",
            "Training results\n",
            "Training accuracy: Error summary: 44348/106575 (41.6120%)\n",
            "Training accuracy mean: 58.3880%\n",
            "              precision    recall  f1-score   support\n",
            "\n",
            "     No Rain       0.84      0.57      0.68     82389\n",
            "        Rain       0.30      0.64      0.41     24186\n",
            "\n",
            "    accuracy                           0.58    106575\n",
            "   macro avg       0.57      0.60      0.54    106575\n",
            "weighted avg       0.72      0.58      0.62    106575\n",
            "\n",
            "Testing results\n",
            "Test accuracy: Error summary: 8401/35526 (23.6475%)\n",
            "Test accuracy mean: 76.3525%\n",
            "\n",
            "              precision    recall  f1-score   support\n",
            "\n",
            "     No Rain       0.89      0.80      0.84     27868\n",
            "        Rain       0.47      0.65      0.54      7658\n",
            "\n",
            "    accuracy                           0.76     35526\n",
            "   macro avg       0.68      0.72      0.69     35526\n",
            "weighted avg       0.80      0.76      0.78     35526\n",
            "\n",
            "Classifier: BernoulliNB\n",
            "Training results\n",
            "Training accuracy: Error summary: 23712/106575 (22.2491%)\n",
            "Training accuracy mean: 77.7509%\n",
            "              precision    recall  f1-score   support\n",
            "\n",
            "     No Rain       0.82      0.91      0.86     82389\n",
            "        Rain       0.52      0.33      0.40     24186\n",
            "\n",
            "    accuracy                           0.78    106575\n",
            "   macro avg       0.67      0.62      0.63    106575\n",
            "weighted avg       0.75      0.78      0.76    106575\n",
            "\n",
            "Testing results\n",
            "Test accuracy: Error summary: 9302/35526 (26.1836%)\n",
            "Test accuracy mean: 73.8164%\n",
            "\n",
            "              precision    recall  f1-score   support\n",
            "\n",
            "     No Rain       0.91      0.74      0.82     27868\n",
            "        Rain       0.43      0.72      0.54      7658\n",
            "\n",
            "    accuracy                           0.74     35526\n",
            "   macro avg       0.67      0.73      0.68     35526\n",
            "weighted avg       0.80      0.74      0.76     35526\n",
            "\n"
          ]
        }
      ]
    },
    {
      "cell_type": "code",
      "metadata": {
        "id": "G5FjLLldYv8K",
        "colab": {
          "base_uri": "https://localhost:8080/"
        },
        "outputId": "67910bf1-f580-4ee3-f001-ddf2e040333c"
      },
      "source": [
        "print(f'TRANSFORMATIONS: OHE & STD SCALING')\n",
        "KNN = KNeighborsClassifier(n_neighbors=11).fit(features_train, target_train)\n",
        "\n",
        "print(f'Classifier: {KNN.__class__.__name__}')\n",
        "target_predicted = KNN.predict(features_train)\n",
        "print(f'Training accuracy: Error summary: { (target_train != target_predicted).sum() }/{target_train.shape[0]} ({( ((target_train != target_predicted).sum()/target_train.shape[0])*100 ):.4f}%)')\n",
        "print(f'Training accuracy mean: {(np.mean(target_predicted == target_train)*100):.4f}%')\n",
        "print(classification_report(y_pred=target_predicted, y_true=target_train, target_names=['No Rain', 'Rain']))\n",
        "\n",
        "\n",
        "target_predicted = KNN.predict(features_test)\n",
        "print(f'Test accuracy: Error summary: { (target_test != target_predicted).sum() }/{target_test.shape[0]} ({( ((target_test != target_predicted).sum()/target_test.shape[0])*100 ):.4f}%)')\n",
        "print(f'Test accuracy mean: {(np.mean(target_predicted == target_test)*100):.4f}%')\n",
        "print(classification_report(y_pred=target_predicted, y_true=target_test, target_names=['No Rain', 'Rain']))"
      ],
      "execution_count": null,
      "outputs": [
        {
          "output_type": "stream",
          "name": "stdout",
          "text": [
            "TRANSFORMATIONS: OHE & STD SCALING\n",
            "Classifier: KNeighborsClassifier\n",
            "Training accuracy: Error summary: 17682/106575 (16.5911%)\n",
            "Training accuracy mean: 83.4089%\n",
            "              precision    recall  f1-score   support\n",
            "\n",
            "     No Rain       0.85      0.95      0.90     82389\n",
            "        Rain       0.72      0.44      0.55     24186\n",
            "\n",
            "    accuracy                           0.83    106575\n",
            "   macro avg       0.79      0.70      0.72    106575\n",
            "weighted avg       0.82      0.83      0.82    106575\n",
            "\n",
            "Test accuracy: Error summary: 7022/35526 (19.7658%)\n",
            "Test accuracy mean: 80.2342%\n",
            "              precision    recall  f1-score   support\n",
            "\n",
            "     No Rain       0.83      0.94      0.88     27868\n",
            "        Rain       0.58      0.32      0.41      7658\n",
            "\n",
            "    accuracy                           0.80     35526\n",
            "   macro avg       0.70      0.63      0.65     35526\n",
            "weighted avg       0.78      0.80      0.78     35526\n",
            "\n"
          ]
        }
      ]
    },
    {
      "cell_type": "code",
      "metadata": {
        "colab": {
          "base_uri": "https://localhost:8080/"
        },
        "id": "eZPc4F_SYpNX",
        "outputId": "8d925512-8b5e-407f-8853-31e554da3c05"
      },
      "source": [
        "print(f'TRANSFORMATIONS: OHE & STD SCALING')\n",
        "print(f'CUSTOM LOGISTIC REGRESSION\\n')\n",
        "LogIt = CustomLogItModel(iters=500, batch_size=100, h=1e-1).fit(features_train, target_train)\n",
        "\n",
        "print(f'Classifier: {LogIt.__class__.__name__}')\n",
        "target_predicted = LogIt.predict(features_train)\n",
        "print(f'Training accuracy: Error summary: { (target_train != target_predicted).sum() }/{target_train.shape[0]} ({( ((target_train != target_predicted).sum()/target_train.shape[0])*100 ):.4f}%)')\n",
        "print(f'Training accuracy mean: {(np.mean(target_predicted == target_train)*100):.4f}%')\n",
        "print(classification_report(y_pred=target_predicted, y_true=target_train, target_names=['No Rain', 'Rain']))\n",
        "\n",
        "target_predicted = LogIt.predict(features_test)\n",
        "print(f'Test accuracy: Error summary: { (target_test != target_predicted).sum() }/{target_test.shape[0]} ({( ((target_test != target_predicted).sum()/target_test.shape[0])*100 ):.4f}%)')\n",
        "print(f'Test accuracy mean: {(np.mean(target_predicted == target_test)*100):.4f}%')\n",
        "print(classification_report(y_pred=target_predicted, y_true=target_test, target_names=['No Rain', 'Rain']))"
      ],
      "execution_count": null,
      "outputs": [
        {
          "output_type": "stream",
          "name": "stdout",
          "text": [
            "TRANSFORMATIONS: OHE & STD SCALING\n",
            "CUSTOM LOGISTIC REGRESSION\n",
            "\n",
            "Classifier: CustomLogItModel\n",
            "Training accuracy: Error summary: 21613/106644 (20.2665%)\n",
            "Training accuracy mean: 79.7335%\n",
            "              precision    recall  f1-score   support\n",
            "\n",
            "     No Rain       0.82      0.94      0.88     82434\n",
            "        Rain       0.60      0.31      0.41     24210\n",
            "\n",
            "    accuracy                           0.80    106644\n",
            "   macro avg       0.71      0.63      0.65    106644\n",
            "weighted avg       0.77      0.80      0.77    106644\n",
            "\n",
            "Test accuracy: Error summary: 6820/35549 (19.1848%)\n",
            "Test accuracy mean: 80.8152%\n",
            "              precision    recall  f1-score   support\n",
            "\n",
            "     No Rain       0.83      0.95      0.89     27882\n",
            "        Rain       0.61      0.30      0.40      7667\n",
            "\n",
            "    accuracy                           0.81     35549\n",
            "   macro avg       0.72      0.62      0.64     35549\n",
            "weighted avg       0.78      0.81      0.78     35549\n",
            "\n"
          ]
        }
      ]
    },
    {
      "cell_type": "code",
      "metadata": {
        "colab": {
          "base_uri": "https://localhost:8080/"
        },
        "id": "LPhZ0QCe-bRS",
        "outputId": "d616358d-9c92-472d-8f1f-410100b43165"
      },
      "source": [
        "print(f'TRANSFORMATIONS: OHE & STD SCALING')\n",
        "LogIt = LogisticRegression(max_iter=500).fit(features_train, target_train)\n",
        "\n",
        "target_predicted = LogIt.predict(features_train)\n",
        "\n",
        "print(f'Training accuracy: Error summary: { (target_train != target_predicted).sum() }/{target_train.shape[0]} ({( np.mean(target_predicted != target_train)*100 ):.4f}%)')\n",
        "print(f'Training accuracy mean: {(np.mean(target_predicted == target_train)*100):.4f}%')\n",
        "print(classification_report(y_pred=target_predicted, y_true=target_train, target_names=['No Rain', 'Rain']))\n",
        "\n",
        "target_predicted = LogIt.predict(features_test)\n",
        "print(f'Test accuracy: Error summary: { (target_test != target_predicted).sum() }/{target_test.shape[0]} ({( np.mean(target_predicted != target_test)*100 ):.4f}%)')\n",
        "print(f'Test accuracy mean: {(np.mean(target_predicted == target_test)*100):.4f}%')\n",
        "print(classification_report(y_pred=target_predicted, y_true=target_test, target_names=['No Rain', 'Rain']))"
      ],
      "execution_count": null,
      "outputs": [
        {
          "output_type": "stream",
          "name": "stdout",
          "text": [
            "TRANSFORMATIONS: OHE & STD SCALING\n",
            "Training accuracy: Error summary: 20920/106575 (19.6294%)\n",
            "Training accuracy mean: 80.3706%\n",
            "              precision    recall  f1-score   support\n",
            "\n",
            "     No Rain       0.82      0.95      0.88     82389\n",
            "        Rain       0.64      0.31      0.42     24186\n",
            "\n",
            "    accuracy                           0.80    106575\n",
            "   macro avg       0.73      0.63      0.65    106575\n",
            "weighted avg       0.78      0.80      0.78    106575\n",
            "\n",
            "Test accuracy: Error summary: 6527/35526 (18.3725%)\n",
            "Test accuracy mean: 81.6275%\n",
            "              precision    recall  f1-score   support\n",
            "\n",
            "     No Rain       0.83      0.96      0.89     27868\n",
            "        Rain       0.67      0.29      0.41      7658\n",
            "\n",
            "    accuracy                           0.82     35526\n",
            "   macro avg       0.75      0.63      0.65     35526\n",
            "weighted avg       0.80      0.82      0.79     35526\n",
            "\n"
          ]
        }
      ]
    },
    {
      "cell_type": "markdown",
      "metadata": {
        "id": "g9yl-KQ1NrDe"
      },
      "source": [
        "The quality metrics actually could be better...\n",
        "\n",
        "Accuracy did not increase drastically, however, in comparison with purely numeric prediction... f1-score is 1e-2 higher, the `Rain` recall increased a little bit. Well, that is truly funny\n",
        "\n",
        "Not to mention that I omitted binarization that last time with numeric prediction. OK, at least it did not decrease"
      ]
    },
    {
      "cell_type": "markdown",
      "metadata": {
        "id": "Go-QfVV30BnI"
      },
      "source": [
        "This one took half an hour to compute, for heaven's sake, **DO NOT RERUN** this cell\n",
        "\n",
        "I consider time consumption that big to be correlated to the number of dimensions. Later I utulized `OrdinalEncoder` and it yielded the result much faster"
      ]
    },
    {
      "cell_type": "code",
      "metadata": {
        "id": "_tLo2J-XY_ta"
      },
      "source": [
        "k_values = range(1, 10)\n",
        "scores_train = []\n",
        "scores_test = []\n",
        "\n",
        "for k_value in k_values:\n",
        "  classifier = KNeighborsClassifier(n_neighbors=k_value).fit(features_train, target_train)\n",
        "\n",
        "  k_prediction_train = classifier.predict(features_train)\n",
        "  k_prediction_test = classifier.predict(features_test)\n",
        "  \n",
        "  scores_test.append((np.mean(k_prediction_test == target_test)))\n",
        "  scores_train.append((np.mean(k_prediction_train == target_train)))"
      ],
      "execution_count": null,
      "outputs": []
    },
    {
      "cell_type": "code",
      "metadata": {
        "id": "F-qwnqcOZBq4",
        "colab": {
          "base_uri": "https://localhost:8080/",
          "height": 621
        },
        "outputId": "251d45a2-3611-4708-96f6-b2c0c465e9c1"
      },
      "source": [
        "fig = plt.figure(figsize=(10, 10))\n",
        "plt.plot(k_values, scores_train, color='red', label='Training accuracy')\n",
        "plt.plot(k_values, scores_test, color='green', label='Test accuracy')\n",
        "plt.xticks(range(1,10))\n",
        "plt.xlabel('Neighbours')\n",
        "plt.ylabel('Model score for given K')\n",
        "plt.title('Model performance for different K values')\n",
        "plt.legend(loc='best')\n",
        "plt.show()"
      ],
      "execution_count": null,
      "outputs": [
        {
          "output_type": "display_data",
          "data": {
            "image/png": "[encoded data removed]",
            "text/plain": [
              "<Figure size 720x720 with 1 Axes>"
            ]
          },
          "metadata": {
            "needs_background": "light"
          }
        }
      ]
    },
    {
      "cell_type": "markdown",
      "metadata": {
        "id": "fThBIZG2G0OE"
      },
      "source": [
        "### **Pipeline with `OrdinalEncoder`**"
      ]
    },
    {
      "cell_type": "code",
      "metadata": {
        "colab": {
          "base_uri": "https://localhost:8080/"
        },
        "id": "pCuODkIa1hUH",
        "outputId": "d7c79c46-24ce-45a3-8c13-cdc7a907da30"
      },
      "source": [
        "DataPreprocessingPipeline = Pipeline(\n",
        "    steps=[\n",
        "           ('weather preprocessing', WeatherTransformer(),),\n",
        "           ('ordinal & scaling', ColumnTransformer([\n",
        "                                                ('scaler', StandardScaler(), numeric_features_names),\n",
        "                                                ('ordinal', OrdinalEncoder(), categorical_features_names)\n",
        "                                                ])),\n",
        "    ])\n",
        "\n",
        "features_encoded = DataPreprocessingPipeline.fit_transform(features)"
      ],
      "execution_count": null,
      "outputs": [
        {
          "output_type": "stream",
          "name": "stdout",
          "text": [
            ">>> Fit called\n",
            ">>> Transform called\n"
          ]
        }
      ]
    },
    {
      "cell_type": "code",
      "metadata": {
        "id": "lUfRpn180rMZ"
      },
      "source": [
        "features_train, features_test, target_train, target_test = train_test_split(features_encoded, np.ravel(target), test_size=0.25, shuffle=False)"
      ],
      "execution_count": null,
      "outputs": []
    },
    {
      "cell_type": "code",
      "metadata": {
        "colab": {
          "base_uri": "https://localhost:8080/"
        },
        "id": "zE7OWFq106pI",
        "outputId": "78f0113f-3d75-4937-d4d3-2c62c6c99a7a"
      },
      "source": [
        "k_values = range(1, 20)\n",
        "scores_train = []\n",
        "scores_test = []\n",
        "\n",
        "for k_value in k_values:\n",
        "  classifier = KNeighborsClassifier(n_neighbors=k_value).fit(features_train, target_train)\n",
        "  print(f'Now training KNN for k={k_value}')\n",
        "  k_prediction_train = classifier.predict(features_train)\n",
        "  k_prediction_test = classifier.predict(features_test)\n",
        "  \n",
        "  scores_test.append((np.mean(k_prediction_test == target_test)))\n",
        "  scores_train.append((np.mean(k_prediction_train == target_train)))"
      ],
      "execution_count": null,
      "outputs": [
        {
          "output_type": "stream",
          "name": "stdout",
          "text": [
            "Now training KNN for k=1\n",
            "Now training KNN for k=2\n",
            "Now training KNN for k=3\n",
            "Now training KNN for k=4\n",
            "Now training KNN for k=5\n",
            "Now training KNN for k=6\n",
            "Now training KNN for k=7\n",
            "Now training KNN for k=8\n",
            "Now training KNN for k=9\n",
            "Now training KNN for k=10\n",
            "Now training KNN for k=11\n",
            "Now training KNN for k=12\n",
            "Now training KNN for k=13\n",
            "Now training KNN for k=14\n",
            "Now training KNN for k=15\n",
            "Now training KNN for k=16\n",
            "Now training KNN for k=17\n",
            "Now training KNN for k=18\n",
            "Now training KNN for k=19\n"
          ]
        }
      ]
    },
    {
      "cell_type": "code",
      "metadata": {
        "colab": {
          "base_uri": "https://localhost:8080/",
          "height": 621
        },
        "id": "27SNgMxZ3QUn",
        "outputId": "0706a615-13af-4243-ee26-6b3fbfbc2d4f"
      },
      "source": [
        "fig = plt.figure(figsize=(10, 10))\n",
        "plt.plot(k_values, scores_train, color='red', label='Training accuracy')\n",
        "plt.plot(k_values, scores_test, color='green', label='Test accuracy')\n",
        "plt.xticks(range(1,20))\n",
        "plt.xlabel('Neighbours')\n",
        "plt.ylabel('Model score for given K')\n",
        "plt.title('Model performance for different K values (with Ordinal encoding)')\n",
        "plt.legend(loc='best')\n",
        "plt.show()"
      ],
      "execution_count": null,
      "outputs": [
        {
          "output_type": "display_data",
          "data": {
            "image/png": "[encoded data removed]",
            "text/plain": [
              "<Figure size 720x720 with 1 Axes>"
            ]
          },
          "metadata": {
            "needs_background": "light"
          }
        }
      ]
    },
    {
      "cell_type": "markdown",
      "metadata": {
        "id": "Bz-3mO6VESn3"
      },
      "source": [
        "One can eye that the asymptotic accuracy for both `OHE` and `OrdinalEncoder` is about 80%. It should also be noted that pure accuracy isn't the best metric in this particular case as (once again) the classes are imbalanced. Because of that one may think of some kind of over-/undersampling, but I am running out of time 😞\n",
        "\n",
        "I also have a question: why is train accuracy decreasing as test accuracy increases?\n",
        "\n",
        "Now we will have a look at the classification report for the models:"
      ]
    },
    {
      "cell_type": "code",
      "metadata": {
        "colab": {
          "base_uri": "https://localhost:8080/"
        },
        "id": "NINKTHN3JLko",
        "outputId": "aac81286-6384-4730-d734-d3250a0b5ae9"
      },
      "source": [
        "print(f'TRANSFORMATIONS: ORDINAL & STD SCALING')\n",
        "classifiers = [GaussianNB, BernoulliNB]\n",
        "for classifier in classifiers:\n",
        "\n",
        "  NB = classifier().fit(features_train, target_train)\n",
        "  target_predicted = NB.predict(features_train)\n",
        "  print(f'Classifier: {NB.__class__.__name__}')\n",
        "  print('Training results')\n",
        "  print(f'Training accuracy: Error summary: { (target_train != target_predicted).sum() }/{target_train.shape[0]} ({( ((target_train != target_predicted).sum()/target_train.shape[0])*100 ):.4f}%)')\n",
        "  print(f'Training accuracy mean: {(np.mean(target_predicted == target_train)*100):.4f}%')\n",
        "  print(classification_report(y_pred=target_predicted, y_true=target_train, target_names=['No Rain', 'Rain']))\n",
        "\n",
        "\n",
        "  target_predicted = NB.predict(features_test)\n",
        "  print('Testing results')\n",
        "  print(f'Test accuracy: Error summary: { (target_test != target_predicted).sum() }/{target_test.shape[0]} ({( ((target_test != target_predicted).sum()/target_test.shape[0])*100 ):.4f}%)')\n",
        "  print(f'Test accuracy mean: {(np.mean(target_predicted == target_test)*100):.4f}%\\n')\n",
        "  print(classification_report(y_pred=target_predicted, y_true=target_test, target_names=['No Rain', 'Rain']))"
      ],
      "execution_count": null,
      "outputs": [
        {
          "output_type": "stream",
          "name": "stdout",
          "text": [
            "TRANSFORMATIONS: ORDINAL & STD SCALING\n",
            "Classifier: GaussianNB\n",
            "Training results\n",
            "Training accuracy: Error summary: 22643/106575 (21.2461%)\n",
            "Training accuracy mean: 78.7539%\n",
            "              precision    recall  f1-score   support\n",
            "\n",
            "     No Rain       0.83      0.91      0.87     82389\n",
            "        Rain       0.55      0.39      0.45     24186\n",
            "\n",
            "    accuracy                           0.79    106575\n",
            "   macro avg       0.69      0.65      0.66    106575\n",
            "weighted avg       0.77      0.79      0.77    106575\n",
            "\n",
            "Testing results\n",
            "Test accuracy: Error summary: 6635/35526 (18.6765%)\n",
            "Test accuracy mean: 81.3235%\n",
            "\n",
            "              precision    recall  f1-score   support\n",
            "\n",
            "     No Rain       0.84      0.94      0.89     27868\n",
            "        Rain       0.62      0.36      0.45      7658\n",
            "\n",
            "    accuracy                           0.81     35526\n",
            "   macro avg       0.73      0.65      0.67     35526\n",
            "weighted avg       0.79      0.81      0.79     35526\n",
            "\n",
            "Classifier: BernoulliNB\n",
            "Training results\n",
            "Training accuracy: Error summary: 24084/106575 (22.5982%)\n",
            "Training accuracy mean: 77.4018%\n",
            "              precision    recall  f1-score   support\n",
            "\n",
            "     No Rain       0.82      0.90      0.86     82389\n",
            "        Rain       0.50      0.33      0.40     24186\n",
            "\n",
            "    accuracy                           0.77    106575\n",
            "   macro avg       0.66      0.62      0.63    106575\n",
            "weighted avg       0.75      0.77      0.76    106575\n",
            "\n",
            "Testing results\n",
            "Test accuracy: Error summary: 6819/35526 (19.1944%)\n",
            "Test accuracy mean: 80.8056%\n",
            "\n",
            "              precision    recall  f1-score   support\n",
            "\n",
            "     No Rain       0.84      0.93      0.88     27868\n",
            "        Rain       0.58      0.38      0.46      7658\n",
            "\n",
            "    accuracy                           0.81     35526\n",
            "   macro avg       0.71      0.65      0.67     35526\n",
            "weighted avg       0.79      0.81      0.79     35526\n",
            "\n"
          ]
        }
      ]
    },
    {
      "cell_type": "code",
      "metadata": {
        "colab": {
          "base_uri": "https://localhost:8080/"
        },
        "id": "fPVv6PL809r_",
        "outputId": "8bf59eed-f9d4-453e-b518-fd463e591834"
      },
      "source": [
        "print(f'TRANSFORMATIONS: ORDINAL & STD SCALING')\n",
        "KNN = KNeighborsClassifier(n_neighbors=11).fit(features_train, target_train)\n",
        "\n",
        "print(f'Classifier: {KNN.__class__.__name__}')\n",
        "target_predicted = KNN.predict(features_train)\n",
        "print(f'Training accuracy: Error summary: { (target_train != target_predicted).sum() }/{target_train.shape[0]} ({( ((target_train != target_predicted).sum()/target_train.shape[0])*100 ):.4f}%)')\n",
        "print(f'Training accuracy mean: {(np.mean(target_predicted == target_train)*100):.4f}%')\n",
        "print(classification_report(y_pred=target_predicted, y_true=target_train, target_names=['No Rain', 'Rain']))\n",
        "\n",
        "\n",
        "target_predicted = KNN.predict(features_test)\n",
        "print(f'Test accuracy: Error summary: { (target_test != target_predicted).sum() }/{target_test.shape[0]} ({( ((target_test != target_predicted).sum()/target_test.shape[0])*100 ):.4f}%)')\n",
        "print(f'Test accuracy mean: {(np.mean(target_predicted == target_test)*100):.4f}%')\n",
        "print(classification_report(y_pred=target_predicted, y_true=target_test, target_names=['No Rain', 'Rain']))"
      ],
      "execution_count": null,
      "outputs": [
        {
          "output_type": "stream",
          "name": "stdout",
          "text": [
            "TRANSFORMATIONS: ORDINAL & STD SCALING\n",
            "Classifier: KNeighborsClassifier\n",
            "Training accuracy: Error summary: 17712/106575 (16.6193%)\n",
            "Training accuracy mean: 83.3807%\n",
            "              precision    recall  f1-score   support\n",
            "\n",
            "     No Rain       0.85      0.95      0.90     82389\n",
            "        Rain       0.72      0.44      0.55     24186\n",
            "\n",
            "    accuracy                           0.83    106575\n",
            "   macro avg       0.79      0.69      0.72    106575\n",
            "weighted avg       0.82      0.83      0.82    106575\n",
            "\n",
            "Test accuracy: Error summary: 7440/35526 (20.9424%)\n",
            "Test accuracy mean: 79.0576%\n",
            "              precision    recall  f1-score   support\n",
            "\n",
            "     No Rain       0.82      0.94      0.88     27868\n",
            "        Rain       0.53      0.25      0.34      7658\n",
            "\n",
            "    accuracy                           0.79     35526\n",
            "   macro avg       0.68      0.59      0.61     35526\n",
            "weighted avg       0.76      0.79      0.76     35526\n",
            "\n"
          ]
        }
      ]
    },
    {
      "cell_type": "code",
      "metadata": {
        "colab": {
          "base_uri": "https://localhost:8080/"
        },
        "id": "GpA59eTi6v3v",
        "outputId": "35dbc5be-4c85-49c0-84f5-41f6a7ddcb0f"
      },
      "source": [
        "print(f'TRANSFORMATIONS: ORDINAL & STD SCALING')\n",
        "LogIt = LogisticRegression(max_iter=500).fit(features_train, target_train)\n",
        "\n",
        "target_predicted = LogIt.predict(features_train)\n",
        "\n",
        "print(f'Training accuracy: Error summary: { (target_train != target_predicted).sum() }/{target_train.shape[0]} ({( ((target_train != target_predicted).sum()/target_train.shape[0])*100 ):.4f}%)')\n",
        "print(f'Training accuracy mean: {(np.mean(target_predicted == target_train)*100):.4f}%')\n",
        "print(classification_report(y_pred=target_predicted, y_true=target_train, target_names=['No Rain', 'Rain']))\n",
        "\n",
        "target_predicted = LogIt.predict(features_test)\n",
        "print(f'Test accuracy: Error summary: { (target_test != target_predicted).sum() }/{target_test.shape[0]} ({( ((target_test != target_predicted).sum()/target_test.shape[0])*100 ):.4f}%)')\n",
        "print(f'Test accuracy mean: {(np.mean(target_predicted == target_test)*100):.4f}%')\n",
        "print(classification_report(y_pred=target_predicted, y_true=target_test, target_names=['No Rain', 'Rain']))"
      ],
      "execution_count": null,
      "outputs": [
        {
          "output_type": "stream",
          "name": "stdout",
          "text": [
            "TRANSFORMATIONS: ORDINAL & STD SCALING\n",
            "Training accuracy: Error summary: 21300/106575 (19.9859%)\n",
            "Training accuracy mean: 80.0141%\n",
            "              precision    recall  f1-score   support\n",
            "\n",
            "     No Rain       0.82      0.95      0.88     82389\n",
            "        Rain       0.63      0.29      0.40     24186\n",
            "\n",
            "    accuracy                           0.80    106575\n",
            "   macro avg       0.72      0.62      0.64    106575\n",
            "weighted avg       0.78      0.80      0.77    106575\n",
            "\n",
            "Test accuracy: Error summary: 6675/35526 (18.7891%)\n",
            "Test accuracy mean: 81.2109%\n",
            "              precision    recall  f1-score   support\n",
            "\n",
            "     No Rain       0.83      0.96      0.89     27868\n",
            "        Rain       0.66      0.27      0.38      7658\n",
            "\n",
            "    accuracy                           0.81     35526\n",
            "   macro avg       0.74      0.62      0.64     35526\n",
            "weighted avg       0.79      0.81      0.78     35526\n",
            "\n"
          ]
        }
      ]
    },
    {
      "cell_type": "code",
      "metadata": {
        "colab": {
          "base_uri": "https://localhost:8080/"
        },
        "id": "5FcgZ7L1ZYA3",
        "outputId": "92dbc68d-e298-47e3-f0a4-beb3a82d4ff4"
      },
      "source": [
        "print(f'TRANSFORMATIONS: ORDINAL & STD SCALING')\n",
        "print(f'CUSTOM LOGISTIC REGRESSION\\n')\n",
        "LogIt = CustomLogItModel(iters=500, batch_size=100, h=1e-1).fit(features_train, target_train)\n",
        "\n",
        "print(f'Classifier: {LogIt.__class__.__name__}')\n",
        "target_predicted = LogIt.predict(features_train)\n",
        "print(f'Training accuracy: Error summary: { (target_train != target_predicted).sum() }/{target_train.shape[0]} ({( ((target_train != target_predicted).sum()/target_train.shape[0])*100 ):.4f}%)')\n",
        "print(f'Training accuracy mean: {(np.mean(target_predicted == target_train)*100):.4f}%')\n",
        "print(classification_report(y_pred=target_predicted, y_true=target_train, target_names=['No Rain', 'Rain']))\n",
        "\n",
        "target_predicted = LogIt.predict(features_test)\n",
        "print(f'Test accuracy: Error summary: { (target_test != target_predicted).sum() }/{target_test.shape[0]} ({( ((target_test != target_predicted).sum()/target_test.shape[0])*100 ):.4f}%)')\n",
        "print(f'Test accuracy mean: {(np.mean(target_predicted == target_test)*100):.4f}%')\n",
        "print(classification_report(y_pred=target_predicted, y_true=target_test, target_names=['No Rain', 'Rain']))"
      ],
      "execution_count": null,
      "outputs": [
        {
          "output_type": "stream",
          "name": "stdout",
          "text": [
            "TRANSFORMATIONS: ORDINAL & STD SCALING\n",
            "CUSTOM LOGISTIC REGRESSION\n",
            "\n",
            "Classifier: CustomLogItModel\n",
            "Training accuracy: Error summary: 22661/106644 (21.2492%)\n",
            "Training accuracy mean: 78.7508%\n",
            "              precision    recall  f1-score   support\n",
            "\n",
            "     No Rain       0.83      0.90      0.87     82434\n",
            "        Rain       0.54      0.39      0.45     24210\n",
            "\n",
            "    accuracy                           0.79    106644\n",
            "   macro avg       0.69      0.65      0.66    106644\n",
            "weighted avg       0.77      0.79      0.77    106644\n",
            "\n",
            "Test accuracy: Error summary: 7278/35549 (20.4731%)\n",
            "Test accuracy mean: 79.5269%\n",
            "              precision    recall  f1-score   support\n",
            "\n",
            "     No Rain       0.84      0.92      0.88     27882\n",
            "        Rain       0.54      0.35      0.43      7667\n",
            "\n",
            "    accuracy                           0.80     35549\n",
            "   macro avg       0.69      0.64      0.65     35549\n",
            "weighted avg       0.77      0.80      0.78     35549\n",
            "\n"
          ]
        }
      ]
    },
    {
      "cell_type": "markdown",
      "metadata": {
        "id": "CRiSsXW6bSpQ"
      },
      "source": [
        "## **6. Final thoughts and conclusion 📋**\n"
      ]
    },
    {
      "cell_type": "markdown",
      "metadata": {
        "id": "c2UDiNgq26_W"
      },
      "source": [
        "After trying different approaches (using solely numeric features, or numeric along with categorical encoded via `OrdinalEncoder` and `OneHotEncoder`) \n",
        "classification reports were **slightly controversal**: as stated several times earlier, the classes are quite imbalanced (the ratio is about 1:4) thus vanilla accuracy metric *will not* be the most reliable. \n",
        "\n",
        "Though I am still a bit cunfused about confusion matrix, I was looking for highest **recall** for `Rains` class and **f1-score** for both classes. Among all runs, the **best recall** for `Rains` was achieved by our own implementation of logistic regression with numeric features and reached `0.76` on train and `0.73` on test while **f1-score** reached `0.54` and `0.56` respectievely. `GaussianNB` with `OhE` has simularly high recall score for both train and test while `BernoulliNB` has great test recall of `0.72` on test and surprisingly low recall (`0.32`) on train.\n",
        "\n",
        " One can observe that with `sklearn` models gain **lesser recall** values and **greater precision**. I believe that it **is better to have less false negatives than less false positives in this particular case** (sudden shower is less pleasing than lack of promised one). In this case the most performant model is our custom one trained using only numeric features! (at least, that is what I managed to get, there *should* be better options)\n",
        "\n",
        "If we search best precision, we should choose `LogisticRegression` with `OhE` and scaling, it produces precision of `0.64` on train and `0.67` on test. Its metrics are actually very simular to our implementation, but the precision is higher. \n",
        "\n",
        "I should also mention than `KNN`-classifier tends to overfit by outperforming other models on train (recall of `0.44` and `0.74` precision) but having really bad scores (recall of `0.58` and `0.32` precision) on test for k=11. I avoided using greater k as with many dimensions time consumption was huge.\n",
        "\n",
        "Another important point is that we use unshuffled data. Shuffling may result into better metrics on general case. One could also utilize cross-validation, but I used a vanilla case with train and test."
      ]
    },
    {
      "cell_type": "markdown",
      "metadata": {
        "id": "PvjIo_8jI5La"
      },
      "source": [
        "## **TODO: 🐜**\n",
        "\n",
        "\n",
        "\n"
      ]
    },
    {
      "cell_type": "markdown",
      "metadata": {
        "id": "OtNZNg7k2-k6"
      },
      "source": [
        "\n",
        "+ ~~resolve column name conflicts~~\n",
        "+ ~~implement `WeatherTransform` transformer to handle dimension reduction for `OneHotEncoder` later~~\n",
        "+ ~~implement `Pipeline`~~\n",
        "+ ~~implement generic pipeline for all models~~ (created single pipeline wrapping all data transformations)\n",
        "+ ~~check classification report for all features~~\n",
        "+ ~~try using `OrdinalEncoder` for categorical features and compare its performance~~ (resulted in apparent decrease of recall and f1-score for all models)\n",
        "+ try using decision tree as it should perform really well with imbalanced classes\n",
        "+ try using cross-validation, it may increase the metrics"
      ]
    }
  ]
}