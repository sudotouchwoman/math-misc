{
  "cells": [
    {
      "cell_type": "markdown",
      "metadata": {
        "id": "view-in-github",
        "colab_type": "text"
      },
      "source": [
        "<a href=\"https://colab.research.google.com/github/sudotouchwoman/math-misc/blob/main/notebooks/dtmc.ipynb\" target=\"_parent\"><img src=\"https://colab.research.google.com/assets/colab-badge.svg\" alt=\"Open In Colab\"/></a>"
      ]
    },
    {
      "cell_type": "code",
      "execution_count": null,
      "metadata": {
        "id": "WMVej0VwETaS"
      },
      "outputs": [],
      "source": [
        "from functools import reduce\n",
        "from io import StringIO\n",
        "from itertools import repeat\n",
        "\n",
        "import graphviz\n",
        "import numpy as np\n",
        "import pandas as pd\n",
        "import plotly.express as px\n",
        "import plotly.graph_objects as go"
      ]
    },
    {
      "cell_type": "code",
      "execution_count": null,
      "metadata": {
        "id": "gM1TaTf5ETaV"
      },
      "outputs": [],
      "source": [
        "# helper function to visualize matrices\n",
        "def show_matrix(A: np.ndarray, zmax: float = 1.0, zmin: float = 0.0, title: str = \"\") -> go.Figure:\n",
        "    return px.imshow(A, zmax=zmax, zmin=zmin, color_continuous_scale=\"magma\", title=title)\n"
      ]
    },
    {
      "cell_type": "markdown",
      "metadata": {
        "id": "P7X-828RETaW"
      },
      "source": [
        "## **Problem 1**"
      ]
    },
    {
      "cell_type": "code",
      "execution_count": null,
      "metadata": {
        "id": "BqYVKwxZETaY"
      },
      "outputs": [],
      "source": [
        "# load data from text file\n",
        "P = np.genfromtxt(StringIO(\"\"\"0.19, 0.16, 0.22, 0.17, 0.26\n",
        "0.18, 0.24, 0.16, 0.24, 0.18\n",
        "0.23, 0.17, 0.19, 0.21, 0.20\n",
        "0.22, 0.21, 0.19, 0.22, 0.16\n",
        "0.18, 0.17, 0.16, 0.24, 0.25\"\"\"), delimiter=\",\")\n",
        "\n",
        "# have a look at the matrix itself\n",
        "show_matrix(P)"
      ]
    },
    {
      "cell_type": "code",
      "execution_count": null,
      "metadata": {
        "id": "cr4RktRkETaZ"
      },
      "outputs": [],
      "source": [
        "# visualize the transition matrix as a directed weighted graph\n",
        "\n",
        "f = graphviz.Digraph(\"dmc-task-1\", filename=\"dmc-1.gv\", engine=\"dot\")\n",
        "f.attr(rankdir=\"LR\", size=\"9\", title=\"Markov Chain\", labelloc=\"t\")\n",
        "f.attr(\"node\", shape=\"circle\", color=\"crimson\", fillcolor=\"crimson\", style=\"filled\")\n",
        "f.attr(\"edge\", color=\"gainsboro\")\n",
        "\n",
        "for i, weights in enumerate(P):\n",
        "    for j, weight in filter(lambda x: x[-1] > 0, enumerate(weights)):\n",
        "        f.edge(f\"S_{i}\", f\"S_{j}\", label=f\"{weight}\")\n",
        "\n",
        "f"
      ]
    },
    {
      "cell_type": "code",
      "execution_count": null,
      "metadata": {
        "id": "iRuutOWxETaa"
      },
      "outputs": [],
      "source": [
        "# check the ergodicity property:\n",
        "# 1) chain is irreducible (i.e., all states are recurrent and constitute a single closed communication class,\n",
        "# the graph is basically fully connected)\n",
        "# 2) chain is aperiodic given that self-loops are present\n",
        "# all conditions are met, thus the Markov process is ergodic\n",
        "\n",
        "# simple ergodicity check: approximate the limiting distribution\n",
        "k = 10\n",
        "P_lim = reduce(lambda x, p: x @ p, repeat(P, times=k))"
      ]
    },
    {
      "cell_type": "code",
      "execution_count": null,
      "metadata": {
        "id": "L7XCTFmmETaa"
      },
      "outputs": [],
      "source": [
        "# try to obtain stationary distribution as a\n",
        "# left eigenvector of transition matrix\n",
        "\n",
        "laplacian = P - np.eye(*P.shape)\n",
        "show_matrix(laplacian, zmax=None, zmin=None)"
      ]
    },
    {
      "cell_type": "code",
      "execution_count": null,
      "metadata": {
        "id": "nDsqJckEETab"
      },
      "outputs": [],
      "source": [
        "n = laplacian.shape[0]\n",
        "pi_0 = np.atleast_2d(np.zeros(n))\n",
        "\n",
        "# add a row representing the probability contraint: all entries in\n",
        "# the solution should sum up to 1\n",
        "A = np.r_[laplacian.T, np.ones_like(pi_0)]\n",
        "b = np.zeros(n + 1)\n",
        "b[-1] = 1.\n",
        "\n",
        "# have a look at final shape of the system\n",
        "A, b"
      ]
    },
    {
      "cell_type": "code",
      "execution_count": null,
      "metadata": {
        "id": "LKH-WH0XETab"
      },
      "outputs": [],
      "source": [
        "# solve the overdetermined system in MSE sense\n",
        "sol, residuals, rank, sigmas = np.linalg.lstsq(A, b, rcond=None)\n",
        "\n",
        "# one can observe that the stationary distribution was indeed found\n",
        "# and matches the limiting distribution, as expected\n",
        "print(f\"{sol=}\")\n",
        "print(f\"{residuals=}\")"
      ]
    },
    {
      "cell_type": "code",
      "execution_count": null,
      "metadata": {
        "id": "u60bs_g1ETac"
      },
      "outputs": [],
      "source": [
        "# ~ equals to the solution above\n",
        "P_lim[0]"
      ]
    },
    {
      "cell_type": "code",
      "execution_count": null,
      "metadata": {
        "id": "T62n8pNMETac"
      },
      "outputs": [],
      "source": [
        "# one can tweak parameters below and\n",
        "# explore the behaviour of the system\n",
        "n_experiments = 200\n",
        "n_steps = 100\n",
        "gen = np.random.default_rng(seed=30)"
      ]
    },
    {
      "cell_type": "code",
      "execution_count": null,
      "metadata": {
        "id": "byOwTU3mETad"
      },
      "outputs": [],
      "source": [
        "# generate random initial distributions\n",
        "# and have a look on them\n",
        "random_pi_0 = gen.random((20, *sol.shape))\n",
        "random_pi_0 /= random_pi_0.sum(-1).reshape(-1, 1)\n",
        "\n",
        "show_matrix(np.atleast_2d(random_pi_0))"
      ]
    },
    {
      "cell_type": "code",
      "execution_count": null,
      "metadata": {
        "id": "RwmuqIs7ETad"
      },
      "outputs": [],
      "source": [
        "# simulate system for given number of steps\n",
        "# all rows do converge to the limiting distribution\n",
        "random_pi_lim = reduce(lambda x, p: x @ p, repeat(P, times=n_steps), random_pi_0)\n",
        "show_matrix(np.atleast_2d(random_pi_lim))"
      ]
    },
    {
      "cell_type": "code",
      "execution_count": null,
      "metadata": {
        "id": "6QfR2gJqETad"
      },
      "outputs": [],
      "source": [
        "from typing import Tuple\n",
        "\n",
        "gen = np.random.default_rng(seed=30)\n",
        "random_pi_0 = gen.choice(n, size=(n_experiments), replace=True)\n",
        "identity = np.eye(n)\n",
        "\n",
        "\n",
        "def emulate_propagation(A: np.ndarray, curr: Tuple[int, np.ndarray]) -> np.ndarray:\n",
        "    \"\"\"\n",
        "    Emulates stochastic process by randomly selecting\n",
        "    next step (weighted by probas)\n",
        "    \"\"\"\n",
        "    idx, p = curr\n",
        "    prev_state = A[idx]\n",
        "    ohe_pi_prev = identity[prev_state]\n",
        "    probas = ohe_pi_prev @ p\n",
        "    # https://stackoverflow.com/questions/47722005/vectorizing-numpy-random-choice-for-given-2d-array-of-probabilities-along-an-a\n",
        "    A[idx + 1] = (probas.cumsum(1) > gen.random(probas.shape[0])[:,None]).argmax(1)\n",
        "    return A\n",
        "\n",
        "\n",
        "pi_consecutive = np.zeros((n_steps, n_experiments), dtype=int)\n",
        "pi_consecutive[0] = random_pi_0\n",
        "\n",
        "pi_consecutive = reduce(\n",
        "    emulate_propagation, enumerate(repeat(P, times=n_steps - 1)), pi_consecutive\n",
        ")\n",
        "\n",
        "pi_consecutive.shape"
      ]
    },
    {
      "cell_type": "code",
      "execution_count": null,
      "metadata": {
        "id": "DKSO8dhnETae"
      },
      "outputs": [],
      "source": [
        "df = pd.DataFrame(pi_consecutive, columns=[f\"exp_{i}\" for i in range(n_experiments)])\n",
        "df.head()"
      ]
    },
    {
      "cell_type": "code",
      "execution_count": null,
      "metadata": {
        "id": "c9kgh-5tETae"
      },
      "outputs": [],
      "source": [
        "from typing import List\n",
        "\n",
        "\n",
        "def plot_simulation_trajectories(df: pd.DataFrame, columns: List[str]) -> go.Figure:\n",
        "    fig = go.Figure()\n",
        "    for col in columns:\n",
        "        fig.add_scatter(x=df.index, y=df[col], name=col, line=dict(dash=\"dot\"))\n",
        "    return fig"
      ]
    },
    {
      "cell_type": "code",
      "execution_count": null,
      "metadata": {
        "id": "MvO51vrIETae"
      },
      "outputs": [],
      "source": [
        "plot_simulation_trajectories(df, columns=[f\"exp_{i}\" for i in range(0, n_experiments, 20)])"
      ]
    },
    {
      "cell_type": "code",
      "execution_count": null,
      "metadata": {
        "id": "YmvnjPk7ETae"
      },
      "outputs": [],
      "source": [
        "# compute transition frequencies from statistics\n",
        "P_freq = np.zeros_like(P)\n",
        "\n",
        "\n",
        "def fill_p_freq(x: np.ndarray, y: np.ndarray) -> np.ndarray:\n",
        "    P_freq[x, y] += 1\n",
        "    return y\n",
        "\n",
        "_ = reduce(fill_p_freq, pi_consecutive)\n",
        "\n",
        "unique, counts = np.unique(pi_consecutive, return_counts=True)\n",
        "px.bar(x=unique, y=counts, title=\"Value Counts (task 1)\")"
      ]
    },
    {
      "cell_type": "code",
      "execution_count": null,
      "metadata": {
        "id": "MmzGs2z2ETaf"
      },
      "outputs": [],
      "source": [
        "counts = np.zeros((n_experiments, n))\n",
        "\n",
        "for i, experiment in enumerate(pi_consecutive.T):\n",
        "    un, cnts = np.unique(experiment, return_counts=True)\n",
        "    counts[i][un] = cnts\n",
        "\n",
        "counts = counts / counts.sum(-1).reshape(-1, 1)\n",
        "px.imshow(\n",
        "    counts.T,\n",
        "    title=f\"Conditional state frequencies for {n_experiments} experiments, {n_steps} timesteps\",\n",
        "    height=600,\n",
        "    color_continuous_scale=\"magma\",\n",
        ")\n"
      ]
    },
    {
      "cell_type": "code",
      "execution_count": null,
      "metadata": {
        "id": "sgpYXRr6ETaf"
      },
      "outputs": [],
      "source": [
        "show_matrix(P).show()\n",
        "show_matrix(P_lim).show()"
      ]
    },
    {
      "cell_type": "code",
      "execution_count": null,
      "metadata": {
        "id": "0NO8OIB7ETaf"
      },
      "outputs": [],
      "source": [
        "# what is the proper way of filling the frequency matrix?\n",
        "empty = P_freq.sum(-1) <= 1e-10\n",
        "\n",
        "P_freq_normed = P_freq\n",
        "P_freq_normed[empty, empty] = 1\n",
        "P_freq_normed /= P_freq_normed.sum(-1).reshape(-1, 1)\n",
        "\n",
        "show_matrix(P_freq_normed)"
      ]
    },
    {
      "cell_type": "code",
      "execution_count": null,
      "metadata": {
        "id": "I6askSLnETaf"
      },
      "outputs": [],
      "source": [
        "def count_freqs(pi_cons: np.ndarray) -> np.ndarray:\n",
        "    counts = np.zeros((n_steps, n))\n",
        "\n",
        "    for i, step in enumerate(pi_consecutive):\n",
        "        un, cnts = np.unique(step, return_counts=True, axis=0)\n",
        "        counts[i][un] = cnts\n",
        "\n",
        "    return counts\n",
        "\n",
        "\n",
        "def show_frequency_barplot(counts: np.ndarray) -> go.Figure:\n",
        "    cols = [f\"S_{i}\" for i in range(n)]\n",
        "    df = pd.DataFrame(counts, columns=cols)\n",
        "    df[\"timestep\"] = df.index\n",
        "    return px.bar(df, x=\"timestep\", y=cols, title=f\"State Frequencies per step\")\n",
        "\n",
        "\n",
        "def compute_stats(counts: np.ndarray) -> pd.DataFrame:\n",
        "    cols = [f\"S_{i}\" for i in range(n)]\n",
        "    return pd.DataFrame(counts, columns=cols).describe()"
      ]
    },
    {
      "cell_type": "code",
      "execution_count": null,
      "metadata": {
        "id": "cNsKO67nETag"
      },
      "outputs": [],
      "source": [
        "counts = count_freqs(pi_consecutive)\n",
        "show_matrix(counts.T, zmax=None, zmin=None, title=\"State Frequencies per step (heatmap)\").show()\n",
        "show_frequency_barplot(counts).show()\n",
        "stats = compute_stats(counts)\n",
        "px.bar(stats.T, y=[\"std\"], title=\"Per State Statistics\").show()\n",
        "stats"
      ]
    },
    {
      "cell_type": "code",
      "execution_count": null,
      "metadata": {
        "id": "WWBnPjnoETag"
      },
      "outputs": [],
      "source": [
        "# perform the same experiment, but start from state 1 in\n",
        "# almost all cases: the system stabilizes within couple of steps\n",
        "# and distribution converges to the one on the previous figure\n",
        "pi_consecutive = np.zeros((n_steps, n_experiments), dtype=int)\n",
        "pi_consecutive[0] = np.array([0, 1, 2, 3, 4] + [1] * (n_experiments - 5))\n",
        "pi_consecutive = reduce(\n",
        "    emulate_propagation, enumerate(repeat(P, times=n_steps - 1)), pi_consecutive\n",
        ")\n",
        "\n",
        "counts = count_freqs(pi_consecutive)\n",
        "show_matrix(counts.T, zmax=None, zmin=None, title=\"State Frequencies per step (heatmap)\").show()\n",
        "show_frequency_barplot(counts).show()"
      ]
    },
    {
      "cell_type": "markdown",
      "metadata": {
        "id": "VxHUVAtiETag"
      },
      "source": [
        "## **Problem 2**"
      ]
    },
    {
      "cell_type": "code",
      "execution_count": null,
      "metadata": {
        "id": "aOz6PZ1UETag"
      },
      "outputs": [],
      "source": [
        "# load data from text file\n",
        "P = np.genfromtxt(\n",
        "    StringIO(\n",
        "        \"\"\"0.12, 0.00, 0.00, 0.00, 0.00, 0.00, 0.00, 0.00, 0.00, 0.00, 0.00, 0.00, 0.88, 0.00, 0.00\n",
        "0.00, 0.14, 0.00, 0.26, 0.29, 0.00, 0.00, 0.00, 0.00, 0.16, 0.00, 0.15, 0.00, 0.00, 0.00\n",
        "0.12, 0.00, 0.24, 0.00, 0.00, 0.00, 0.00, 0.00, 0.00, 0.00, 0.00, 0.00, 0.64, 0.00, 0.00\n",
        "0.00, 0.13, 0.00, 0.19, 0.00, 0.00, 0.00, 0.00, 0.00, 0.24, 0.00, 0.17, 0.00, 0.27, 0.00\n",
        "0.00, 0.00, 0.00, 0.00, 0.24, 0.00, 0.12, 0.40, 0.00, 0.00, 0.24, 0.00, 0.00, 0.00, 0.00\n",
        "0.00, 0.00, 0.00, 0.00, 0.00, 0.00, 0.00, 0.00, 0.24, 0.00, 0.00, 0.00, 0.00, 0.52, 0.24\n",
        "0.00, 0.00, 0.00, 0.00, 0.24, 0.00, 0.00, 0.40, 0.00, 0.00, 0.36, 0.00, 0.00, 0.00, 0.00\n",
        "0.00, 0.00, 0.00, 0.00, 0.24, 0.00, 0.26, 0.16, 0.00, 0.00, 0.34, 0.00, 0.00, 0.00, 0.00\n",
        "0.00, 0.00, 0.00, 0.00, 0.00, 0.00, 0.00, 0.00, 0.24, 0.00, 0.00, 0.00, 0.00, 0.64, 0.12\n",
        "0.26, 0.22, 0.00, 0.12, 0.00, 0.00, 0.00, 0.00, 0.00, 0.22, 0.00, 0.18, 0.00, 0.00, 0.00\n",
        "0.00, 0.00, 0.00, 0.00, 0.00, 0.00, 0.12, 0.64, 0.00, 0.00, 0.24, 0.00, 0.00, 0.00, 0.00\n",
        "0.00, 0.23, 0.00, 0.31, 0.00, 0.00, 0.00, 0.00, 0.00, 0.21, 0.00, 0.25, 0.00, 0.00, 0.00\n",
        "0.34, 0.00, 0.34, 0.00, 0.00, 0.00, 0.00, 0.00, 0.00, 0.00, 0.00, 0.00, 0.32, 0.00, 0.00\n",
        "0.00, 0.00, 0.00, 0.00, 0.00, 0.23, 0.00, 0.00, 0.21, 0.00, 0.00, 0.00, 0.00, 0.27, 0.29\n",
        "0.00, 0.00, 0.00, 0.00, 0.00, 0.24, 0.00, 0.00, 0.12, 0.00, 0.00, 0.00, 0.00, 0.52, 0.12\"\"\"\n",
        "    ),\n",
        "    delimiter=\",\",\n",
        ")\n",
        "# changed 0.22 to 0.23 on position (11, 1) so that row entries sum up to 1\n",
        "n = len(P)"
      ]
    },
    {
      "cell_type": "code",
      "execution_count": null,
      "metadata": {
        "id": "V8_S6eDVETag"
      },
      "outputs": [],
      "source": [
        "# visualize the transition matrix as a directed weighted graph\n",
        "\n",
        "f = graphviz.Digraph(\"dmc-task-2\", filename=\"dmc-2.gv\", engine=\"dot\")\n",
        "f.attr(rankdir=\"LR\", size=\"9\", title=\"Markov Chain\", labelloc=\"t\")\n",
        "f.attr(\"node\", shape=\"circle\", color=\"crimson\", fillcolor=\"crimson\", style=\"filled\")\n",
        "f.attr(\"edge\", color=\"gainsboro\")\n",
        "\n",
        "for i, weights in enumerate(P):\n",
        "    for j, weight in filter(lambda x: x[-1] > 0, enumerate(weights)):\n",
        "        f.edge(f\"S_{i}\", f\"S_{j}\", label=f\"{weight}\")\n",
        "\n",
        "f"
      ]
    },
    {
      "cell_type": "code",
      "execution_count": null,
      "metadata": {
        "id": "jiOeiPlIETah"
      },
      "outputs": [],
      "source": [
        "# rearrange the indices so that states forming a communication class\n",
        "# become neighbours\n",
        "clusteds_sorted = np.array([1, 3, 9, 11, 0, 2, 12, 4, 6, 7, 10, 5, 8, 13, 14])\n",
        "P_renamed = P[:, clusteds_sorted][clusteds_sorted]"
      ]
    },
    {
      "cell_type": "code",
      "execution_count": null,
      "metadata": {
        "id": "RzkOEbcPETah"
      },
      "outputs": [],
      "source": [
        "# for now, deduce these classes manually\n",
        "recurrent_classes = (np.array([0, 2, 12]), np.array([4, 6, 7, 10]), np.array([5, 8, 13, 14]))"
      ]
    },
    {
      "cell_type": "code",
      "execution_count": null,
      "metadata": {
        "id": "ZhW35S66ETah"
      },
      "outputs": [],
      "source": [
        "# visualizes transition diagram with nodes renamed\n",
        "f = graphviz.Digraph(\"dmc-task-2\", filename=\"dmc-2-renamed.gv\", engine=\"dot\")\n",
        "f.attr(rankdir=\"LR\", size=\"9\", title=\"Markov Chain\", labelloc=\"t\")\n",
        "f.attr(\"edge\", color=\"gainsboro\")\n",
        "f.attr(\"node\", shape=\"circle\", style=\"filled\")\n",
        "\n",
        "for color, nodes in zip((\"#f5f5dc\", \"crimson\", \"teal\", \"plum\"), (range(4), range(4, 4+3), range(4+3, 4+3+4), range(4+3+4, 4+3+4+4))):\n",
        "    f.attr(\"node\", color=color, fillcolor=color)\n",
        "    for node in nodes:\n",
        "        f.node(f\"S_{node}\")\n",
        "\n",
        "for i, weights in enumerate(P_renamed):\n",
        "    for j, weight in filter(lambda x: x[-1] > 0, enumerate(weights)):\n",
        "        f.edge(f\"S_{i}\", f\"S_{j}\", label=f\"{weight}\")\n",
        "\n",
        "f"
      ]
    },
    {
      "cell_type": "code",
      "execution_count": null,
      "metadata": {
        "id": "5ZqaYAdeETah"
      },
      "outputs": [],
      "source": [
        "show_matrix(P, title=\"Transition matrix (initial view)\").show()\n",
        "show_matrix(P_renamed, title=\"Transition matrix (node indices rearranged)\").show()"
      ]
    },
    {
      "cell_type": "code",
      "execution_count": null,
      "metadata": {
        "id": "vGXenianETah"
      },
      "outputs": [],
      "source": [
        "# create transition matrix for transient states only\n",
        "# replace recurrent classes with absorbing states\n",
        "# (i.e., self-loop probability for such states is 1.0)\n",
        "transient_trunc = np.array([0, 1, 2, 3, 4, 7, 13])\n",
        "trunc_size = len(transient_trunc)\n",
        "transient_size = 4\n",
        "\n",
        "P_trans_trunc = P_renamed[:, transient_trunc][transient_trunc]\n",
        "P_trans_trunc[transient_size:, transient_size:] = np.eye(trunc_size - transient_size)"
      ]
    },
    {
      "cell_type": "code",
      "execution_count": null,
      "metadata": {
        "id": "z1tfDfIeETai"
      },
      "outputs": [],
      "source": [
        "show_matrix(\n",
        "    P_trans_trunc,\n",
        "    title=\"Transition matrix for transient communication class \\\n",
        "(recurrent classes replaced with absorbing states)\",\n",
        ")\n"
      ]
    },
    {
      "cell_type": "code",
      "execution_count": null,
      "metadata": {
        "id": "1hzRtnTwETai"
      },
      "outputs": [],
      "source": [
        "k = 10  # arbitraty\n",
        "P_trans_lim = reduce(lambda x, p: x @ p, repeat(P_trans_trunc, times=10))\n",
        "show_matrix(P_trans_lim, title=\"Limiting distribution for transient states\")"
      ]
    },
    {
      "cell_type": "code",
      "execution_count": null,
      "metadata": {
        "id": "0tlbGBHeETai"
      },
      "outputs": [],
      "source": [
        "# assemble the limiting transition matrix\n",
        "# from separate blocks corresponding to recurrent communication\n",
        "# classes (i.e., the 3 clusters)\n",
        "P_lim_partial = np.zeros_like(P)\n",
        "\n",
        "for recurrent in recurrent_classes:\n",
        "    P_lim_class = P[:, recurrent][recurrent]\n",
        "    P_lim_class = reduce(lambda x, p: x @ p, repeat(P_lim_class, times=k))\n",
        "    P_lim_partial[np.ix_(recurrent, recurrent)] = P_lim_class\n",
        "\n",
        "# once again, sort w.r.t. communcation classes\n",
        "P_lim_partial_renamed = P_lim_partial[:, clusteds_sorted][clusteds_sorted]\n",
        "# note that the first 4 rows are still empty in this matrix\n",
        "show_matrix(P_lim_partial_renamed, title=\"Limiting distribution (only recurrent states)\")"
      ]
    },
    {
      "cell_type": "code",
      "execution_count": null,
      "metadata": {
        "id": "QV9diF9QETai"
      },
      "outputs": [],
      "source": [
        "# extract probabilities to \"sink\" into recurrent classes\n",
        "# when starting in the transient one\n",
        "P_trans_to_recurrent = P_trans_lim[:transient_size, transient_size:]\n",
        "show_matrix(\n",
        "    P_trans_to_recurrent,\n",
        "    title=\"Probas for transient state to \\\n",
        "'sink' to recurrent states\",\n",
        ").show()\n",
        "\n",
        "# extract limiting probas per recurrent class\n",
        "P_lim_per_cluster = P_lim_partial_renamed[[4, 7, 11]]\n",
        "show_matrix(\n",
        "    P_lim_per_cluster, title=\"Transition probas for each recurrent class\"\n",
        ").show()\n",
        "\n",
        "# multiplication product for these 2 matrices can be\n",
        "# interpreted as per-cluster probas smoothed by\n",
        "# probas to escape to a particular cluster\n",
        "show_matrix(\n",
        "    P_trans_to_recurrent @ P_lim_per_cluster,\n",
        "    title=\"Product of two matrices above, \\\n",
        "per-cluster probas smoothed out by 'sink' probas\",\n",
        ").show()\n"
      ]
    },
    {
      "cell_type": "code",
      "execution_count": null,
      "metadata": {
        "id": "IdiPgJbNETai"
      },
      "outputs": [],
      "source": [
        "# assemble the matrix from 2 steps above\n",
        "P_lim_partial_renamed[:transient_size] = P_trans_to_recurrent @ P_lim_per_cluster\n",
        "P_lim_partial_renamed[:transient_size, :transient_size] = P_trans_lim[:transient_size, :transient_size]"
      ]
    },
    {
      "cell_type": "code",
      "execution_count": null,
      "metadata": {
        "id": "rRnaHmLjETaj"
      },
      "outputs": [],
      "source": [
        "# viola, we obtained a matrix very simular to the one obtained by\n",
        "# repeated multiplication if the entire transition matrix, hence\n",
        "# the problem dimensionality was reduced\n",
        "show_matrix(P_lim_partial_renamed, title=\"Finally, assembled limiting transition matrix\").show()"
      ]
    },
    {
      "cell_type": "code",
      "execution_count": null,
      "metadata": {
        "id": "SvRgm2VKETaj"
      },
      "outputs": [],
      "source": [
        "# for sake of simplicity, work with the\n",
        "# rearranged version of this matrix\n",
        "P = P_renamed\n",
        "\n",
        "k = 10\n",
        "P_lim = reduce(lambda x, p: x @ p, repeat(P, times=k))\n",
        "show_matrix(P_lim, title=f\"Transition matrix P^{k}\")"
      ]
    },
    {
      "cell_type": "code",
      "execution_count": null,
      "metadata": {
        "id": "znALRs_gETaj"
      },
      "outputs": [],
      "source": [
        "# try to obtain stationary distribution as a\n",
        "# left eigenvector of transition matrix\n",
        "\n",
        "laplacian = P - np.eye(*P.shape)\n",
        "show_matrix(laplacian, zmax=None, zmin=None)"
      ]
    },
    {
      "cell_type": "code",
      "execution_count": null,
      "metadata": {
        "id": "Do9XyD51ETaj"
      },
      "outputs": [],
      "source": [
        "n_experiments = 200\n",
        "n_steps = 100\n",
        "gen = np.random.default_rng(seed=30)\n",
        "\n",
        "random_pi_0 = gen.random((20, n))\n",
        "random_pi_0 /= random_pi_0.sum(-1).reshape(-1, 1)\n",
        "\n",
        "# simulate system for given number of steps\n",
        "random_pi_lim = reduce(lambda x, p: x @ p, repeat(P, times=n_steps), random_pi_0)\n",
        "show_matrix(np.atleast_2d(random_pi_lim))"
      ]
    },
    {
      "cell_type": "code",
      "execution_count": null,
      "metadata": {
        "id": "KTAz46vyETaj"
      },
      "outputs": [],
      "source": [
        "from typing import Tuple\n",
        "\n",
        "gen = np.random.default_rng(seed=30)\n",
        "random_pi_0 = gen.choice(n, size=(n_experiments), replace=True)\n",
        "identity = np.eye(n)\n",
        "\n",
        "\n",
        "def emulate_propagation(A: np.ndarray, curr: Tuple[int, np.ndarray]) -> np.ndarray:\n",
        "    idx, p = curr\n",
        "    prev_state = A[idx]\n",
        "    ohe_pi_prev = identity[prev_state]\n",
        "    # print(f\"{prev_state.shape=}, {ohe_pi_prev.shape=}\")\n",
        "    probas = ohe_pi_prev @ p\n",
        "    # print(f\"{probas.shape=}\")\n",
        "    A[idx + 1] = (probas.cumsum(1) > gen.random(probas.shape[0])[:,None]).argmax(1)\n",
        "    return A\n",
        "\n",
        "\n",
        "pi_consecutive = np.zeros((n_steps, n_experiments), dtype=int)\n",
        "pi_consecutive[0] = random_pi_0\n",
        "\n",
        "pi_consecutive = reduce(\n",
        "    emulate_propagation, enumerate(repeat(P, times=n_steps - 1)), pi_consecutive\n",
        ")"
      ]
    },
    {
      "cell_type": "code",
      "execution_count": null,
      "metadata": {
        "id": "yVq_YJ1cETaj"
      },
      "outputs": [],
      "source": [
        "df = pd.DataFrame(pi_consecutive, columns=[f\"exp_{i}\" for i in range(n_experiments)])"
      ]
    },
    {
      "cell_type": "code",
      "execution_count": null,
      "metadata": {
        "id": "G6dRdiIeETak"
      },
      "outputs": [],
      "source": [
        "plot_simulation_trajectories(df, columns=[f\"exp_{i}\" for i in range(0, n_experiments, 10)])"
      ]
    },
    {
      "cell_type": "code",
      "execution_count": null,
      "metadata": {
        "id": "xcjrwxwTETak"
      },
      "outputs": [],
      "source": [
        "P_freq = np.zeros_like(P)\n",
        "\n",
        "\n",
        "def fill_p_freq(x: np.ndarray, y: np.ndarray) -> np.ndarray:\n",
        "    P_freq[x, y] += 1\n",
        "    return y\n",
        "\n",
        "_ = reduce(fill_p_freq, pi_consecutive)"
      ]
    },
    {
      "cell_type": "code",
      "execution_count": null,
      "metadata": {
        "id": "wHWo99QzETak"
      },
      "outputs": [],
      "source": [
        "unique, counts = np.unique(pi_consecutive, return_counts=True)"
      ]
    },
    {
      "cell_type": "code",
      "execution_count": null,
      "metadata": {
        "id": "Lg-haB7DETak"
      },
      "outputs": [],
      "source": [
        "px.bar(x=unique, y=counts, title=\"Value Counts (task 2)\")"
      ]
    },
    {
      "cell_type": "code",
      "execution_count": null,
      "metadata": {
        "id": "BWQufcfiETak"
      },
      "outputs": [],
      "source": [
        "counts = count_freqs(pi_consecutive)\n",
        "show_matrix(\n",
        "    counts.T,\n",
        "    zmax=None,\n",
        "    zmin=None,\n",
        "    title=f\"Conditional state frequencies for {n_experiments} experiments, {n_steps} timesteps\",\n",
        ").show()\n",
        "show_frequency_barplot(counts).show()\n",
        "counts = count_freqs(pi_consecutive)\n",
        "stats = compute_stats(counts)\n",
        "px.bar(stats.T, y=[\"std\"], title=\"Per State Statistics\").show()\n",
        "stats"
      ]
    },
    {
      "cell_type": "code",
      "execution_count": null,
      "metadata": {
        "id": "au9QiTasETak"
      },
      "outputs": [],
      "source": [
        "# one can observe that system tends to eventually sink into one of\n",
        "# recurrent communication classes"
      ]
    },
    {
      "cell_type": "code",
      "execution_count": null,
      "metadata": {
        "tags": [],
        "id": "ZS-2vZ8METal"
      },
      "outputs": [],
      "source": [
        "# construct transition matrix approximation from transition frequencies\n",
        "empty = P_freq.sum(-1) <= 1e-10\n",
        "\n",
        "P_freq_normed = P_freq\n",
        "P_freq_normed[empty, empty] = 1\n",
        "P_freq_normed /= P_freq_normed.sum(-1).reshape(-1, 1)\n",
        "\n",
        "show_matrix(P_freq_normed)"
      ]
    }
  ],
  "metadata": {
    "kernelspec": {
      "display_name": "Python 3 (ipykernel)",
      "language": "python",
      "name": "python3"
    },
    "language_info": {
      "codemirror_mode": {
        "name": "ipython",
        "version": 3
      },
      "file_extension": ".py",
      "mimetype": "text/x-python",
      "name": "python",
      "nbconvert_exporter": "python",
      "pygments_lexer": "ipython3",
      "version": "3.10.9"
    },
    "vscode": {
      "interpreter": {
        "hash": "d4d1e4263499bec80672ea0156c357c1ee493ec2b1c70f0acce89fc37c4a6abe"
      }
    },
    "colab": {
      "provenance": [],
      "include_colab_link": true
    }
  },
  "nbformat": 4,
  "nbformat_minor": 0
}